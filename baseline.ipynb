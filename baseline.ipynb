{
 "cells": [
  {
   "cell_type": "markdown",
   "id": "89372ad0",
   "metadata": {},
   "source": [
    "## Baseline"
   ]
  },
  {
   "cell_type": "code",
   "execution_count": 1,
   "id": "8d6be995",
   "metadata": {},
   "outputs": [
    {
     "name": "stdout",
     "output_type": "stream",
     "text": [
      "Requirement already satisfied: isodate in c:\\users\\domaf\\anaconda3\\lib\\site-packages (0.6.1)\n",
      "Requirement already satisfied: six in c:\\users\\domaf\\anaconda3\\lib\\site-packages (from isodate) (1.16.0)\n",
      "Requirement already satisfied: plotly in c:\\users\\domaf\\anaconda3\\lib\\site-packages (5.9.0)\n",
      "Requirement already satisfied: tenacity>=6.2.0 in c:\\users\\domaf\\anaconda3\\lib\\site-packages (from plotly) (8.0.1)\n"
     ]
    },
    {
     "name": "stderr",
     "output_type": "stream",
     "text": [
      "[nltk_data] Downloading package stopwords to\n",
      "[nltk_data]     C:\\Users\\domaf\\AppData\\Roaming\\nltk_data...\n",
      "[nltk_data]   Package stopwords is already up-to-date!\n"
     ]
    }
   ],
   "source": [
    "# Importando bibliotecas\n",
    "from libs import *\n",
    "from utils import *"
   ]
  },
  {
   "cell_type": "markdown",
   "id": "fc38b188",
   "metadata": {},
   "source": [
    "1. Carregando base de dados em um DataFrame do Pandas."
   ]
  },
  {
   "cell_type": "code",
   "execution_count": 2,
   "id": "c63cd52f",
   "metadata": {},
   "outputs": [],
   "source": [
    "# Definindo dataframe preprocessado antes dos pipelines\n",
    "df_baseline = pd.read_csv('data/data1.csv')"
   ]
  },
  {
   "cell_type": "code",
   "execution_count": 3,
   "id": "bc293e5a",
   "metadata": {},
   "outputs": [],
   "source": [
    "# Amostra de 10%\n",
    "#df_baseline = df_baseline.sample(frac=0.1, random_state=42) "
   ]
  },
  {
   "cell_type": "code",
   "execution_count": 4,
   "id": "2abe5631",
   "metadata": {},
   "outputs": [
    {
     "data": {
      "text/plain": [
       "(36642, 18)"
      ]
     },
     "execution_count": 4,
     "metadata": {},
     "output_type": "execute_result"
    }
   ],
   "source": [
    "# Dimensões\n",
    "df_baseline.shape"
   ]
  },
  {
   "cell_type": "code",
   "execution_count": 5,
   "id": "768622ba",
   "metadata": {},
   "outputs": [],
   "source": [
    "# Definindo colunas numéricas, categóricas e textuais\n",
    "numeric_features = ['year', 'video_count', 'view_count_x', 'subscriber_count', \n",
    "                    'aux_status', 'comment_count_y','dislike_count', 'view_count_y',\n",
    "                        'like_count', 'video_duration', 'published_at']\n",
    "\n",
    "categorical_features = ['channel_id','category', 'gender']\n",
    "\n",
    "textual_features = ['video_title', 'video_desc']"
   ]
  },
  {
   "cell_type": "markdown",
   "id": "f2783918",
   "metadata": {},
   "source": [
    "2. Dividindo os dados em treino e teste, de maneira a evitar vazamento de dados (data leakage)."
   ]
  },
  {
   "cell_type": "code",
   "execution_count": 6,
   "id": "284c98ea",
   "metadata": {},
   "outputs": [],
   "source": [
    "# Separando features (X) e alvo (y)\n",
    "X = df_baseline.drop(['popularity','video_title', 'video_desc'], axis=1)\n",
    "y = df_baseline['popularity']\n",
    "\n",
    "# Dividindo o dataframe em conjunto de treinamento e teste \n",
    "X_train_baseline, X_test_baseline, y_train_baseline, y_test_baseline = train_test_split(X, y, test_size=0.3, random_state=42)"
   ]
  },
  {
   "cell_type": "markdown",
   "id": "cae0346e",
   "metadata": {},
   "source": [
    "3. Definindo etapas de pré-processamento para as features numéricas e categóricas."
   ]
  },
  {
   "cell_type": "code",
   "execution_count": 7,
   "id": "135edfcc",
   "metadata": {},
   "outputs": [],
   "source": [
    "# Aplicando RobustScaler nas colunas numéricas\n",
    "scaler = RobustScaler()\n",
    "\n",
    "X_train_baseline_numeric = scaler.fit_transform(X_train_baseline[numeric_features])\n",
    "X_test_baseline_numeric = scaler.transform(X_test_baseline[numeric_features])"
   ]
  },
  {
   "cell_type": "code",
   "execution_count": 8,
   "id": "4d0218ab",
   "metadata": {},
   "outputs": [
    {
     "name": "stdout",
     "output_type": "stream",
     "text": [
      "[-0.4         1.50127443 -0.2304174  -0.3673031   0.         -0.01924399\n",
      " -0.05544933 -0.21257568 -0.2833341  -0.16302187  0.49990914]\n"
     ]
    }
   ],
   "source": [
    "# 11 features numéricas transformadas\n",
    "print(X_train_baseline_numeric[0])"
   ]
  },
  {
   "cell_type": "code",
   "execution_count": 9,
   "id": "2d96b3a7",
   "metadata": {},
   "outputs": [],
   "source": [
    "# Aplicando OneHotEncoder nas colunas categóricas com handle_unknown='ignore'\n",
    "encoder = OneHotEncoder(handle_unknown='ignore')\n",
    "\n",
    "X_train_baseline_categorical = encoder.fit_transform(X_train_baseline[categorical_features])\n",
    "X_test_baseline_categorical = encoder.transform(X_test_baseline[categorical_features])"
   ]
  },
  {
   "cell_type": "code",
   "execution_count": 10,
   "id": "197e2feb",
   "metadata": {},
   "outputs": [
    {
     "name": "stdout",
     "output_type": "stream",
     "text": [
      "  (0, 40)\t1.0\n",
      "  (0, 127)\t1.0\n",
      "  (0, 129)\t1.0\n"
     ]
    }
   ],
   "source": [
    "# 3 features categóricas representadas em matriz esparsa\n",
    "print(X_train_baseline_categorical[0])"
   ]
  },
  {
   "cell_type": "code",
   "execution_count": 11,
   "id": "24957186",
   "metadata": {},
   "outputs": [
    {
     "name": "stdout",
     "output_type": "stream",
     "text": [
      "[0. 0. 0. 0. 0. 0. 0. 0. 0. 0. 0. 0. 0. 0. 0. 0. 0. 0. 0. 0. 0. 0. 0. 0.\n",
      " 0. 0. 0. 0. 0. 0. 0. 0. 0. 0. 0. 0. 0. 0. 0. 0. 1. 0. 0. 0. 0. 0. 0. 0.\n",
      " 0. 0. 0. 0. 0. 0. 0. 0. 0. 0. 0. 0. 0. 0. 0. 0. 0. 0. 0. 0. 0. 0. 0. 0.\n",
      " 0. 0. 0. 0. 0. 0. 0. 0. 0. 0. 0. 0. 0. 0. 0. 0. 0. 0. 0. 0. 0. 0. 0. 0.\n",
      " 0. 0. 0. 0. 0. 0. 0. 0. 0. 0. 0. 0. 0. 0. 0. 0. 0. 0. 0. 0. 0. 0. 0. 0.\n",
      " 0. 0. 0. 0. 0. 0. 0. 1. 0. 1. 0. 0. 0. 0.]\n"
     ]
    }
   ],
   "source": [
    "# 3 features categóricas representadas em matriz densa\n",
    "print(X_train_baseline_categorical.toarray()[0])"
   ]
  },
  {
   "cell_type": "code",
   "execution_count": 12,
   "id": "355bcea9",
   "metadata": {},
   "outputs": [],
   "source": [
    "# Transformando as features categóricas em matriz densa (array) para combinar com outras features no futuro\n",
    "X_train_baseline_categorical = X_train_baseline_categorical.toarray()\n",
    "X_test_baseline_categorical = X_test_baseline_categorical.toarray()"
   ]
  },
  {
   "cell_type": "markdown",
   "id": "20d0dc4f",
   "metadata": {},
   "source": [
    "4. Concatenando através de `np.hstack` as features transformadas para treino e teste."
   ]
  },
  {
   "cell_type": "code",
   "execution_count": 13,
   "id": "f0030c90",
   "metadata": {},
   "outputs": [],
   "source": [
    "# Concatenando todas as features processadas\n",
    "X_train_baseline_preprocessed = np.hstack((X_train_baseline_numeric,\n",
    "                                           X_train_baseline_categorical))\n",
    "\n",
    "X_test_baseline_preprocessed = np.hstack((X_test_baseline_numeric,\n",
    "                                          X_test_baseline_categorical))"
   ]
  },
  {
   "cell_type": "markdown",
   "id": "0f1b4b3a",
   "metadata": {},
   "source": [
    "5. Treinando e testando modelo de classificação multiclasse."
   ]
  },
  {
   "cell_type": "code",
   "execution_count": 14,
   "id": "eb8c2ca9",
   "metadata": {},
   "outputs": [],
   "source": [
    "# Instanciando modelo para classificação multiclasse\n",
    "model = SVC(class_weight='balanced', random_state=42)\n",
    "\n",
    "# Treinando o modelo com os dados de treinamento completos\n",
    "model.fit(X_train_baseline_preprocessed, y_train_baseline)\n",
    "\n",
    "# Testando modelo nos dados de teste\n",
    "prediction = model.predict(X_test_baseline_preprocessed)"
   ]
  },
  {
   "cell_type": "markdown",
   "id": "1316ab7a",
   "metadata": {},
   "source": [
    "6. Imprimindo relatório das métricas de avaliação e matriz de confusão."
   ]
  },
  {
   "cell_type": "code",
   "execution_count": 15,
   "id": "10248f1e",
   "metadata": {},
   "outputs": [
    {
     "name": "stdout",
     "output_type": "stream",
     "text": [
      "\n",
      "Relatório de Classificação:\n",
      "              precision    recall  f1-score   support\n",
      "\n",
      "           0       0.96      0.89      0.92      6140\n",
      "           1       0.81      0.85      0.83      3372\n",
      "           2       0.80      0.93      0.86      1481\n",
      "\n",
      "    accuracy                           0.88     10993\n",
      "   macro avg       0.86      0.89      0.87     10993\n",
      "weighted avg       0.89      0.88      0.89     10993\n",
      "\n",
      "\n",
      "Matriz de Confusão:\n",
      "[[5466  602   72]\n",
      " [ 221 2878  273]\n",
      " [  16   83 1382]]\n"
     ]
    }
   ],
   "source": [
    "# Imprimindo métricas de avaliação do modelo\n",
    "print('\\nRelatório de Classificação:')\n",
    "cr_baseline = classification_report(y_test_baseline, prediction)\n",
    "print(cr_baseline)\n",
    "\n",
    "print('\\nMatriz de Confusão:')\n",
    "cm_baseline = confusion_matrix(y_test_baseline, prediction)\n",
    "print(cm_baseline)"
   ]
  },
  {
   "cell_type": "code",
   "execution_count": 16,
   "id": "8a60b7c4",
   "metadata": {},
   "outputs": [
    {
     "data": {
      "image/png": "[encoded data removed]",
      "text/plain": [
       "<Figure size 500x400 with 2 Axes>"
      ]
     },
     "metadata": {},
     "output_type": "display_data"
    }
   ],
   "source": [
    "# Plotando a matriz de confusão como heatmap\n",
    "labels = ['ALTA', 'BAIXA', 'MEDIA']\n",
    "plot_confusion_matrix(y_test_baseline, prediction, labels)"
   ]
  },
  {
   "cell_type": "code",
   "execution_count": 17,
   "id": "6cd29c5b",
   "metadata": {},
   "outputs": [],
   "source": [
    "# Avaliando modelo por feature (categoria)\n",
    "def evaluate_model_by_feature(X_test, y_test, ft):\n",
    "\n",
    "    unique_features = X_test[ft].unique()\n",
    "    \n",
    "    for feature in unique_features:\n",
    "        # Filtrando as previsões e rótulos verdadeiros para a categoria específica\n",
    "        indices = X_test[ft] == feature\n",
    "        predictions = prediction[indices]\n",
    "        true_labels = y_test[indices]\n",
    "\n",
    "        # Avaliando o desempenho para a categoria específica\n",
    "        print(f'\\n{ft}: {feature}')\n",
    "        print(classification_report(true_labels, predictions, zero_division=1))\n",
    "        print(confusion_matrix(true_labels, predictions))\n",
    "        \n",
    "        # Plotando a matriz de confusão como heatmap\n",
    "        #labels = ['ALTA', 'BAIXA', 'MEDIA']\n",
    "        #plot_confusion_matrix(y_test_baseline, prediction, labels)"
   ]
  },
  {
   "cell_type": "code",
   "execution_count": 18,
   "id": "2e7217c8",
   "metadata": {},
   "outputs": [
    {
     "name": "stdout",
     "output_type": "stream",
     "text": [
      "\n",
      "category: Família\n",
      "              precision    recall  f1-score   support\n",
      "\n",
      "           0       0.97      0.91      0.94       120\n",
      "           1       0.86      0.85      0.85       105\n",
      "           2       0.57      0.81      0.67        21\n",
      "\n",
      "    accuracy                           0.87       246\n",
      "   macro avg       0.80      0.86      0.82       246\n",
      "weighted avg       0.89      0.87      0.88       246\n",
      "\n",
      "[[109  11   0]\n",
      " [  3  89  13]\n",
      " [  0   4  17]]\n",
      "\n",
      "category: Esporte\n",
      "              precision    recall  f1-score   support\n",
      "\n",
      "           0       0.98      0.97      0.98       352\n",
      "           1       0.86      0.83      0.84       101\n",
      "           2       0.88      0.95      0.92        86\n",
      "\n",
      "    accuracy                           0.94       539\n",
      "   macro avg       0.91      0.92      0.91       539\n",
      "weighted avg       0.94      0.94      0.94       539\n",
      "\n",
      "[[342  10   0]\n",
      " [  6  84  11]\n",
      " [  0   4  82]]\n",
      "\n",
      "category: Games\n",
      "              precision    recall  f1-score   support\n",
      "\n",
      "           0       1.00      0.89      0.94       469\n",
      "           1       0.80      0.88      0.84       243\n",
      "           2       0.77      1.00      0.87        89\n",
      "\n",
      "    accuracy                           0.90       801\n",
      "   macro avg       0.86      0.92      0.88       801\n",
      "weighted avg       0.91      0.90      0.90       801\n",
      "\n",
      "[[416  53   0]\n",
      " [  1 215  27]\n",
      " [  0   0  89]]\n",
      "\n",
      "category: Moda\n",
      "              precision    recall  f1-score   support\n",
      "\n",
      "           0       0.99      0.88      0.93       234\n",
      "           1       0.84      0.95      0.89       176\n",
      "           2       0.86      0.88      0.87        43\n",
      "\n",
      "    accuracy                           0.91       453\n",
      "   macro avg       0.90      0.91      0.90       453\n",
      "weighted avg       0.92      0.91      0.91       453\n",
      "\n",
      "[[207  27   0]\n",
      " [  2 168   6]\n",
      " [  0   5  38]]\n",
      "\n",
      "category: Tecnologia Digital\n",
      "              precision    recall  f1-score   support\n",
      "\n",
      "           0       0.94      0.63      0.76       417\n",
      "           1       0.60      0.94      0.73       273\n",
      "           2       1.00      0.79      0.88        91\n",
      "\n",
      "    accuracy                           0.76       781\n",
      "   macro avg       0.85      0.79      0.79       781\n",
      "weighted avg       0.83      0.76      0.76       781\n",
      "\n",
      "[[264 153   0]\n",
      " [ 16 257   0]\n",
      " [  0  19  72]]\n",
      "\n",
      "category: Militar\n",
      "              precision    recall  f1-score   support\n",
      "\n",
      "           0       1.00      0.00      0.00        15\n",
      "           1       0.88      0.99      0.93       129\n",
      "           2       0.94      0.84      0.89        19\n",
      "\n",
      "    accuracy                           0.88       163\n",
      "   macro avg       0.94      0.61      0.61       163\n",
      "weighted avg       0.90      0.88      0.84       163\n",
      "\n",
      "[[  0  15   0]\n",
      " [  0 128   1]\n",
      " [  0   3  16]]\n",
      "\n",
      "category: Saúde\n",
      "              precision    recall  f1-score   support\n",
      "\n",
      "           0       0.80      1.00      0.89       204\n",
      "           1       0.00      0.00      0.00        52\n",
      "           2       0.87      0.79      0.82        42\n",
      "\n",
      "    accuracy                           0.80       298\n",
      "   macro avg       0.56      0.60      0.57       298\n",
      "weighted avg       0.67      0.80      0.72       298\n",
      "\n",
      "[[204   0   0]\n",
      " [ 47   0   5]\n",
      " [  5   4  33]]\n",
      "\n",
      "category: Gastronomia\n",
      "              precision    recall  f1-score   support\n",
      "\n",
      "           0       0.97      0.97      0.97       580\n",
      "           1       0.92      0.87      0.89       266\n",
      "           2       0.88      0.99      0.93       127\n",
      "\n",
      "    accuracy                           0.94       973\n",
      "   macro avg       0.92      0.94      0.93       973\n",
      "weighted avg       0.94      0.94      0.94       973\n",
      "\n",
      "[[561  19   0]\n",
      " [ 18 231  17]\n",
      " [  0   1 126]]\n",
      "\n",
      "category: Humor\n",
      "              precision    recall  f1-score   support\n",
      "\n",
      "           0       0.98      0.72      0.83       167\n",
      "           1       0.86      0.59      0.70        32\n",
      "           2       0.41      0.95      0.57        41\n",
      "\n",
      "    accuracy                           0.75       240\n",
      "   macro avg       0.75      0.76      0.70       240\n",
      "weighted avg       0.87      0.75      0.77       240\n",
      "\n",
      "[[121   1  45]\n",
      " [  2  19  11]\n",
      " [  0   2  39]]\n",
      "\n",
      "category: Pets\n",
      "              precision    recall  f1-score   support\n",
      "\n",
      "           0       0.93      0.99      0.96       274\n",
      "           1       0.00      0.00      0.00        42\n",
      "           2       0.71      0.94      0.81        65\n",
      "\n",
      "    accuracy                           0.87       381\n",
      "   macro avg       0.54      0.64      0.59       381\n",
      "weighted avg       0.79      0.87      0.83       381\n",
      "\n",
      "[[272   0   2]\n",
      " [ 19   0  23]\n",
      " [  3   1  61]]\n",
      "\n",
      "category: Política\n",
      "              precision    recall  f1-score   support\n",
      "\n",
      "           0       0.97      0.48      0.64        58\n",
      "           1       0.72      0.98      0.83        90\n",
      "           2       0.88      0.58      0.70        12\n",
      "\n",
      "    accuracy                           0.77       160\n",
      "   macro avg       0.85      0.68      0.72       160\n",
      "weighted avg       0.82      0.77      0.75       160\n",
      "\n",
      "[[28 30  0]\n",
      " [ 1 88  1]\n",
      " [ 0  5  7]]\n",
      "\n",
      "category: Meio Ambiente e Sustentabilidade\n",
      "              precision    recall  f1-score   support\n",
      "\n",
      "           0       0.99      0.92      0.95       253\n",
      "           1       0.67      0.89      0.76        47\n",
      "           2       0.97      0.98      0.98        60\n",
      "\n",
      "    accuracy                           0.93       360\n",
      "   macro avg       0.87      0.93      0.90       360\n",
      "weighted avg       0.94      0.93      0.93       360\n",
      "\n",
      "[[233  20   0]\n",
      " [  3  42   2]\n",
      " [  0   1  59]]\n",
      "\n",
      "category: Economia, Política e Atualidades\n",
      "              precision    recall  f1-score   support\n",
      "\n",
      "           0       0.99      0.87      0.93       366\n",
      "           1       0.83      0.91      0.87       249\n",
      "           2       0.81      0.98      0.88        85\n",
      "\n",
      "    accuracy                           0.90       700\n",
      "   macro avg       0.88      0.92      0.89       700\n",
      "weighted avg       0.91      0.90      0.90       700\n",
      "\n",
      "[[320  46   0]\n",
      " [  2 227  20]\n",
      " [  0   2  83]]\n",
      "\n",
      "category: Empreendedorismo e Negócios\n",
      "              precision    recall  f1-score   support\n",
      "\n",
      "           0       0.98      0.98      0.98       404\n",
      "           1       0.90      0.88      0.89       167\n",
      "           2       0.90      0.92      0.91        96\n",
      "\n",
      "    accuracy                           0.95       667\n",
      "   macro avg       0.93      0.93      0.93       667\n",
      "weighted avg       0.95      0.95      0.95       667\n",
      "\n",
      "[[396   8   0]\n",
      " [ 10 147  10]\n",
      " [  0   8  88]]\n",
      "\n",
      "category: Decoração, Organização e Diy\n",
      "              precision    recall  f1-score   support\n",
      "\n",
      "           0       0.94      0.98      0.96       335\n",
      "           1       0.92      0.79      0.85       142\n",
      "           2       0.90      0.97      0.93        89\n",
      "\n",
      "    accuracy                           0.93       566\n",
      "   macro avg       0.92      0.91      0.91       566\n",
      "weighted avg       0.93      0.93      0.93       566\n",
      "\n",
      "[[328   7   0]\n",
      " [ 20 112  10]\n",
      " [  0   3  86]]\n",
      "\n",
      "category: Comportamento e Estilo de Vida\n",
      "              precision    recall  f1-score   support\n",
      "\n",
      "           0       1.00      0.82      0.90       221\n",
      "           1       0.88      0.95      0.91       290\n",
      "           2       0.81      1.00      0.90        60\n",
      "\n",
      "    accuracy                           0.91       571\n",
      "   macro avg       0.90      0.93      0.90       571\n",
      "weighted avg       0.92      0.91      0.91       571\n",
      "\n",
      "[[182  39   0]\n",
      " [  0 276  14]\n",
      " [  0   0  60]]\n",
      "\n",
      "category: Conhecimento e Curiosidades\n",
      "              precision    recall  f1-score   support\n",
      "\n",
      "           0       1.00      0.92      0.96       408\n",
      "           1       0.72      0.86      0.79        79\n",
      "           2       0.87      0.99      0.93       119\n",
      "\n",
      "    accuracy                           0.93       606\n",
      "   macro avg       0.86      0.92      0.89       606\n",
      "weighted avg       0.94      0.93      0.93       606\n",
      "\n",
      "[[376  25   7]\n",
      " [  1  68  10]\n",
      " [  0   1 118]]\n",
      "\n",
      "category: Viagem e Turismo\n",
      "              precision    recall  f1-score   support\n",
      "\n",
      "           0       0.82      0.89      0.86       158\n",
      "           1       1.00      0.00      0.00        47\n",
      "           2       0.41      0.80      0.54        35\n",
      "\n",
      "    accuracy                           0.70       240\n",
      "   macro avg       0.74      0.56      0.47       240\n",
      "weighted avg       0.80      0.70      0.64       240\n",
      "\n",
      "[[141   0  17]\n",
      " [ 23   0  24]\n",
      " [  7   0  28]]\n",
      "\n",
      "category: Cultura e Entretenimento\n",
      "              precision    recall  f1-score   support\n",
      "\n",
      "           0       1.00      0.63      0.77       168\n",
      "           1       0.81      0.93      0.87       300\n",
      "           2       0.81      0.98      0.88        89\n",
      "\n",
      "    accuracy                           0.85       557\n",
      "   macro avg       0.87      0.85      0.84       557\n",
      "weighted avg       0.87      0.85      0.84       557\n",
      "\n",
      "[[106  62   0]\n",
      " [  0 279  21]\n",
      " [  0   2  87]]\n",
      "\n",
      "category: Fitness\n",
      "              precision    recall  f1-score   support\n",
      "\n",
      "           0       0.99      0.94      0.96       175\n",
      "           1       0.86      0.92      0.89        73\n",
      "           2       0.90      1.00      0.95        43\n",
      "\n",
      "    accuracy                           0.94       291\n",
      "   macro avg       0.92      0.95      0.93       291\n",
      "weighted avg       0.95      0.94      0.94       291\n",
      "\n",
      "[[164  11   0]\n",
      " [  1  67   5]\n",
      " [  0   0  43]]\n",
      "\n",
      "category: Educação\n",
      "              precision    recall  f1-score   support\n",
      "\n",
      "           0       0.89      0.95      0.92       315\n",
      "           1       0.76      0.63      0.69       117\n",
      "           2       0.89      0.88      0.88        80\n",
      "\n",
      "    accuracy                           0.87       512\n",
      "   macro avg       0.85      0.82      0.83       512\n",
      "weighted avg       0.86      0.87      0.86       512\n",
      "\n",
      "[[300  14   1]\n",
      " [ 35  74   8]\n",
      " [  1   9  70]]\n",
      "\n",
      "category: Beleza\n",
      "              precision    recall  f1-score   support\n",
      "\n",
      "           0       1.00      0.89      0.94       244\n",
      "           1       0.81      0.86      0.83       147\n",
      "           2       0.66      0.97      0.79        40\n",
      "\n",
      "    accuracy                           0.88       431\n",
      "   macro avg       0.82      0.91      0.85       431\n",
      "weighted avg       0.90      0.88      0.89       431\n",
      "\n",
      "[[216  28   0]\n",
      " [  1 126  20]\n",
      " [  0   1  39]]\n",
      "\n",
      "category: Ciências\n",
      "              precision    recall  f1-score   support\n",
      "\n",
      "           0       1.00      0.72      0.84        32\n",
      "           1       0.90      0.85      0.88        95\n",
      "           2       0.50      1.00      0.67        14\n",
      "\n",
      "    accuracy                           0.84       141\n",
      "   macro avg       0.80      0.86      0.79       141\n",
      "weighted avg       0.88      0.84      0.85       141\n",
      "\n",
      "[[23  9  0]\n",
      " [ 0 81 14]\n",
      " [ 0  0 14]]\n",
      "\n",
      "category: História\n",
      "              precision    recall  f1-score   support\n",
      "\n",
      "           0       1.00      0.93      0.96        43\n",
      "           1       0.91      1.00      0.95        42\n",
      "           2       1.00      0.90      0.95        10\n",
      "\n",
      "    accuracy                           0.96        95\n",
      "   macro avg       0.97      0.94      0.96        95\n",
      "weighted avg       0.96      0.96      0.96        95\n",
      "\n",
      "[[40  3  0]\n",
      " [ 0 42  0]\n",
      " [ 0  1  9]]\n",
      "\n",
      "category: Cidades, Arquitetura e Urbanismo\n",
      "              precision    recall  f1-score   support\n",
      "\n",
      "           0       1.00      0.89      0.94       103\n",
      "           1       0.77      1.00      0.87        44\n",
      "           2       1.00      0.88      0.93        16\n",
      "\n",
      "    accuracy                           0.92       163\n",
      "   macro avg       0.92      0.92      0.92       163\n",
      "weighted avg       0.94      0.92      0.92       163\n",
      "\n",
      "[[92 11  0]\n",
      " [ 0 44  0]\n",
      " [ 0  2 14]]\n",
      "\n",
      "category: Programação\n",
      "              precision    recall  f1-score   support\n",
      "\n",
      "           0       0.71      1.00      0.83        25\n",
      "           1       0.74      0.58      0.65        24\n",
      "           2       1.00      0.44      0.62         9\n",
      "\n",
      "    accuracy                           0.74        58\n",
      "   macro avg       0.82      0.68      0.70        58\n",
      "weighted avg       0.77      0.74      0.72        58\n",
      "\n",
      "[[25  0  0]\n",
      " [10 14  0]\n",
      " [ 0  5  4]]\n"
     ]
    }
   ],
   "source": [
    "# Avaliando os resultados por categoria\n",
    "evaluate_model_by_feature(X_test_baseline, y_test_baseline, 'category')"
   ]
  },
  {
   "cell_type": "code",
   "execution_count": null,
   "id": "dd3a8b8a",
   "metadata": {},
   "outputs": [],
   "source": []
  }
 ],
 "metadata": {
  "kernelspec": {
   "display_name": "Python 3 (ipykernel)",
   "language": "python",
   "name": "python3"
  },
  "language_info": {
   "codemirror_mode": {
    "name": "ipython",
    "version": 3
   },
   "file_extension": ".py",
   "mimetype": "text/x-python",
   "name": "python",
   "nbconvert_exporter": "python",
   "pygments_lexer": "ipython3",
   "version": "3.9.13"
  }
 },
 "nbformat": 4,
 "nbformat_minor": 5
}
