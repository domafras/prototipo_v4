{
 "cells": [
  {
   "cell_type": "markdown",
   "id": "1184c65f",
   "metadata": {
    "jp-MarkdownHeadingCollapsed": true,
    "tags": []
   },
   "source": [
    "## TFIDF"
   ]
  },
  {
   "cell_type": "code",
   "execution_count": 1,
   "id": "077f225c",
   "metadata": {},
   "outputs": [
    {
     "name": "stdout",
     "output_type": "stream",
     "text": [
      "Requirement already satisfied: isodate in c:\\users\\domaf\\anaconda3\\lib\\site-packages (0.6.1)\n",
      "Requirement already satisfied: six in c:\\users\\domaf\\anaconda3\\lib\\site-packages (from isodate) (1.16.0)\n",
      "Requirement already satisfied: plotly in c:\\users\\domaf\\anaconda3\\lib\\site-packages (5.9.0)\n",
      "Requirement already satisfied: tenacity>=6.2.0 in c:\\users\\domaf\\anaconda3\\lib\\site-packages (from plotly) (8.0.1)\n"
     ]
    },
    {
     "name": "stderr",
     "output_type": "stream",
     "text": [
      "[nltk_data] Downloading package stopwords to\n",
      "[nltk_data]     C:\\Users\\domaf\\AppData\\Roaming\\nltk_data...\n",
      "[nltk_data]   Package stopwords is already up-to-date!\n"
     ]
    }
   ],
   "source": [
    "# Importando bibliotecas e funções\n",
    "from libs import *\n",
    "from utils import *"
   ]
  },
  {
   "cell_type": "markdown",
   "id": "17e03c31",
   "metadata": {},
   "source": [
    "O TF-IDF é uma técnica que mede a importância das palavras em um texto, considerando com que frequência elas aparecem no documento (TF) e quão raras elas são em um conjunto de documentos (IDF). Isso ajuda a destacar palavras-chave e é útil para classificação e busca de documentos.\n",
    "\n",
    "Em resumo, a diferença em relação ao saco de palavras, é que aqui todo o conjunto de documentos (textos) é considerado."
   ]
  },
  {
   "cell_type": "code",
   "execution_count": 2,
   "id": "ab5818ec",
   "metadata": {},
   "outputs": [
    {
     "name": "stdout",
     "output_type": "stream",
     "text": [
      "\n",
      "Exemplos de texto:\n",
      "['Exemplo', 'Palavra exemplo', 'Exemplo de palavra (palavra)']\n",
      "\n",
      "Palavras-chave:\n",
      "['de' 'exemplo' 'palavra']\n",
      "\n",
      "Matriz: 'de', 'exemplo', 'palavra'\n",
      "[[0.         1.         0.        ]\n",
      " [0.         0.61335554 0.78980693]\n",
      " [0.52253528 0.30861775 0.7948031 ]]\n"
     ]
    }
   ],
   "source": [
    "# Exemplo de texto\n",
    "sample_text = [\"Exemplo\",\n",
    "               \"Palavra exemplo\",\n",
    "               \"Exemplo de palavra (palavra)\"]\n",
    "\n",
    "# Criando uma instância do TfidfVectorizer\n",
    "tfidf_vectorizer = TfidfVectorizer(max_features=100)  \n",
    "\n",
    "# Ajustando e transformando o texto\n",
    "text_transformed = tfidf_vectorizer.fit_transform(sample_text)\n",
    "\n",
    "# Convertendo a matriz esparsa em uma matriz densa para visualizar\n",
    "text_transformed_dense = text_transformed.toarray()\n",
    "\n",
    "# Mostrando os textos exemplo\n",
    "print(\"\\nExemplos de texto:\")\n",
    "print(sample_text)\n",
    "\n",
    "# Visualizando palavras-chave\n",
    "feature_names = tfidf_vectorizer.get_feature_names_out()\n",
    "print(\"\\nPalavras-chave:\")\n",
    "print(feature_names)\n",
    "\n",
    "# Exibindo os resultados\n",
    "print(\"\\nMatriz: 'de', 'exemplo', 'palavra'\")\n",
    "print(text_transformed_dense)"
   ]
  },
  {
   "cell_type": "markdown",
   "id": "3764bd42",
   "metadata": {},
   "source": [
    "1. Carregando base de dados em um DataFrame do Pandas."
   ]
  },
  {
   "cell_type": "code",
   "execution_count": 3,
   "id": "97f392c6",
   "metadata": {},
   "outputs": [],
   "source": [
    "# Definindo dataframe preprocessado antes dos pipelines\n",
    "df_tfidf = pd.read_csv('data/data3.csv')"
   ]
  },
  {
   "cell_type": "code",
   "execution_count": 4,
   "id": "278c7364",
   "metadata": {},
   "outputs": [],
   "source": [
    "# Amostra de 10%\n",
    "#df_tfidf = df_tfidf.sample(frac=0.1, random_state=42) "
   ]
  },
  {
   "cell_type": "code",
   "execution_count": 5,
   "id": "26c43e07",
   "metadata": {},
   "outputs": [
    {
     "data": {
      "text/plain": [
       "(36642, 18)"
      ]
     },
     "execution_count": 5,
     "metadata": {},
     "output_type": "execute_result"
    }
   ],
   "source": [
    "# Dimensões\n",
    "df_tfidf.shape"
   ]
  },
  {
   "cell_type": "code",
   "execution_count": 6,
   "id": "f0795374",
   "metadata": {},
   "outputs": [],
   "source": [
    "# Definindo colunas numéricas, categóricas e textuais\n",
    "numeric_features = ['year', 'video_count', 'view_count_x', 'subscriber_count', \n",
    "                    'aux_status', 'comment_count_y','dislike_count', 'view_count_y',\n",
    "                        'like_count', 'video_duration', 'published_at']\n",
    "\n",
    "categorical_features = ['channel_id','category', 'gender']\n",
    "\n",
    "textual_features = ['video_title', 'video_desc']"
   ]
  },
  {
   "cell_type": "code",
   "execution_count": 7,
   "id": "4d0ec78d",
   "metadata": {},
   "outputs": [],
   "source": [
    "# Substituindo valores nulos por uma string vazia\n",
    "df_tfidf[textual_features] = df_tfidf[textual_features].fillna('')"
   ]
  },
  {
   "cell_type": "markdown",
   "id": "2c9ceefa",
   "metadata": {},
   "source": [
    "2. Dividindo os dados em treino e teste, de maneira a evitar vazamento de dados (data leakage)."
   ]
  },
  {
   "cell_type": "code",
   "execution_count": 8,
   "id": "61f58638",
   "metadata": {},
   "outputs": [],
   "source": [
    "# Separando features (X) e os rótulos (y)\n",
    "#X = df_tfidf[textual_features + categorical_features]\n",
    "X = df_tfidf[textual_features]\n",
    "y = df_tfidf['popularity']\n",
    "\n",
    "# Dividindo os dados em treino e teste\n",
    "X_train_tfidf, X_test_tfidf, y_train_tfidf, y_test_tfidf = train_test_split(X, y, test_size=0.3, random_state=42)"
   ]
  },
  {
   "cell_type": "markdown",
   "id": "b2b26cbd",
   "metadata": {},
   "source": [
    "3. Aplicando `OneHotEncoder` nas colunas categóricas e transformando matriz."
   ]
  },
  {
   "cell_type": "code",
   "execution_count": 11,
   "id": "0a795148",
   "metadata": {},
   "outputs": [
    {
     "data": {
      "text/plain": [
       "\"\\n# Aplicando OneHotEncoder nas colunas categóricas com handle_unknown='ignore'\\nencoder = OneHotEncoder(handle_unknown='ignore')\\n\\nX_train_tfidf_categorical = encoder.fit_transform(X_train_tfidf[categorical_features])\\nX_test_tfidf_categorical = encoder.transform(X_test_tfidf[categorical_features])\\n\\n# 3 features categóricas representadas em matriz esparsa\\nprint(X_train_tfidf_categorical[0])\\n\\n# 3 features categóricas representadas em matriz densa\\nprint(X_train_tfidf_categorical.toarray()[0])\\n\\n# Transformando as features categóricas em matriz densa (array) para combinar com outras features no futuro\\nX_train_tfidf_categorical = X_train_tfidf_categorical.toarray()\\nX_test_tfidf_categorical = X_test_tfidf_categorical.toarray()\\n\""
      ]
     },
     "execution_count": 11,
     "metadata": {},
     "output_type": "execute_result"
    }
   ],
   "source": [
    "\"\"\"\n",
    "# Aplicando OneHotEncoder nas colunas categóricas com handle_unknown='ignore'\n",
    "encoder = OneHotEncoder(handle_unknown='ignore')\n",
    "\n",
    "X_train_tfidf_categorical = encoder.fit_transform(X_train_tfidf[categorical_features])\n",
    "X_test_tfidf_categorical = encoder.transform(X_test_tfidf[categorical_features])\n",
    "\n",
    "# 3 features categóricas representadas em matriz esparsa\n",
    "print(X_train_tfidf_categorical[0])\n",
    "\n",
    "# 3 features categóricas representadas em matriz densa\n",
    "print(X_train_tfidf_categorical.toarray()[0])\n",
    "\n",
    "# Transformando as features categóricas em matriz densa (array) para combinar com outras features no futuro\n",
    "X_train_tfidf_categorical = X_train_tfidf_categorical.toarray()\n",
    "X_test_tfidf_categorical = X_test_tfidf_categorical.toarray()\n",
    "\"\"\""
   ]
  },
  {
   "cell_type": "markdown",
   "id": "5d0b2749",
   "metadata": {},
   "source": [
    "4. Iniciando `TfidfVectorizer()` para a criação de representações TFIDF."
   ]
  },
  {
   "cell_type": "code",
   "execution_count": 12,
   "id": "9f75d3ea",
   "metadata": {},
   "outputs": [],
   "source": [
    "# Criando uma instância do TfidfVectorizer\n",
    "tfidf_vectorizer = TfidfVectorizer(max_features=100) "
   ]
  },
  {
   "cell_type": "code",
   "execution_count": 13,
   "id": "27ffabe8",
   "metadata": {},
   "outputs": [],
   "source": [
    "# Definindo valores dos títulos de treino e de teste\n",
    "tfidf_title_train = X_train_tfidf['video_title'].values\n",
    "tfidf_title_test = X_test_tfidf['video_title'].values"
   ]
  },
  {
   "cell_type": "code",
   "execution_count": 14,
   "id": "113187a6",
   "metadata": {},
   "outputs": [
    {
     "data": {
      "text/plain": [
       "'galaxy a20 v moto g8 play falta memória põe tudo perder'"
      ]
     },
     "execution_count": 14,
     "metadata": {},
     "output_type": "execute_result"
    }
   ],
   "source": [
    "# Exemplo de título separado para treino\n",
    "tfidf_title_train[0]"
   ]
  },
  {
   "cell_type": "code",
   "execution_count": 15,
   "id": "a7d10c30",
   "metadata": {},
   "outputs": [],
   "source": [
    "# Definindo valores das descrições de treino e de teste\n",
    "tfidf_desc_train = X_train_tfidf['video_desc'].values\n",
    "tfidf_desc_test = X_test_tfidf['video_desc'].values"
   ]
  },
  {
   "cell_type": "code",
   "execution_count": 16,
   "id": "e40a723b",
   "metadata": {},
   "outputs": [
    {
     "data": {
      "text/plain": [
       "'inscrevase vídeos ofertas moto g8 play'"
      ]
     },
     "execution_count": 16,
     "metadata": {},
     "output_type": "execute_result"
    }
   ],
   "source": [
    "# Exemplo de descrição separado para treino\n",
    "tfidf_desc_train[0]"
   ]
  },
  {
   "cell_type": "markdown",
   "id": "eecf5b3c",
   "metadata": {},
   "source": [
    "5. Transformando os títulos e descrições dos conjuntos de treino e teste usando o `TfidfVectorizer()` "
   ]
  },
  {
   "cell_type": "code",
   "execution_count": 17,
   "id": "7fdc99cc",
   "metadata": {},
   "outputs": [],
   "source": [
    "# Ajustando e transformando os titulos\n",
    "X_train_tfidf_title = tfidf_vectorizer.fit_transform(tfidf_title_train)\n",
    "X_test_tfidf_title = tfidf_vectorizer.transform(tfidf_title_test)"
   ]
  },
  {
   "cell_type": "code",
   "execution_count": 18,
   "id": "3b34b567",
   "metadata": {},
   "outputs": [],
   "source": [
    "# Convertendo a matriz esparsa em uma matriz densa para visualizar\n",
    "X_train_tfidf_title = X_train_tfidf_title.toarray()\n",
    "X_test_tfidf_title = X_test_tfidf_title.toarray()"
   ]
  },
  {
   "cell_type": "code",
   "execution_count": 19,
   "id": "ebe52230",
   "metadata": {},
   "outputs": [
    {
     "name": "stdout",
     "output_type": "stream",
     "text": [
      "[0.         0.         0.         0.         0.         0.\n",
      " 0.         0.         0.         0.         0.         0.\n",
      " 0.         0.         0.         0.         0.         0.\n",
      " 0.         0.         0.         0.         0.         0.\n",
      " 0.         0.         0.         0.         0.         0.\n",
      " 0.         0.         0.         0.         0.         0.\n",
      " 0.         0.         0.         0.         0.         0.\n",
      " 0.54700327 0.         0.         0.         0.         0.\n",
      " 0.         0.         0.         0.         0.         0.\n",
      " 0.         0.62452648 0.         0.         0.         0.\n",
      " 0.         0.         0.         0.         0.         0.\n",
      " 0.         0.         0.         0.         0.         0.\n",
      " 0.         0.         0.         0.         0.         0.\n",
      " 0.         0.         0.         0.         0.         0.\n",
      " 0.         0.         0.         0.         0.55745322 0.\n",
      " 0.         0.         0.         0.         0.         0.\n",
      " 0.         0.         0.         0.        ]\n"
     ]
    }
   ],
   "source": [
    "print(X_train_tfidf_title[0])"
   ]
  },
  {
   "cell_type": "code",
   "execution_count": 20,
   "id": "9fd5748c",
   "metadata": {},
   "outputs": [],
   "source": [
    "# Ajustando e transformando as descrições\n",
    "X_train_tfidf_desc = tfidf_vectorizer.fit_transform(tfidf_desc_train)\n",
    "X_test_tfidf_desc = tfidf_vectorizer.transform(tfidf_desc_test)"
   ]
  },
  {
   "cell_type": "code",
   "execution_count": 21,
   "id": "58271790",
   "metadata": {},
   "outputs": [],
   "source": [
    "# Convertendo a matriz esparsa em uma matriz densa para visualizar\n",
    "X_train_tfidf_desc = X_train_tfidf_desc.toarray()\n",
    "X_test_tfidf_desc = X_test_tfidf_desc.toarray()"
   ]
  },
  {
   "cell_type": "code",
   "execution_count": 22,
   "id": "1e56ecfe",
   "metadata": {},
   "outputs": [
    {
     "name": "stdout",
     "output_type": "stream",
     "text": [
      "[0.         0.         0.         0.         0.         0.\n",
      " 0.         0.         0.         0.         0.         0.\n",
      " 0.         0.         0.         0.         0.         0.\n",
      " 0.         0.         0.         0.         0.         0.\n",
      " 0.         0.         0.         0.         0.         0.\n",
      " 0.         0.         0.         0.         0.         0.\n",
      " 0.         0.         0.         0.         0.         0.\n",
      " 0.         0.         0.         0.         0.58102974 0.\n",
      " 0.         0.         0.         0.         0.         0.\n",
      " 0.         0.         0.         0.         0.         0.\n",
      " 0.         0.         0.         0.         0.         0.\n",
      " 0.         0.         0.         0.         0.         0.\n",
      " 0.         0.         0.         0.         0.         0.\n",
      " 0.         0.         0.         0.         0.         0.\n",
      " 0.         0.         0.         0.         0.         0.\n",
      " 0.         0.         0.         0.         0.         0.\n",
      " 0.         0.         0.81388233 0.        ]\n"
     ]
    }
   ],
   "source": [
    "print(X_train_tfidf_desc[0])"
   ]
  },
  {
   "cell_type": "code",
   "execution_count": 23,
   "id": "015ad220",
   "metadata": {},
   "outputs": [
    {
     "name": "stdout",
     "output_type": "stream",
     "text": [
      "(25649, 100)\n",
      "(25649, 100)\n"
     ]
    }
   ],
   "source": [
    "#print(X_train_tfidf_numeric.shape)\n",
    "#print(X_train_tfidf_categorical.shape)\n",
    "print(X_train_tfidf_title.shape)\n",
    "print(X_train_tfidf_desc.shape)"
   ]
  },
  {
   "cell_type": "markdown",
   "id": "78ca9f78",
   "metadata": {},
   "source": [
    "6. Concatenando através de `np.hstack` as features transformadas para treino e teste."
   ]
  },
  {
   "cell_type": "code",
   "execution_count": 24,
   "id": "a2342026",
   "metadata": {},
   "outputs": [],
   "source": [
    "# Concatenando todas as features processadas\n",
    "X_train_tfidf_preprocessed = np.hstack((X_train_tfidf_title,\n",
    "                                        X_train_tfidf_desc))\n",
    "\n",
    "X_test_tfidf_preprocessed = np.hstack((X_test_tfidf_title,\n",
    "                                       X_test_tfidf_desc))"
   ]
  },
  {
   "cell_type": "markdown",
   "id": "e7f26d0b",
   "metadata": {},
   "source": [
    "7. Treinando e testando o modelo de classificação multiclasse."
   ]
  },
  {
   "cell_type": "code",
   "execution_count": 25,
   "id": "08b5d7de",
   "metadata": {},
   "outputs": [],
   "source": [
    "# Instanciando modelo para classificação multiclasse\n",
    "model = SVC(class_weight='balanced', random_state=42)\n",
    "\n",
    "# Treinando modelo com dados de treino\n",
    "model.fit(X_train_tfidf_preprocessed, y_train_tfidf)\n",
    "\n",
    "# Testando modelo nos dados de teste\n",
    "prediction = model.predict(X_test_tfidf_preprocessed)"
   ]
  },
  {
   "cell_type": "markdown",
   "id": "9e6bdbd3",
   "metadata": {},
   "source": [
    "7. Imprimindo relatório das métricas de avaliação e matriz de confusão."
   ]
  },
  {
   "cell_type": "code",
   "execution_count": 26,
   "id": "4ccbb35f",
   "metadata": {},
   "outputs": [
    {
     "name": "stdout",
     "output_type": "stream",
     "text": [
      "\n",
      "Relatório de Classificação:\n",
      "              precision    recall  f1-score   support\n",
      "\n",
      "           0       0.77      0.65      0.70      6140\n",
      "           1       0.50      0.47      0.48      3372\n",
      "           2       0.29      0.50      0.37      1481\n",
      "\n",
      "    accuracy                           0.58     10993\n",
      "   macro avg       0.52      0.54      0.52     10993\n",
      "weighted avg       0.62      0.58      0.59     10993\n",
      "\n",
      "\n",
      "Matriz de Confusão:\n",
      "[[3993 1167  980]\n",
      " [ 914 1586  872]\n",
      " [ 296  438  747]]\n"
     ]
    }
   ],
   "source": [
    "# Imprimindo métricas de avaliação do modelo\n",
    "print('\\nRelatório de Classificação:')\n",
    "cr_tfidf = classification_report(y_test_tfidf, prediction)\n",
    "print(cr_tfidf)\n",
    "\n",
    "print('\\nMatriz de Confusão:')\n",
    "cm_tfidf = confusion_matrix(y_test_tfidf, prediction)\n",
    "print(cm_tfidf)"
   ]
  },
  {
   "cell_type": "code",
   "execution_count": 27,
   "id": "6a0d38ca",
   "metadata": {},
   "outputs": [
    {
     "data": {
      "image/png": "[encoded data removed]",
      "text/plain": [
       "<Figure size 500x400 with 2 Axes>"
      ]
     },
     "metadata": {},
     "output_type": "display_data"
    }
   ],
   "source": [
    "# Plotando a matriz de confusão como heatmap\n",
    "labels = ['ALTA', 'BAIXA', 'MEDIA']\n",
    "plot_confusion_matrix(y_test_tfidf, prediction, labels)"
   ]
  },
  {
   "cell_type": "code",
   "execution_count": null,
   "id": "37b6d67e",
   "metadata": {},
   "outputs": [],
   "source": []
  }
 ],
 "metadata": {
  "kernelspec": {
   "display_name": "Python 3 (ipykernel)",
   "language": "python",
   "name": "python3"
  },
  "language_info": {
   "codemirror_mode": {
    "name": "ipython",
    "version": 3
   },
   "file_extension": ".py",
   "mimetype": "text/x-python",
   "name": "python",
   "nbconvert_exporter": "python",
   "pygments_lexer": "ipython3",
   "version": "3.9.13"
  }
 },
 "nbformat": 4,
 "nbformat_minor": 5
}
