{
 "cells": [
  {
   "cell_type": "code",
   "execution_count": 7,
   "id": "436f7eb1",
   "metadata": {},
   "outputs": [
    {
     "name": "stderr",
     "output_type": "stream",
     "text": [
      "[nltk_data] Downloading package stopwords to\n",
      "[nltk_data]     C:\\Users\\domaf\\AppData\\Roaming\\nltk_data...\n",
      "[nltk_data]   Package stopwords is already up-to-date!\n"
     ]
    }
   ],
   "source": [
    "from libs import *\n",
    "import re\n",
    "import spacy\n",
    "import nltk\n",
    "from nltk.corpus import stopwords\n",
    "from nltk.tokenize import word_tokenize\n",
    "\n",
    "\n",
    "# Download do conjunto de stopwords\n",
    "nltk.download('stopwords')\n",
    "\n",
    "# Carregar modelo spaCy para português\n",
    "nlp = spacy.load('pt_core_news_sm')"
   ]
  },
  {
   "cell_type": "code",
   "execution_count": 2,
   "id": "95f94a8b",
   "metadata": {},
   "outputs": [],
   "source": [
    "df = pd.read_csv('data/data1.csv')"
   ]
  },
  {
   "cell_type": "code",
   "execution_count": 3,
   "id": "5d24c9a0",
   "metadata": {},
   "outputs": [
    {
     "data": {
      "text/html": [
       "<div>\n",
       "<style scoped>\n",
       "    .dataframe tbody tr th:only-of-type {\n",
       "        vertical-align: middle;\n",
       "    }\n",
       "\n",
       "    .dataframe tbody tr th {\n",
       "        vertical-align: top;\n",
       "    }\n",
       "\n",
       "    .dataframe thead th {\n",
       "        text-align: right;\n",
       "    }\n",
       "</style>\n",
       "<table border=\"1\" class=\"dataframe\">\n",
       "  <thead>\n",
       "    <tr style=\"text-align: right;\">\n",
       "      <th></th>\n",
       "      <th>video_title</th>\n",
       "      <th>video_desc</th>\n",
       "    </tr>\n",
       "  </thead>\n",
       "  <tbody>\n",
       "    <tr>\n",
       "      <th>0</th>\n",
       "      <td>MELHORE SEUS VÍDEOS COM ESSA TÉCNICA DE TRANSI...</td>\n",
       "      <td>MANU E MATHEUS - @welove - NOSSO INSTAGRAM - h...</td>\n",
       "    </tr>\n",
       "    <tr>\n",
       "      <th>1</th>\n",
       "      <td>UMA VIAGEM DE CARRO PELA COSTA RICA</td>\n",
       "      <td>MANU E MATHEUS - @welove - N O S S O    I N S ...</td>\n",
       "    </tr>\n",
       "    <tr>\n",
       "      <th>2</th>\n",
       "      <td>O HOTEL DE 30 MIL REAIS</td>\n",
       "      <td>Fomos convidados pela Voo de Última Hora e pel...</td>\n",
       "    </tr>\n",
       "    <tr>\n",
       "      <th>3</th>\n",
       "      <td>FOMOS PARA A BOLIVIA COM A LATAM (LINK PARA VI...</td>\n",
       "      <td>VIDEO COMPLETO NO LINK - http://bit.ly/2GIaqkl...</td>\n",
       "    </tr>\n",
       "    <tr>\n",
       "      <th>4</th>\n",
       "      <td>QUIZ DE FAMÍLIA | PAI E FILHA CONTRA PAI E FILHO</td>\n",
       "      <td>ZYRO - Acesse https://zyro.com/pt/special/welo...</td>\n",
       "    </tr>\n",
       "  </tbody>\n",
       "</table>\n",
       "</div>"
      ],
      "text/plain": [
       "                                         video_title  \\\n",
       "0  MELHORE SEUS VÍDEOS COM ESSA TÉCNICA DE TRANSI...   \n",
       "1                UMA VIAGEM DE CARRO PELA COSTA RICA   \n",
       "2                            O HOTEL DE 30 MIL REAIS   \n",
       "3  FOMOS PARA A BOLIVIA COM A LATAM (LINK PARA VI...   \n",
       "4   QUIZ DE FAMÍLIA | PAI E FILHA CONTRA PAI E FILHO   \n",
       "\n",
       "                                          video_desc  \n",
       "0  MANU E MATHEUS - @welove - NOSSO INSTAGRAM - h...  \n",
       "1  MANU E MATHEUS - @welove - N O S S O    I N S ...  \n",
       "2  Fomos convidados pela Voo de Última Hora e pel...  \n",
       "3  VIDEO COMPLETO NO LINK - http://bit.ly/2GIaqkl...  \n",
       "4  ZYRO - Acesse https://zyro.com/pt/special/welo...  "
      ]
     },
     "execution_count": 3,
     "metadata": {},
     "output_type": "execute_result"
    }
   ],
   "source": [
    "df[['video_title', 'video_desc']].head()"
   ]
  },
  {
   "cell_type": "code",
   "execution_count": 4,
   "id": "435d8d4d",
   "metadata": {},
   "outputs": [],
   "source": [
    "# Definindo pré-processamento dos textos menos restritivo\n",
    "def preprocess_text_data3(text):\n",
    "    \n",
    "    # Convertendo para minúsculas\n",
    "    text = text.lower()\n",
    "\n",
    "    # Removendo links usando expressão regular\n",
    "    text = re.sub(r'http\\S+|www\\.\\S+', '', text)\n",
    "    \n",
    "    # Removendo caracteres que não foram explicitados na expressão regular abaixo (#&%$@, emoji)\n",
    "    text = re.sub(r'[^a-z0-9áâãêéîíôõóúûç\\s]+', '', text)    \n",
    "    \n",
    "    # Aplicando Tokenização\n",
    "    tokens = word_tokenize(text)\n",
    "    \n",
    "    # Removendo Stopwords\n",
    "    stop_words = set(stopwords.words('portuguese'))\n",
    "    tokens = [word for word in tokens if word not in stop_words]\n",
    "    \n",
    "    return ' '.join(tokens)"
   ]
  },
  {
   "cell_type": "code",
   "execution_count": 8,
   "id": "44ef0c16",
   "metadata": {},
   "outputs": [
    {
     "name": "stdout",
     "output_type": "stream",
     "text": [
      "melhore vídeos técnica transição tutorial leonardo turistando curitiba\n"
     ]
    }
   ],
   "source": [
    "# Exemplo de uso:\n",
    "texto_exemplo = \"MELHORE SEUS VÍDEOS COM ESSA TÉCNICA DE TRANSIÇÃO | TUTORIAL www.instagram.com @leonardo turistando Curitiba\"\n",
    "resultado = preprocess_text_data3(texto_exemplo)\n",
    "print(resultado)"
   ]
  },
  {
   "cell_type": "code",
   "execution_count": 9,
   "id": "2d0d52c7",
   "metadata": {},
   "outputs": [],
   "source": [
    "# Aplicando o pré-processamento aos textos\n",
    "df['video_title'] = df['video_title'].apply(preprocess_text_data3)\n",
    "df['video_desc'] = df['video_desc'].apply(preprocess_text_data3)"
   ]
  },
  {
   "cell_type": "code",
   "execution_count": 10,
   "id": "785162c8",
   "metadata": {},
   "outputs": [
    {
     "data": {
      "text/html": [
       "<div>\n",
       "<style scoped>\n",
       "    .dataframe tbody tr th:only-of-type {\n",
       "        vertical-align: middle;\n",
       "    }\n",
       "\n",
       "    .dataframe tbody tr th {\n",
       "        vertical-align: top;\n",
       "    }\n",
       "\n",
       "    .dataframe thead th {\n",
       "        text-align: right;\n",
       "    }\n",
       "</style>\n",
       "<table border=\"1\" class=\"dataframe\">\n",
       "  <thead>\n",
       "    <tr style=\"text-align: right;\">\n",
       "      <th></th>\n",
       "      <th>video_title</th>\n",
       "      <th>video_desc</th>\n",
       "    </tr>\n",
       "  </thead>\n",
       "  <tbody>\n",
       "    <tr>\n",
       "      <th>0</th>\n",
       "      <td>melhore vídeos técnica transição tutorial</td>\n",
       "      <td>manu matheus welove instagram loja contato</td>\n",
       "    </tr>\n",
       "    <tr>\n",
       "      <th>1</th>\n",
       "      <td>viagem carro costa rica</td>\n",
       "      <td>manu matheus welove n s s i n s t g r m loja c...</td>\n",
       "    </tr>\n",
       "    <tr>\n",
       "      <th>2</th>\n",
       "      <td>hotel 30 mil reais</td>\n",
       "      <td>convidados voo última hora agencia flow fazer ...</td>\n",
       "    </tr>\n",
       "    <tr>\n",
       "      <th>3</th>\n",
       "      <td>bolivia latam link video completo descrição</td>\n",
       "      <td>video completo link latam airlines lançou vôo ...</td>\n",
       "    </tr>\n",
       "    <tr>\n",
       "      <th>4</th>\n",
       "      <td>quiz família pai filha contra pai filho</td>\n",
       "      <td>zyro acesse use código welove cadastrar ganhe ...</td>\n",
       "    </tr>\n",
       "  </tbody>\n",
       "</table>\n",
       "</div>"
      ],
      "text/plain": [
       "                                   video_title  \\\n",
       "0    melhore vídeos técnica transição tutorial   \n",
       "1                      viagem carro costa rica   \n",
       "2                           hotel 30 mil reais   \n",
       "3  bolivia latam link video completo descrição   \n",
       "4      quiz família pai filha contra pai filho   \n",
       "\n",
       "                                          video_desc  \n",
       "0         manu matheus welove instagram loja contato  \n",
       "1  manu matheus welove n s s i n s t g r m loja c...  \n",
       "2  convidados voo última hora agencia flow fazer ...  \n",
       "3  video completo link latam airlines lançou vôo ...  \n",
       "4  zyro acesse use código welove cadastrar ganhe ...  "
      ]
     },
     "execution_count": 10,
     "metadata": {},
     "output_type": "execute_result"
    }
   ],
   "source": [
    "df[['video_title','video_desc']].head()"
   ]
  },
  {
   "cell_type": "code",
   "execution_count": null,
   "id": "67907f2e",
   "metadata": {},
   "outputs": [],
   "source": []
  }
 ],
 "metadata": {
  "kernelspec": {
   "display_name": "Python 3 (ipykernel)",
   "language": "python",
   "name": "python3"
  },
  "language_info": {
   "codemirror_mode": {
    "name": "ipython",
    "version": 3
   },
   "file_extension": ".py",
   "mimetype": "text/x-python",
   "name": "python",
   "nbconvert_exporter": "python",
   "pygments_lexer": "ipython3",
   "version": "3.9.13"
  }
 },
 "nbformat": 4,
 "nbformat_minor": 5
}
