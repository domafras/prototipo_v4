{
 "cells": [
  {
   "cell_type": "markdown",
   "id": "d37ad161",
   "metadata": {
    "jp-MarkdownHeadingCollapsed": true,
    "tags": []
   },
   "source": [
    "## BERT Pre-trained 'all-MiniLM-L6-v2'"
   ]
  },
  {
   "cell_type": "code",
   "execution_count": 1,
   "id": "74ef3a61",
   "metadata": {},
   "outputs": [
    {
     "name": "stdout",
     "output_type": "stream",
     "text": [
      "Requirement already satisfied: isodate in c:\\users\\domaf\\anaconda3\\lib\\site-packages (0.6.1)\n",
      "Requirement already satisfied: six in c:\\users\\domaf\\anaconda3\\lib\\site-packages (from isodate) (1.16.0)\n",
      "Requirement already satisfied: plotly in c:\\users\\domaf\\anaconda3\\lib\\site-packages (5.9.0)\n",
      "Requirement already satisfied: tenacity>=6.2.0 in c:\\users\\domaf\\anaconda3\\lib\\site-packages (from plotly) (8.0.1)\n"
     ]
    },
    {
     "name": "stderr",
     "output_type": "stream",
     "text": [
      "[nltk_data] Downloading package stopwords to\n",
      "[nltk_data]     C:\\Users\\domaf\\AppData\\Roaming\\nltk_data...\n",
      "[nltk_data]   Package stopwords is already up-to-date!\n"
     ]
    }
   ],
   "source": [
    "# Importando bibliotecas e funções\n",
    "from libs import *\n",
    "from utils import *"
   ]
  },
  {
   "cell_type": "markdown",
   "id": "c979d559",
   "metadata": {},
   "source": [
    "BERT, ou Bidirectional Encoder Representations from Transformers, é um modelo de linguagem pré-treinado que foi introduzido em 2018 pelo Google. Ele é baseado em um modelo de transformador, que é um tipo de rede neural que pode aprender relações entre palavras em uma frase, em vez de apenas uma por uma em ordem.\n",
    "\n",
    "O BERT pode ser usado para uma variedade de tarefas de processamento de linguagem natural (NLP), inclusive para gerar embeddings contextualizadas, que são representações de palavras que levam em consideração o contexto em que a palavra é usada. Isso pode ser útil para uma variedade de tarefas de NLP, pois pode ajudar o modelo a entender o significado de palavras em diferentes contextos.\n",
    "\n",
    "Neste projeto, realizamos o experimento de avaliar o impacto da utilização do BERT ao alimentar nosso modelo de classificação com features textuais (títulos e descrições dos vídeos) e verificar os respectivos resultados. O modelo base da biblioteca `transformers` está disponível no Hugging Face Hub."
   ]
  },
  {
   "cell_type": "markdown",
   "id": "37e7a214",
   "metadata": {},
   "source": [
    "**SentenceTransformers** é um framework estado da arte em Python para embeddings de sentenças, texto e imagens. Ele usa modelos de linguagem pré-treinados para transformar texto em vetores significativos, chamados de embeddings. Essas representações contextualizados podem ser aplicadas em tarefas de processamento de linguagem natural de maneira eficiente. A sua utilização é trivial e mais simples ao comparar com outras bibliotecas e por isso foi escolhida para esse projeto.\n",
    "\n",
    "- Hugging Face:  https://huggingface.co/sentence-transformers\n",
    "- Documentação: https://www.sbert.net/\n",
    "- Artigo: https://arxiv.org/abs/1908.10084"
   ]
  },
  {
   "cell_type": "markdown",
   "id": "d0fabbfb",
   "metadata": {},
   "source": [
    "1. Instalando a biblioteca `sentence-transformers`"
   ]
  },
  {
   "cell_type": "code",
   "execution_count": 2,
   "id": "8b1d121c",
   "metadata": {},
   "outputs": [],
   "source": [
    "# Instalando framework via pip\n",
    "#!pip install -U sentence-transformers"
   ]
  },
  {
   "cell_type": "markdown",
   "id": "336e3438",
   "metadata": {},
   "source": [
    "2. Importando bibliotecas necessárias para tarefa de gerar representações textuais (embeddings)"
   ]
  },
  {
   "cell_type": "code",
   "execution_count": 3,
   "id": "53143149",
   "metadata": {},
   "outputs": [],
   "source": [
    "# Sentence-transformers\n",
    "from sentence_transformers import SentenceTransformer"
   ]
  },
  {
   "cell_type": "markdown",
   "id": "ee8ccb17",
   "metadata": {},
   "source": [
    "3. Carregando base de dados em um DataFrame do Pandas"
   ]
  },
  {
   "cell_type": "code",
   "execution_count": 4,
   "id": "99f4a472",
   "metadata": {},
   "outputs": [],
   "source": [
    "# Definindo dataframe preprocessado antes dos pipelines\n",
    "df_bert = pd.read_csv('data/data1.csv') # data1 (texto bruto) ou data2 ou data3 (texto preprocessado)"
   ]
  },
  {
   "cell_type": "code",
   "execution_count": 5,
   "id": "a547b8c6",
   "metadata": {},
   "outputs": [],
   "source": [
    "# Amostra de 10%\n",
    "#df_bert = df_bert.sample(frac=0.1, random_state=42) "
   ]
  },
  {
   "cell_type": "code",
   "execution_count": 6,
   "id": "b4892788",
   "metadata": {},
   "outputs": [
    {
     "data": {
      "text/plain": [
       "(36642, 18)"
      ]
     },
     "execution_count": 6,
     "metadata": {},
     "output_type": "execute_result"
    }
   ],
   "source": [
    "# Dimensões\n",
    "df_bert.shape"
   ]
  },
  {
   "cell_type": "code",
   "execution_count": 7,
   "id": "d1ced18b",
   "metadata": {},
   "outputs": [],
   "source": [
    "# Definindo colunas numéricas, categóricas e textuais\n",
    "numeric_features = ['year', 'video_count', 'view_count_x', 'subscriber_count', \n",
    "                    'aux_status', 'comment_count_y','dislike_count', 'view_count_y',\n",
    "                        'like_count', 'video_duration', 'published_at']\n",
    "\n",
    "categorical_features = ['channel_id','category', 'gender']\n",
    "\n",
    "textual_features = ['video_title', 'video_desc']"
   ]
  },
  {
   "cell_type": "code",
   "execution_count": 8,
   "id": "e7b55b0e",
   "metadata": {},
   "outputs": [],
   "source": [
    "# Substituindo valores nulos por uma string vazia\n",
    "df_bert[textual_features] = df_bert[textual_features].fillna('')"
   ]
  },
  {
   "cell_type": "markdown",
   "id": "68a349a6",
   "metadata": {},
   "source": [
    "4. Divisão dos dados em treino e teste, de maneira a evitar vazamento de dados (data leakage)\n"
   ]
  },
  {
   "cell_type": "code",
   "execution_count": 9,
   "id": "b5234f11",
   "metadata": {},
   "outputs": [],
   "source": [
    "# Definindo características e alvo\n",
    "#X = df_bert[textual_features + categorical_features]\n",
    "X = df_bert[textual_features]\n",
    "y = df_bert['popularity']\n",
    "\n",
    "X_train_bert, X_test_bert, y_train_bert, y_test_bert = train_test_split(X, y, test_size=0.3, random_state=42)"
   ]
  },
  {
   "cell_type": "code",
   "execution_count": 10,
   "id": "fc7f12c1",
   "metadata": {},
   "outputs": [
    {
     "data": {
      "text/plain": [
       "\"\\n# Aplicando OneHotEncoder nas colunas categóricas com handle_unknown='ignore'\\nencoder = OneHotEncoder(handle_unknown='ignore')\\n\\nX_train_bert_categorical = encoder.fit_transform(X_train_bert[categorical_features])\\nX_test_bert_categorical = encoder.transform(X_test_bert[categorical_features])\\n\\n# 3 features categóricas representadas em matriz esparsa\\nprint(X_train_bert_categorical[0])\\n\\n# 3 features categóricas representadas em matriz densa\\nprint(X_train_bert_categorical.toarray()[0])\\n\\n# Transformando as features categóricas em matriz densa (array) para combinar com outras features no futuro\\nX_train_bert_categorical = X_train_bert_categorical.toarray()\\nX_test_bert_categorical = X_test_bert_categorical.toarray()\\n\""
      ]
     },
     "execution_count": 10,
     "metadata": {},
     "output_type": "execute_result"
    }
   ],
   "source": [
    "\"\"\"\n",
    "# Aplicando OneHotEncoder nas colunas categóricas com handle_unknown='ignore'\n",
    "encoder = OneHotEncoder(handle_unknown='ignore')\n",
    "\n",
    "X_train_bert_categorical = encoder.fit_transform(X_train_bert[categorical_features])\n",
    "X_test_bert_categorical = encoder.transform(X_test_bert[categorical_features])\n",
    "\n",
    "# 3 features categóricas representadas em matriz esparsa\n",
    "print(X_train_bert_categorical[0])\n",
    "\n",
    "# 3 features categóricas representadas em matriz densa\n",
    "print(X_train_bert_categorical.toarray()[0])\n",
    "\n",
    "# Transformando as features categóricas em matriz densa (array) para combinar com outras features no futuro\n",
    "X_train_bert_categorical = X_train_bert_categorical.toarray()\n",
    "X_test_bert_categorical = X_test_bert_categorical.toarray()\n",
    "\"\"\""
   ]
  },
  {
   "cell_type": "markdown",
   "id": "0c4c9dfa",
   "metadata": {},
   "source": [
    "5. Carregando modelo BERT através do framework estado da arte Sentence-Transformers para a criação de representações textuais.\n",
    "\n",
    "- Modelos nativamente disponíveis: [Pretrained Models](https://www.sbert.net/docs/pretrained_models.html#)"
   ]
  },
  {
   "cell_type": "code",
   "execution_count": 11,
   "id": "6e04d331",
   "metadata": {},
   "outputs": [],
   "source": [
    "#PRE_TRAINED_MODEL_NAME = 'distiluse-base-multilingual-cased-v2'\n",
    "#PRE_TRAINED_MODEL_NAME = 'paraphrase-MiniLM-L3-v2'\n",
    "#PRE_TRAINED_MODEL_NAME = 'average_word_embeddings_glove.6B.300d'\n",
    "#PRE_TRAINED_MODEL_NAME = 'all-mpnet-base-v2'\n",
    "#PRE_TRAINED_MODEL_NAME = 'multi-qa-mpnet-base-dot-v1'\n",
    "#PRE_TRAINED_MODEL_NAME = 'all-MiniLM-L12-v2'\n",
    "#PRE_TRAINED_MODEL_NAME = 'paraphrase-MiniLM-L3-v2'\n",
    "#PRE_TRAINED_MODEL_NAME = 'paraphrase-multilingual-MiniLM-L12-v2'\n",
    "#PRE_TRAINED_MODEL_NAME = 'all-roberta-large-v1'\n",
    "#PRE_TRAINED_MODEL_NAME = 'all-MiniLM-L6-v2'"
   ]
  },
  {
   "cell_type": "code",
   "execution_count": 12,
   "id": "dcfe506f",
   "metadata": {},
   "outputs": [],
   "source": [
    "# Definindo modelo pré treinado a ser utilizado\n",
    "PRE_TRAINED_MODEL_NAME = 'all-MiniLM-L6-v2'\n",
    "\n",
    "bert_model = SentenceTransformer(PRE_TRAINED_MODEL_NAME)"
   ]
  },
  {
   "cell_type": "code",
   "execution_count": 13,
   "id": "ae9577ca",
   "metadata": {},
   "outputs": [],
   "source": [
    "# Definindo valores dos títulos de treino e de teste\n",
    "bert_title_train = X_train_bert['video_title'].values\n",
    "bert_title_test = X_test_bert['video_title'].values"
   ]
  },
  {
   "cell_type": "code",
   "execution_count": 14,
   "id": "c7186d4e",
   "metadata": {},
   "outputs": [
    {
     "data": {
      "text/plain": [
       "'GALAXY A20 vs MOTO G8 PLAY: quando a FALTA DE MEMÓRIA põe TUDO A PERDER'"
      ]
     },
     "execution_count": 14,
     "metadata": {},
     "output_type": "execute_result"
    }
   ],
   "source": [
    "# Exemplo de título separado para treino\n",
    "bert_title_train[0]"
   ]
  },
  {
   "cell_type": "code",
   "execution_count": 15,
   "id": "fe174dd5",
   "metadata": {},
   "outputs": [],
   "source": [
    "# Definindo valores das descrições de treino e de teste\n",
    "bert_desc_train = X_train_bert['video_desc'].values\n",
    "bert_desc_test = X_test_bert['video_desc'].values"
   ]
  },
  {
   "cell_type": "code",
   "execution_count": 16,
   "id": "8f12c573",
   "metadata": {},
   "outputs": [
    {
     "data": {
      "text/plain": [
       "'Inscreva-se para mais vídeos: https://www.youtube.com/user/TudoCelular?sub_confirmation=1 Ofertas Moto G8 Play: ...'"
      ]
     },
     "execution_count": 16,
     "metadata": {},
     "output_type": "execute_result"
    }
   ],
   "source": [
    "# Exemplo de descrição separado para treino\n",
    "bert_desc_train[0]"
   ]
  },
  {
   "cell_type": "code",
   "execution_count": 17,
   "id": "f50b74e9",
   "metadata": {},
   "outputs": [
    {
     "data": {
      "application/vnd.jupyter.widget-view+json": {
       "model_id": "a8d9bb5d24e84c5899b203aaa7045c7b",
       "version_major": 2,
       "version_minor": 0
      },
      "text/plain": [
       "Batches:   0%|          | 0/201 [00:00<?, ?it/s]"
      ]
     },
     "metadata": {},
     "output_type": "display_data"
    },
    {
     "data": {
      "application/vnd.jupyter.widget-view+json": {
       "model_id": "c3efdbbc6c8f496b9b905ce1e00d9e03",
       "version_major": 2,
       "version_minor": 0
      },
      "text/plain": [
       "Batches:   0%|          | 0/86 [00:00<?, ?it/s]"
      ]
     },
     "metadata": {},
     "output_type": "display_data"
    }
   ],
   "source": [
    "# Gerando as representações textuais (embeddings) dos títulos através de encode()\n",
    "X_train_bert_title = bert_model.encode(bert_title_train,\n",
    "                                       convert_to_tensor=True,\n",
    "                                       normalize_embeddings=True,\n",
    "                                       batch_size=128,\n",
    "                                       show_progress_bar=True)\n",
    "\n",
    "X_test_bert_title = bert_model.encode(bert_title_test,\n",
    "                                      convert_to_tensor=True,\n",
    "                                      normalize_embeddings=True,\n",
    "                                      batch_size=128,\n",
    "                                      show_progress_bar=True)"
   ]
  },
  {
   "cell_type": "code",
   "execution_count": 18,
   "id": "ce21a1e4",
   "metadata": {},
   "outputs": [
    {
     "name": "stdout",
     "output_type": "stream",
     "text": [
      "tensor([-1.0569e-01,  2.1048e-02,  1.0424e-01, -1.0193e-01, -9.3224e-02,\n",
      "         3.0886e-04,  2.7016e-02,  7.4206e-02,  4.9916e-02,  6.1074e-02,\n",
      "         4.1092e-02,  3.5714e-02, -2.0572e-02,  4.0020e-04,  3.3675e-02,\n",
      "         6.0568e-03,  7.3814e-02, -8.1530e-02,  3.2475e-02,  7.6034e-02,\n",
      "         3.7922e-02, -2.2688e-02,  1.1709e-02, -8.6476e-04, -4.3979e-02,\n",
      "        -6.0913e-03, -1.5646e-02,  6.5251e-03, -8.0095e-02, -8.8133e-02,\n",
      "         6.3711e-02,  1.1400e-01,  1.6348e-02,  2.3823e-02, -3.5368e-02,\n",
      "        -9.5441e-02,  1.6577e-02, -5.8741e-02, -2.8574e-02, -2.3827e-02,\n",
      "        -7.1020e-02, -4.7395e-02,  1.2236e-04, -1.4557e-02,  4.6336e-02,\n",
      "        -4.2321e-02,  2.9465e-02,  8.1466e-02, -3.5407e-03, -1.0472e-02,\n",
      "        -1.8956e-02,  4.5836e-03, -4.8177e-02, -2.9610e-02, -3.2760e-02,\n",
      "         4.2775e-02,  6.9163e-03,  4.3646e-02,  1.0578e-01,  5.4457e-02,\n",
      "        -7.9518e-03, -2.5208e-02, -1.3530e-02,  1.0149e-01,  1.5884e-02,\n",
      "        -6.7127e-02,  8.8674e-02, -4.9399e-02, -1.0048e-01,  7.2016e-02,\n",
      "         1.6780e-02,  1.6179e-02,  3.6867e-02, -6.9689e-02, -1.7758e-02,\n",
      "         4.6868e-02, -3.4477e-02, -2.5196e-02, -7.1480e-03, -4.6828e-02,\n",
      "         7.8475e-02, -8.6890e-03, -3.6307e-02,  1.7732e-02,  5.1007e-02,\n",
      "        -6.3151e-02,  3.0586e-02,  1.6025e-02, -6.1128e-03, -2.3875e-02,\n",
      "        -8.6163e-02,  5.5517e-02, -9.6693e-03,  3.4167e-02, -4.4504e-02,\n",
      "         3.9099e-03,  6.9863e-02, -1.0032e-01, -1.0633e-02,  8.3584e-02,\n",
      "         8.5035e-02,  4.5834e-02,  1.2034e-02,  7.9754e-02,  5.2701e-02,\n",
      "         1.6057e-02,  2.0633e-02,  3.2143e-02, -1.6748e-02, -3.6599e-03,\n",
      "        -1.0895e-02,  2.7190e-02, -7.0336e-02, -1.9696e-02, -2.2365e-02,\n",
      "        -2.9601e-02, -1.9370e-03,  4.2297e-02,  2.9249e-03, -3.1907e-03,\n",
      "        -1.0311e-02, -8.4988e-02, -7.2415e-02, -7.2332e-02,  2.6371e-02,\n",
      "         4.2542e-02, -1.9328e-02,  5.1173e-33,  5.3415e-02,  3.7802e-03,\n",
      "        -1.3168e-02,  8.9770e-03,  2.5681e-02,  3.6256e-03, -4.4276e-02,\n",
      "        -4.8310e-03, -5.7975e-03, -5.6103e-02, -7.8392e-02, -3.5198e-03,\n",
      "        -7.3954e-02,  6.1704e-02,  1.2487e-01, -1.5087e-02, -6.1109e-02,\n",
      "        -2.9670e-02, -1.2608e-03, -7.3701e-02,  9.5314e-03, -7.3863e-03,\n",
      "         2.0115e-03, -3.4370e-02,  1.7633e-02,  1.4039e-01,  5.7658e-02,\n",
      "        -7.5706e-02, -2.5803e-02,  3.6298e-02, -5.1384e-02, -6.0946e-02,\n",
      "        -4.1673e-02, -4.9063e-02, -1.1451e-02, -7.9073e-02, -5.1552e-02,\n",
      "        -3.8461e-02, -2.2025e-02, -6.5446e-02, -1.2294e-01,  5.3121e-02,\n",
      "        -1.1588e-01, -5.3150e-02,  9.8269e-03, -1.0788e-02, -4.3585e-03,\n",
      "         2.3730e-03,  3.9109e-02,  9.3182e-02, -9.0957e-03, -2.7078e-02,\n",
      "        -7.4452e-02, -2.7252e-02, -1.4114e-03, -3.5496e-02, -4.5512e-02,\n",
      "         2.0868e-02,  1.7853e-02, -1.3822e-02,  9.9799e-02, -8.6775e-03,\n",
      "        -2.1496e-02,  4.4481e-02, -1.0580e-01,  3.9275e-02,  1.3688e-02,\n",
      "        -4.2385e-02,  6.0660e-02, -1.6829e-02,  5.0611e-02, -8.2237e-02,\n",
      "         1.3933e-01,  1.1483e-02,  3.1950e-02, -7.2254e-03, -8.6235e-03,\n",
      "        -2.3367e-02, -2.3534e-02,  2.2309e-02, -5.2899e-02, -2.7226e-02,\n",
      "         6.2681e-02, -1.3040e-02,  1.8698e-02,  4.2650e-02,  3.1955e-02,\n",
      "        -5.7750e-02, -8.1956e-03,  1.2144e-01, -2.9257e-02,  3.1943e-02,\n",
      "         4.4995e-03, -6.3683e-02,  1.9719e-02, -4.1093e-33, -1.0459e-02,\n",
      "         2.4319e-02, -1.7980e-02,  2.6999e-02, -2.3472e-02, -5.3945e-02,\n",
      "        -9.2532e-03,  2.3298e-02,  2.8706e-02, -4.7271e-02, -1.2451e-01,\n",
      "         6.9604e-02,  9.2206e-02, -1.9374e-02,  2.1670e-02, -5.5745e-02,\n",
      "         3.1481e-02, -9.4842e-02,  4.1239e-02,  4.4678e-02,  4.9865e-02,\n",
      "         1.6007e-02,  5.8298e-02,  1.8147e-03,  3.1571e-03, -6.6323e-02,\n",
      "        -3.7953e-02,  4.0318e-02,  3.1647e-03, -4.4916e-02,  1.2077e-01,\n",
      "         2.0162e-02,  2.0263e-03,  6.9436e-02,  7.2155e-02, -1.9995e-02,\n",
      "         6.4360e-02,  3.8594e-02, -5.2274e-02,  1.6124e-03,  2.5121e-02,\n",
      "         5.4872e-02, -2.8088e-02,  8.5792e-03,  5.3959e-02,  1.6499e-02,\n",
      "        -4.2129e-02, -1.1769e-02,  7.8670e-03, -2.3620e-02,  5.3329e-02,\n",
      "         3.4514e-02, -1.0455e-02, -9.6631e-02, -6.6746e-02, -3.1383e-02,\n",
      "        -3.0563e-04, -1.1506e-01, -5.9809e-02,  1.6980e-02,  1.3242e-01,\n",
      "        -1.5655e-04, -2.5582e-02, -6.3081e-02,  1.0745e-02,  5.5941e-02,\n",
      "         1.8936e-02,  8.7704e-02, -1.4038e-02,  1.9799e-02, -1.4232e-02,\n",
      "        -4.7015e-02, -7.7329e-02,  2.2258e-02,  7.2433e-02,  3.7348e-02,\n",
      "        -1.4832e-01,  1.3938e-02,  2.8838e-02, -1.1555e-02, -2.2982e-02,\n",
      "         7.2003e-02,  4.8908e-02, -4.2325e-03, -3.8241e-02,  5.1328e-02,\n",
      "        -9.2534e-04, -5.6038e-02,  2.1115e-03,  3.1628e-02,  5.3804e-02,\n",
      "         3.0252e-02, -6.4628e-04,  3.6597e-02, -2.9017e-02, -2.4595e-08,\n",
      "         8.7138e-03, -1.6851e-03,  6.1641e-02, -5.6214e-03, -8.1227e-03,\n",
      "        -6.5432e-02, -1.2104e-02, -4.9807e-02,  1.2649e-01,  3.5576e-02,\n",
      "         2.5351e-02, -4.5844e-02,  4.9180e-03,  3.1522e-02, -1.0359e-02,\n",
      "         1.1188e-01,  5.8070e-02, -2.9350e-02, -6.2988e-02,  5.8079e-02,\n",
      "         7.7567e-02,  6.7091e-02, -2.8740e-02, -3.2976e-02,  4.8420e-04,\n",
      "         3.6302e-02, -7.6793e-02, -8.4641e-03,  4.1302e-02, -7.7650e-03,\n",
      "         2.9870e-03,  3.6703e-02, -1.3683e-02, -8.1791e-02, -7.1652e-03,\n",
      "        -1.8614e-02,  6.8777e-02,  4.6913e-02,  6.0374e-02,  2.7375e-02,\n",
      "         5.3578e-02, -4.7125e-02,  1.9394e-02, -8.2380e-03,  1.4305e-02,\n",
      "        -5.6517e-02, -6.1723e-02, -1.0869e-01, -3.2994e-02,  2.8050e-02,\n",
      "        -3.9584e-03,  2.8795e-03, -4.5401e-02,  6.2586e-03,  9.2306e-02,\n",
      "        -8.0461e-02,  4.2005e-02,  1.3517e-02, -5.4332e-02, -3.7897e-02,\n",
      "         1.1246e-01,  3.9796e-02, -2.1834e-02,  2.1599e-02])\n"
     ]
    }
   ],
   "source": [
    "# Exemplo de embeddings de um título\n",
    "print(X_train_bert_title[0])"
   ]
  },
  {
   "cell_type": "code",
   "execution_count": 19,
   "id": "a0b6bb53",
   "metadata": {},
   "outputs": [
    {
     "data": {
      "application/vnd.jupyter.widget-view+json": {
       "model_id": "15cba74522c94935927890aa9bb3ee00",
       "version_major": 2,
       "version_minor": 0
      },
      "text/plain": [
       "Batches:   0%|          | 0/201 [00:00<?, ?it/s]"
      ]
     },
     "metadata": {},
     "output_type": "display_data"
    },
    {
     "data": {
      "application/vnd.jupyter.widget-view+json": {
       "model_id": "cde0beb70fbe4769a7344cd5c6b3c537",
       "version_major": 2,
       "version_minor": 0
      },
      "text/plain": [
       "Batches:   0%|          | 0/86 [00:00<?, ?it/s]"
      ]
     },
     "metadata": {},
     "output_type": "display_data"
    }
   ],
   "source": [
    "# Gerando as representações textuais (embeddings) das descrições através de encode()\n",
    "X_train_bert_desc = bert_model.encode(bert_desc_train,\n",
    "                                       convert_to_tensor=True,\n",
    "                                       normalize_embeddings=True,\n",
    "                                       batch_size=128,\n",
    "                                       show_progress_bar=True)\n",
    "\n",
    "X_test_bert_desc = bert_model.encode(bert_desc_test,\n",
    "                                      convert_to_tensor=True,\n",
    "                                      normalize_embeddings=True,\n",
    "                                      batch_size=128,\n",
    "                                      show_progress_bar=True)"
   ]
  },
  {
   "cell_type": "code",
   "execution_count": 20,
   "id": "5bbfbabd",
   "metadata": {},
   "outputs": [
    {
     "name": "stdout",
     "output_type": "stream",
     "text": [
      "tensor([-8.5033e-02,  3.0475e-02,  1.1160e-02, -4.6334e-02, -2.5311e-02,\n",
      "         2.9835e-02,  1.1537e-01,  1.1959e-01,  5.5993e-02,  1.0386e-03,\n",
      "         5.4342e-02, -8.3674e-02,  5.0282e-02, -2.6373e-02, -6.7810e-02,\n",
      "        -7.6859e-02,  2.5663e-02,  2.7661e-02,  2.7025e-02,  6.5931e-02,\n",
      "         5.3653e-02, -3.6472e-02, -2.2026e-02,  3.9907e-02, -7.1298e-02,\n",
      "         3.8152e-02,  5.2655e-02,  1.6044e-02, -7.1029e-02, -1.5185e-01,\n",
      "         3.5255e-02,  7.1137e-02,  3.9825e-02, -4.5012e-02, -3.0771e-02,\n",
      "        -6.8105e-03,  1.0376e-02, -1.1391e-01, -2.1023e-02,  1.7319e-02,\n",
      "        -3.4681e-02, -4.5303e-03, -6.4456e-03, -6.2097e-02, -8.2674e-03,\n",
      "        -3.0539e-02,  9.0813e-04,  2.0198e-02, -3.8560e-02,  1.1779e-02,\n",
      "        -7.9544e-02, -1.5377e-02, -2.6443e-02,  3.3843e-02, -4.3702e-02,\n",
      "        -5.5014e-02,  4.1257e-02,  3.0742e-02,  7.6322e-02,  2.6673e-02,\n",
      "         1.3072e-02,  3.9770e-02,  9.2158e-03,  5.2161e-02, -9.4244e-03,\n",
      "        -8.8102e-02,  7.5452e-02, -1.2297e-02, -1.4740e-01,  1.0176e-01,\n",
      "         7.2529e-02, -2.8321e-03, -1.8365e-02,  4.0943e-02, -4.9119e-02,\n",
      "         3.2264e-02, -6.9648e-03, -2.8374e-02, -2.9673e-02, -8.4529e-02,\n",
      "         8.7637e-02, -1.5951e-02,  1.5391e-02, -5.1726e-02,  2.9432e-02,\n",
      "        -1.4889e-02,  2.3953e-02, -3.6076e-02,  3.3679e-02, -3.5988e-02,\n",
      "        -8.5044e-02,  1.1867e-01, -8.0108e-02,  1.0124e-02,  1.3993e-02,\n",
      "        -3.5128e-02, -3.0536e-02, -9.8002e-02,  6.1820e-03,  2.7068e-02,\n",
      "         4.7530e-02,  5.3510e-02,  7.0070e-03,  6.8747e-02, -1.1251e-01,\n",
      "         3.4554e-03,  2.4527e-02, -8.3652e-03,  5.3125e-02,  5.5775e-02,\n",
      "        -3.4010e-02, -4.4652e-02, -4.5042e-03, -8.2702e-02, -2.1300e-02,\n",
      "         7.5559e-03, -5.2324e-02, -4.6918e-02, -2.4325e-02, -2.6728e-02,\n",
      "         3.6078e-02, -5.7061e-02, -4.9163e-02, -5.0347e-02,  5.1740e-02,\n",
      "        -2.8932e-02,  6.7661e-02, -2.3472e-33, -7.8188e-03, -5.3637e-02,\n",
      "         1.6258e-02,  3.4399e-02,  6.1546e-02, -5.3879e-02, -4.9904e-02,\n",
      "        -1.1279e-02, -7.9200e-02,  3.1044e-02, -1.0887e-01,  1.1411e-02,\n",
      "        -5.2922e-03,  1.5667e-02,  5.4712e-02,  5.3339e-02,  2.1872e-02,\n",
      "        -5.8250e-02,  2.0106e-02, -5.2092e-03, -3.0437e-02, -2.3946e-02,\n",
      "         9.8815e-03,  2.2021e-02,  5.8367e-02,  5.7328e-02,  2.5133e-02,\n",
      "        -9.0386e-02, -2.6924e-02,  1.6801e-02,  7.6232e-02, -1.5644e-02,\n",
      "        -6.0319e-02, -2.6255e-02,  2.3588e-02, -2.7324e-02,  2.6287e-02,\n",
      "         4.3191e-02, -7.0467e-02, -3.2128e-02,  3.7784e-02, -4.9425e-03,\n",
      "         4.6931e-02, -6.9041e-02, -6.5456e-05,  4.4593e-03, -1.2293e-02,\n",
      "        -2.6875e-02,  1.1468e-01,  2.2489e-02,  2.6002e-02, -7.3708e-03,\n",
      "        -2.4518e-02, -2.5544e-02,  3.9938e-02,  2.9491e-02, -1.0352e-01,\n",
      "         4.0958e-02,  3.9668e-02, -3.5910e-02,  1.2218e-02, -7.8609e-02,\n",
      "        -3.3525e-02, -6.7572e-02, -1.1197e-01, -3.7829e-02, -1.0034e-02,\n",
      "        -4.7139e-03,  7.7815e-02,  1.1538e-02, -7.1286e-02, -3.5545e-02,\n",
      "         1.6009e-02,  4.8151e-02, -5.6027e-02,  1.8228e-02, -7.8005e-02,\n",
      "        -6.6720e-02, -3.7387e-02,  5.1275e-02,  1.5849e-03, -4.1657e-02,\n",
      "         8.7333e-02, -3.0169e-02,  1.2452e-01,  3.1070e-02, -2.7046e-02,\n",
      "        -3.8392e-03,  1.1285e-02,  8.1813e-02,  3.3360e-02,  6.4542e-02,\n",
      "         1.4575e-02, -4.6549e-02,  2.4981e-02,  3.6144e-35,  4.6653e-02,\n",
      "         1.6863e-02, -3.0800e-03,  7.1357e-02,  2.1501e-02,  5.5005e-03,\n",
      "        -6.6629e-02,  7.2243e-02, -1.0082e-02, -3.0753e-02, -4.3231e-02,\n",
      "        -3.5539e-02,  9.5990e-02, -1.5746e-02, -2.8756e-02,  1.3537e-02,\n",
      "        -1.0626e-02, -2.8828e-02, -1.4709e-03, -5.6090e-02, -2.9021e-02,\n",
      "        -4.4621e-02,  1.2179e-01, -4.7247e-02, -4.5359e-02, -4.2864e-02,\n",
      "         7.6490e-02,  8.4354e-02, -2.8407e-02,  3.4253e-02,  4.0483e-02,\n",
      "        -2.6565e-02, -6.0280e-02,  1.6088e-02,  1.2263e-02,  3.6748e-02,\n",
      "         5.5185e-02,  4.7012e-02, -8.1059e-02,  5.3452e-02, -5.4592e-02,\n",
      "         7.1471e-02, -5.3724e-03, -1.3671e-02,  9.2127e-03,  8.3695e-03,\n",
      "         1.1749e-03, -7.6131e-02, -5.7710e-02,  2.3947e-02,  7.4371e-02,\n",
      "         4.7816e-02, -2.1361e-02, -5.1880e-02,  7.4395e-02, -7.6708e-02,\n",
      "        -7.2533e-02, -3.2329e-02, -3.1255e-02,  1.9283e-02,  1.0039e-01,\n",
      "         8.7000e-02, -5.0007e-02, -2.6686e-02,  6.2537e-02,  8.7834e-02,\n",
      "        -1.6100e-03,  7.8776e-02,  2.7380e-02,  6.6336e-03,  3.4310e-02,\n",
      "        -7.4942e-02, -7.4637e-02, -1.8246e-02, -1.9797e-02, -5.6299e-02,\n",
      "        -7.3248e-02,  7.8960e-02,  5.4410e-02,  3.5568e-02,  1.5644e-02,\n",
      "        -9.3958e-02, -3.3845e-02,  1.1176e-02,  7.9331e-04,  6.4877e-02,\n",
      "         2.1716e-02, -2.2680e-02, -2.1947e-03,  7.9033e-02,  9.1504e-04,\n",
      "         5.0408e-02,  4.0602e-02, -1.3712e-03,  7.2022e-03, -3.2032e-08,\n",
      "        -4.1890e-02, -6.2649e-02, -5.0901e-02, -1.5386e-02,  5.1353e-02,\n",
      "        -3.9448e-02, -3.2054e-02, -3.9981e-02,  4.5265e-02, -6.5243e-03,\n",
      "         1.9718e-02,  3.1397e-03,  4.3068e-02,  8.8178e-02,  2.8528e-02,\n",
      "         8.9288e-02,  4.3293e-02,  6.9978e-02, -2.7921e-02,  3.2797e-02,\n",
      "         7.6102e-02, -2.7907e-03, -2.1363e-02, -4.5433e-02, -1.4190e-02,\n",
      "         5.6861e-02, -3.6003e-02, -4.1273e-02, -2.1542e-02, -2.0845e-02,\n",
      "        -3.6872e-02,  7.6790e-02,  2.9211e-02, -1.2920e-01, -5.2855e-02,\n",
      "         1.2977e-02,  6.7943e-02,  2.7980e-02, -4.1098e-02,  2.3094e-02,\n",
      "         8.1332e-02,  2.6916e-02,  1.1807e-01, -5.1647e-02, -5.6355e-03,\n",
      "        -2.3357e-03,  3.5285e-02, -1.9299e-02,  1.7887e-03, -1.0803e-03,\n",
      "        -1.4338e-01, -2.9013e-02, -2.6671e-02,  7.7743e-02,  5.0216e-02,\n",
      "        -2.0180e-02,  4.6081e-02,  3.3496e-02, -3.0419e-02,  3.5040e-02,\n",
      "         3.4768e-02,  8.8910e-02,  1.2967e-02, -7.7751e-03])\n"
     ]
    }
   ],
   "source": [
    "# Exemplo de embeddings de uma descrição\n",
    "print(X_train_bert_desc[0])"
   ]
  },
  {
   "cell_type": "markdown",
   "id": "9efc0abd",
   "metadata": {},
   "source": [
    "8. Concatenando através de `np.hstack` as features transformadas para treino e teste."
   ]
  },
  {
   "cell_type": "code",
   "execution_count": 21,
   "id": "37bf13b7",
   "metadata": {},
   "outputs": [],
   "source": [
    "X_train_bert_preprocessed = np.hstack((X_train_bert_title,\n",
    "                                       X_train_bert_desc))\n",
    "\n",
    "X_test_bert_preprocessed = np.hstack((X_test_bert_title,\n",
    "                                      X_test_bert_desc))"
   ]
  },
  {
   "cell_type": "markdown",
   "id": "10789bdd",
   "metadata": {},
   "source": [
    "9. Treinando e testando modelo de classificação multiclasse."
   ]
  },
  {
   "cell_type": "code",
   "execution_count": 22,
   "id": "e67e2f3d",
   "metadata": {},
   "outputs": [],
   "source": [
    "# Definindo modelo de classificação\n",
    "model = SVC(class_weight='balanced', random_state=42)\n",
    "\n",
    "# Treinando o modelo com dados de treino\n",
    "model.fit(X_train_bert_preprocessed, y_train_bert)\n",
    "\n",
    "# Testando o modelo nos dados de teste\n",
    "prediction = model.predict(X_test_bert_preprocessed)"
   ]
  },
  {
   "cell_type": "markdown",
   "id": "fbf36d3a",
   "metadata": {},
   "source": [
    "10. Imprimindo relatório das métricas de avaliação e matriz de confusão."
   ]
  },
  {
   "cell_type": "code",
   "execution_count": 23,
   "id": "077e33db",
   "metadata": {},
   "outputs": [
    {
     "name": "stdout",
     "output_type": "stream",
     "text": [
      "\n",
      "Relatório de Classificação:\n",
      "              precision    recall  f1-score   support\n",
      "\n",
      "        ALTA       0.41      0.52      0.46      1481\n",
      "       BAIXA       0.80      0.72      0.76      6140\n",
      "       MEDIA       0.53      0.56      0.54      3372\n",
      "\n",
      "    accuracy                           0.64     10993\n",
      "   macro avg       0.58      0.60      0.59     10993\n",
      "weighted avg       0.66      0.64      0.65     10993\n",
      "\n",
      "\n",
      "Matriz de Confusão:\n",
      "[[ 776  246  459]\n",
      " [ 490 4410 1240]\n",
      " [ 634  856 1882]]\n"
     ]
    }
   ],
   "source": [
    "# Imprimindo métricas de avaliação do modelo\n",
    "print('\\nRelatório de Classificação:')\n",
    "cr_bert = classification_report(y_test_bert, prediction)\n",
    "print(cr_bert)\n",
    "\n",
    "# Imprimindo matriz de confusão\n",
    "print('\\nMatriz de Confusão:')\n",
    "cm_bert = confusion_matrix(y_test_bert, prediction)\n",
    "print(cm_bert)"
   ]
  },
  {
   "cell_type": "code",
   "execution_count": 24,
   "id": "c3b869a3",
   "metadata": {},
   "outputs": [
    {
     "data": {
      "image/png": "[encoded data removed]",
      "text/plain": [
       "<Figure size 500x400 with 2 Axes>"
      ]
     },
     "metadata": {},
     "output_type": "display_data"
    }
   ],
   "source": [
    "# Plotando a matriz de confusão como heatmap\n",
    "labels = ['ALTA', 'BAIXA', 'MEDIA']\n",
    "plot_confusion_matrix(y_test_bert, prediction, labels)"
   ]
  }
 ],
 "metadata": {
  "kernelspec": {
   "display_name": "Python 3 (ipykernel)",
   "language": "python",
   "name": "python3"
  },
  "language_info": {
   "codemirror_mode": {
    "name": "ipython",
    "version": 3
   },
   "file_extension": ".py",
   "mimetype": "text/x-python",
   "name": "python",
   "nbconvert_exporter": "python",
   "pygments_lexer": "ipython3",
   "version": "3.9.13"
  }
 },
 "nbformat": 4,
 "nbformat_minor": 5
}
