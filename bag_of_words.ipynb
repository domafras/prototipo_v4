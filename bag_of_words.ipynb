{
 "cells": [
  {
   "cell_type": "markdown",
   "id": "c80d37cf",
   "metadata": {
    "jp-MarkdownHeadingCollapsed": true,
    "tags": []
   },
   "source": [
    "## Bag of Words"
   ]
  },
  {
   "cell_type": "code",
   "execution_count": 1,
   "id": "9a31fd94",
   "metadata": {},
   "outputs": [
    {
     "name": "stdout",
     "output_type": "stream",
     "text": [
      "Requirement already satisfied: isodate in c:\\users\\domaf\\anaconda3\\lib\\site-packages (0.6.1)\n",
      "Requirement already satisfied: six in c:\\users\\domaf\\anaconda3\\lib\\site-packages (from isodate) (1.16.0)\n",
      "Requirement already satisfied: plotly in c:\\users\\domaf\\anaconda3\\lib\\site-packages (5.9.0)\n",
      "Requirement already satisfied: tenacity>=6.2.0 in c:\\users\\domaf\\anaconda3\\lib\\site-packages (from plotly) (8.0.1)\n"
     ]
    },
    {
     "name": "stderr",
     "output_type": "stream",
     "text": [
      "[nltk_data] Downloading package stopwords to\n",
      "[nltk_data]     C:\\Users\\domaf\\AppData\\Roaming\\nltk_data...\n",
      "[nltk_data]   Package stopwords is already up-to-date!\n"
     ]
    }
   ],
   "source": [
    "# Importando bibliotecas e funções\n",
    "from libs import *\n",
    "from utils import *"
   ]
  },
  {
   "cell_type": "markdown",
   "id": "92cf97dc",
   "metadata": {},
   "source": [
    "O Bag of Words é uma técnica de representação textual (neste caso, títulos e descrições de vídeos) é representado como um vetor que contém a contagem das frequências das palavras no vocabulário. Essa abordagem trata o texto como uma \"sacola\" de palavras, onde a ordem das palavras é ignorada e apenas as frequências são consideradas."
   ]
  },
  {
   "cell_type": "code",
   "execution_count": 2,
   "id": "2df672e3",
   "metadata": {},
   "outputs": [
    {
     "name": "stdout",
     "output_type": "stream",
     "text": [
      "\n",
      "Exemplos de texto:\n",
      "['Exemplo', 'Palavra exemplo', 'Exemplo de palavra (palavra)']\n",
      "\n",
      "Palavras-chave:\n",
      "['de' 'exemplo' 'palavra']\n",
      "\n",
      "Matriz: 'de', 'exemplo', 'palavra'\n",
      "[[0 1 0]\n",
      " [0 1 1]\n",
      " [1 1 2]]\n"
     ]
    }
   ],
   "source": [
    "# Exemplo de texto\n",
    "sample_text = [\"Exemplo\",\n",
    "               \"Palavra exemplo\",\n",
    "               \"Exemplo de palavra (palavra)\"]\n",
    "\n",
    "# Criando uma instância do CountVectorizer\n",
    "count_vectorizer = CountVectorizer(max_features=100)  \n",
    "\n",
    "# Ajustando e transformando o texto\n",
    "text_transformed = count_vectorizer.fit_transform(sample_text)\n",
    "\n",
    "# Convertendo a matriz esparsa em uma matriz densa para visualizar\n",
    "text_transformed_dense = text_transformed.toarray()\n",
    "\n",
    "# Mostrando os textos exemplo\n",
    "print(\"\\nExemplos de texto:\")\n",
    "print(sample_text)\n",
    "\n",
    "# Visualizando palavras-chave\n",
    "feature_names = count_vectorizer.get_feature_names_out()\n",
    "print(\"\\nPalavras-chave:\")\n",
    "print(feature_names)\n",
    "\n",
    "# Exibindo os resultados\n",
    "print(\"\\nMatriz: 'de', 'exemplo', 'palavra'\")\n",
    "print(text_transformed_dense)"
   ]
  },
  {
   "cell_type": "markdown",
   "id": "b0a95231",
   "metadata": {},
   "source": [
    "Cada coluna representa uma palavra-chave, cada linha representa um texto e os valores nas células indicam a frequência com que cada palavra-chave aparece em cada texto.\n",
    "\n",
    "Neste exemplo apresentado:\n",
    "\n",
    "- No primeiro texto ('Exemplo'), a palavra 'de' não aparece ('0'), 'exemplo' aparece uma vez ('1'), e 'palavra' não aparece ('0').\n",
    "- No segundo texto ('Palavra exemplo'), 'de' não aparece ('0'), 'exemplo' aparece uma vez ('1'), e 'palavra' também aparece uma vez ('1').\n",
    "- No terceiro texto ('Exemplo de palavra (palavra)'), 'de' aparece uma vez ('1'), 'exemplo' aparece uma vez ('1'), e 'palavra' aparece duas vezes ('2')."
   ]
  },
  {
   "cell_type": "markdown",
   "id": "de57f522",
   "metadata": {},
   "source": [
    "1. Carregando base de dados em um DataFrame do Pandas."
   ]
  },
  {
   "cell_type": "code",
   "execution_count": 3,
   "id": "56cde438",
   "metadata": {},
   "outputs": [],
   "source": [
    "# Definindo dataframe preprocessado antes dos pipelines\n",
    "df_bow = pd.read_csv('data/data3.csv')"
   ]
  },
  {
   "cell_type": "code",
   "execution_count": 4,
   "id": "746405d5",
   "metadata": {},
   "outputs": [],
   "source": [
    "# Amostra de 10%\n",
    "#df_bow = df_bow.sample(frac=0.1, random_state=42) "
   ]
  },
  {
   "cell_type": "code",
   "execution_count": 5,
   "id": "910fde50",
   "metadata": {},
   "outputs": [
    {
     "data": {
      "text/plain": [
       "(36642, 18)"
      ]
     },
     "execution_count": 5,
     "metadata": {},
     "output_type": "execute_result"
    }
   ],
   "source": [
    "# Dimensões\n",
    "df_bow.shape"
   ]
  },
  {
   "cell_type": "code",
   "execution_count": 6,
   "id": "c7def499",
   "metadata": {},
   "outputs": [],
   "source": [
    "# Definindo colunas numéricas, categóricas e textuais\n",
    "numeric_features = ['year', 'video_count', 'view_count_x', 'subscriber_count', \n",
    "                    'aux_status', 'comment_count_y','dislike_count', 'view_count_y',\n",
    "                        'like_count', 'video_duration', 'published_at']\n",
    "\n",
    "categorical_features = ['channel_id','category', 'gender']\n",
    "\n",
    "textual_features = ['video_title', 'video_desc']"
   ]
  },
  {
   "cell_type": "code",
   "execution_count": 7,
   "id": "3435f43d",
   "metadata": {},
   "outputs": [],
   "source": [
    "# Substituindo valores nulos por uma string vazia\n",
    "df_bow[textual_features] = df_bow[textual_features].fillna('')"
   ]
  },
  {
   "cell_type": "markdown",
   "id": "1513f6c8",
   "metadata": {},
   "source": [
    "2. Dividindo os dados em treino e teste, de maneira a evitar vazamento de dados (data leakage)."
   ]
  },
  {
   "cell_type": "code",
   "execution_count": 8,
   "id": "9b331a05",
   "metadata": {},
   "outputs": [],
   "source": [
    "# Separando features (X) e alvo (y)\n",
    "#X = df_bow[textual_features + categorical_features] \n",
    "X = df_bow[textual_features]\n",
    "y = df_bow['popularity']\n",
    "\n",
    "# Dividindo os dados em treino e teste\n",
    "X_train_bow, X_test_bow, y_train_bow, y_test_bow = train_test_split(X, y, test_size=0.3, random_state=42)"
   ]
  },
  {
   "cell_type": "markdown",
   "id": "d06d4fd9",
   "metadata": {},
   "source": [
    "3. Aplicando `OneHotEncoder` nas colunas categóricas e transformando matriz."
   ]
  },
  {
   "cell_type": "code",
   "execution_count": 9,
   "id": "a54724eb",
   "metadata": {},
   "outputs": [
    {
     "data": {
      "text/plain": [
       "\"\\n# Aplicando OneHotEncoder nas colunas categóricas com handle_unknown='ignore'\\nencoder = OneHotEncoder(handle_unknown='ignore')\\n\\nX_train_bow_categorical = encoder.fit_transform(X_train_bow[categorical_features])\\nX_test_bow_categorical = encoder.transform(X_test_bow[categorical_features])\\n\\n# 3 features categóricas representadas em matriz esparsa\\nprint(X_train_bow_categorical[0])\\n\\n# Transformando as features categóricas em matriz densa (array) para combinar com outras features no futuro\\nX_train_bow_categorical = X_train_bow_categorical.toarray()\\nX_test_bow_categorical = X_test_bow_categorical.toarray()\\n\""
      ]
     },
     "execution_count": 9,
     "metadata": {},
     "output_type": "execute_result"
    }
   ],
   "source": [
    "\"\"\"\n",
    "# Aplicando OneHotEncoder nas colunas categóricas com handle_unknown='ignore'\n",
    "encoder = OneHotEncoder(handle_unknown='ignore')\n",
    "\n",
    "X_train_bow_categorical = encoder.fit_transform(X_train_bow[categorical_features])\n",
    "X_test_bow_categorical = encoder.transform(X_test_bow[categorical_features])\n",
    "\n",
    "# 3 features categóricas representadas em matriz esparsa\n",
    "print(X_train_bow_categorical[0])\n",
    "\n",
    "# Transformando as features categóricas em matriz densa (array) para combinar com outras features no futuro\n",
    "X_train_bow_categorical = X_train_bow_categorical.toarray()\n",
    "X_test_bow_categorical = X_test_bow_categorical.toarray()\n",
    "\"\"\""
   ]
  },
  {
   "cell_type": "markdown",
   "id": "eb73b07b",
   "metadata": {},
   "source": [
    "4. Iniciando `CountVectorizer()` para a criação de representações Bag of Words."
   ]
  },
  {
   "cell_type": "code",
   "execution_count": 10,
   "id": "b02e1001",
   "metadata": {},
   "outputs": [],
   "source": [
    "# Criando uma instância do CountVectorizer\n",
    "count_vectorizer = CountVectorizer(max_features=100) "
   ]
  },
  {
   "cell_type": "code",
   "execution_count": 11,
   "id": "93cd4e2c",
   "metadata": {},
   "outputs": [],
   "source": [
    "# Definindo valores dos títulos de treino e de teste\n",
    "bow_title_train = X_train_bow['video_title'].values\n",
    "bow_title_test = X_test_bow['video_title'].values"
   ]
  },
  {
   "cell_type": "code",
   "execution_count": 12,
   "id": "e3349750",
   "metadata": {},
   "outputs": [
    {
     "data": {
      "text/plain": [
       "'galaxy a20 v moto g8 play falta memória põe tudo perder'"
      ]
     },
     "execution_count": 12,
     "metadata": {},
     "output_type": "execute_result"
    }
   ],
   "source": [
    "# Exemplo de título separado para treino\n",
    "bow_title_train[0]"
   ]
  },
  {
   "cell_type": "code",
   "execution_count": 13,
   "id": "5cbeadce",
   "metadata": {},
   "outputs": [],
   "source": [
    "# Definindo valores das descrições de treino e de teste\n",
    "bow_desc_train = X_train_bow['video_desc'].values\n",
    "bow_desc_test = X_test_bow['video_desc'].values"
   ]
  },
  {
   "cell_type": "code",
   "execution_count": 14,
   "id": "3e1e7d07",
   "metadata": {},
   "outputs": [
    {
     "data": {
      "text/plain": [
       "'inscrevase vídeos ofertas moto g8 play'"
      ]
     },
     "execution_count": 14,
     "metadata": {},
     "output_type": "execute_result"
    }
   ],
   "source": [
    "# Exemplo de descrição separado para treino\n",
    "bow_desc_train[0]"
   ]
  },
  {
   "cell_type": "markdown",
   "id": "860431bb",
   "metadata": {},
   "source": [
    "5. Transformando os títulos e descrições dos conjuntos de treino e teste usando o CountVectorizer() "
   ]
  },
  {
   "cell_type": "code",
   "execution_count": 15,
   "id": "8e0d6921",
   "metadata": {},
   "outputs": [],
   "source": [
    "# Ajustando e transformando os titulos\n",
    "X_train_bow_title = count_vectorizer.fit_transform(bow_title_train)\n",
    "X_test_bow_title = count_vectorizer.transform(bow_title_test)"
   ]
  },
  {
   "cell_type": "code",
   "execution_count": 16,
   "id": "9798077b",
   "metadata": {},
   "outputs": [],
   "source": [
    "# Convertendo a matriz esparsa em uma matriz densa para visualizar\n",
    "X_train_bow_title = X_train_bow_title.toarray()\n",
    "X_test_bow_title = X_test_bow_title.toarray()"
   ]
  },
  {
   "cell_type": "code",
   "execution_count": 17,
   "id": "b8e6e28d",
   "metadata": {},
   "outputs": [
    {
     "name": "stdout",
     "output_type": "stream",
     "text": [
      "[0 0 0 0 0 0 0 0 0 0 0 0 0 0 0 0 0 0 0 0 0 0 0 0 0 0 0 0 0 0 0 0 0 0 0 0 0\n",
      " 0 0 0 0 0 1 0 0 0 0 0 0 0 0 0 0 0 0 1 0 0 0 0 0 0 0 0 0 0 0 0 0 0 0 0 0 0\n",
      " 0 0 0 0 0 0 0 0 0 0 0 0 0 0 1 0 0 0 0 0 0 0 0 0 0 0]\n"
     ]
    }
   ],
   "source": [
    "print(X_train_bow_title[0])"
   ]
  },
  {
   "cell_type": "code",
   "execution_count": 18,
   "id": "32b61d55",
   "metadata": {},
   "outputs": [],
   "source": [
    "# Ajustando e transformando as descrições\n",
    "X_train_bow_desc = count_vectorizer.fit_transform(bow_desc_train)\n",
    "X_test_bow_desc = count_vectorizer.transform(bow_desc_test)"
   ]
  },
  {
   "cell_type": "code",
   "execution_count": 19,
   "id": "e45ecba4",
   "metadata": {},
   "outputs": [],
   "source": [
    "# Convertendo a matriz esparsa em uma matriz densa para visualizar\n",
    "X_train_bow_desc = X_train_bow_desc.toarray()\n",
    "X_test_bow_desc = X_test_bow_desc.toarray()"
   ]
  },
  {
   "cell_type": "code",
   "execution_count": 20,
   "id": "d6c4d818",
   "metadata": {},
   "outputs": [
    {
     "name": "stdout",
     "output_type": "stream",
     "text": [
      "[0 0 0 0 0 0 0 0 0 0 0 0 0 0 0 0 0 0 0 0 0 0 0 0 0 0 0 0 0 0 0 0 0 0 0 0 0\n",
      " 0 0 0 0 0 0 0 0 0 1 0 0 0 0 0 0 0 0 0 0 0 0 0 0 0 0 0 0 0 0 0 0 0 0 0 0 0\n",
      " 0 0 0 0 0 0 0 0 0 0 0 0 0 0 0 0 0 0 0 0 0 0 0 0 1 0]\n"
     ]
    }
   ],
   "source": [
    "print(X_train_bow_desc[0])"
   ]
  },
  {
   "cell_type": "code",
   "execution_count": 21,
   "id": "0b03c4bd",
   "metadata": {},
   "outputs": [
    {
     "name": "stdout",
     "output_type": "stream",
     "text": [
      "(25649, 100)\n",
      "(25649, 100)\n"
     ]
    }
   ],
   "source": [
    "#print(X_train_bow_numeric.shape)\n",
    "#print(X_train_bow_categorical.shape)\n",
    "print(X_train_bow_title.shape)\n",
    "print(X_train_bow_desc.shape)"
   ]
  },
  {
   "cell_type": "markdown",
   "id": "cfb516a1",
   "metadata": {},
   "source": [
    "6. Concatenando através de `np.hstack` as features transformadas para treino e teste.\n",
    "\n",
    "Para concatenar as matrizes transformadas, `np.hstack`(Horizontal Stack) é uma função usada para empilhar matrizes horizontalmente, ou seja, ao longo das colunas. Portanto, as matrizes precisam ter o mesmo número de linhas (amostras) para serem concatenadas, como verificado na célula acima."
   ]
  },
  {
   "cell_type": "code",
   "execution_count": 22,
   "id": "157b6822",
   "metadata": {},
   "outputs": [],
   "source": [
    "# Concatenando todas as features processadas\n",
    "X_train_bow_preprocessed = np.hstack((X_train_bow_title,\n",
    "                                      X_train_bow_desc))\n",
    "\n",
    "X_test_bow_preprocessed = np.hstack((X_test_bow_title,\n",
    "                                     X_test_bow_desc))"
   ]
  },
  {
   "cell_type": "markdown",
   "id": "ea7923da",
   "metadata": {},
   "source": [
    "6. Treinando e testando o modelo de classificação multiclasse."
   ]
  },
  {
   "cell_type": "code",
   "execution_count": 23,
   "id": "84dfd281",
   "metadata": {},
   "outputs": [],
   "source": [
    "# Instanciando modelo para classificação multiclasse\n",
    "model = SVC(class_weight='balanced', random_state=42)\n",
    "\n",
    "# Treinando modelo com dados de treino\n",
    "model.fit(X_train_bow_preprocessed, y_train_bow)\n",
    "\n",
    "# Testando modelo nos dados de teste\n",
    "prediction = model.predict(X_test_bow_preprocessed)"
   ]
  },
  {
   "cell_type": "markdown",
   "id": "bfc409c0",
   "metadata": {},
   "source": [
    "7. Imprimindo relatório das métricas de avaliação e matriz de confusão."
   ]
  },
  {
   "cell_type": "code",
   "execution_count": 24,
   "id": "9396d579",
   "metadata": {},
   "outputs": [
    {
     "name": "stdout",
     "output_type": "stream",
     "text": [
      "\n",
      "Relatório de Classificação:\n",
      "              precision    recall  f1-score   support\n",
      "\n",
      "           0       0.78      0.63      0.70      6140\n",
      "           1       0.51      0.45      0.48      3372\n",
      "           2       0.27      0.56      0.36      1481\n",
      "\n",
      "    accuracy                           0.56     10993\n",
      "   macro avg       0.52      0.55      0.51     10993\n",
      "weighted avg       0.63      0.56      0.58     10993\n",
      "\n",
      "\n",
      "Matriz de Confusão:\n",
      "[[3871 1045 1224]\n",
      " [ 837 1505 1030]\n",
      " [ 248  403  830]]\n"
     ]
    }
   ],
   "source": [
    "# Imprimindo métricas de avaliação do modelo\n",
    "print('\\nRelatório de Classificação:')\n",
    "cr_bow = classification_report(y_test_bow, prediction)\n",
    "print(cr_bow)\n",
    "\n",
    "print('\\nMatriz de Confusão:')\n",
    "cm_bow = confusion_matrix(y_test_bow, prediction)\n",
    "print(cm_bow)"
   ]
  },
  {
   "cell_type": "code",
   "execution_count": 25,
   "id": "8020e384",
   "metadata": {},
   "outputs": [
    {
     "data": {
      "image/png": "[encoded data removed]",
      "text/plain": [
       "<Figure size 500x400 with 2 Axes>"
      ]
     },
     "metadata": {},
     "output_type": "display_data"
    }
   ],
   "source": [
    "# Plotando a matriz de confusão como heatmap\n",
    "labels = ['ALTA', 'BAIXA', 'MEDIA']\n",
    "plot_confusion_matrix(y_test_bow, prediction, labels)"
   ]
  },
  {
   "cell_type": "code",
   "execution_count": null,
   "id": "c71ac030",
   "metadata": {},
   "outputs": [],
   "source": []
  }
 ],
 "metadata": {
  "kernelspec": {
   "display_name": "Python 3 (ipykernel)",
   "language": "python",
   "name": "python3"
  },
  "language_info": {
   "codemirror_mode": {
    "name": "ipython",
    "version": 3
   },
   "file_extension": ".py",
   "mimetype": "text/x-python",
   "name": "python",
   "nbconvert_exporter": "python",
   "pygments_lexer": "ipython3",
   "version": "3.9.13"
  }
 },
 "nbformat": 4,
 "nbformat_minor": 5
}
