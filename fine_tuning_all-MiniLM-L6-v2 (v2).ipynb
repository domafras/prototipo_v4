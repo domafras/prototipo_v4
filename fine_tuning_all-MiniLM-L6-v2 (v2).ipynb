{
 "cells": [
  {
   "cell_type": "markdown",
   "id": "d37ad161",
   "metadata": {
    "jp-MarkdownHeadingCollapsed": true,
    "tags": []
   },
   "source": [
    "## BERT Fine-tuning 'all-MiniLM-L6-v2' (v2)"
   ]
  },
  {
   "cell_type": "code",
   "execution_count": 1,
   "id": "5f67917e",
   "metadata": {},
   "outputs": [
    {
     "name": "stdout",
     "output_type": "stream",
     "text": [
      "Requirement already satisfied: isodate in c:\\users\\domaf\\anaconda3\\lib\\site-packages (0.6.1)\n",
      "Requirement already satisfied: six in c:\\users\\domaf\\anaconda3\\lib\\site-packages (from isodate) (1.16.0)\n",
      "Requirement already satisfied: plotly in c:\\users\\domaf\\anaconda3\\lib\\site-packages (5.9.0)\n",
      "Requirement already satisfied: tenacity>=6.2.0 in c:\\users\\domaf\\anaconda3\\lib\\site-packages (from plotly) (8.0.1)\n"
     ]
    },
    {
     "name": "stderr",
     "output_type": "stream",
     "text": [
      "[nltk_data] Downloading package stopwords to\n",
      "[nltk_data]     C:\\Users\\domaf\\AppData\\Roaming\\nltk_data...\n",
      "[nltk_data]   Package stopwords is already up-to-date!\n"
     ]
    }
   ],
   "source": [
    "# Importando bibliotecas e funções\n",
    "from libs import *\n",
    "from utils import *"
   ]
  },
  {
   "cell_type": "markdown",
   "id": "37e7a214",
   "metadata": {},
   "source": [
    "**SentenceTransformers** é um framework estado da arte em Python para embeddings de sentenças, texto e imagens. Ele usa modelos de linguagem pré-treinados para transformar texto em vetores significativos, chamados de embeddings. Essas representações contextualizados podem ser aplicadas em tarefas de processamento de linguagem natural de maneira eficiente. A sua utilização é trivial e mais simples ao comparar com outras bibliotecas e por isso foi escolhida para esse projeto.\n",
    "\n",
    "- Hugging Face:  https://huggingface.co/sentence-transformers\n",
    "- Documentação: https://www.sbert.net/\n",
    "- Artigo: https://arxiv.org/abs/1908.10084"
   ]
  },
  {
   "cell_type": "markdown",
   "id": "d0fabbfb",
   "metadata": {},
   "source": [
    "1. Instalando a biblioteca `sentence-transformers`"
   ]
  },
  {
   "cell_type": "code",
   "execution_count": 2,
   "id": "8b1d121c",
   "metadata": {},
   "outputs": [],
   "source": [
    "# Instalando framework via pip\n",
    "#!pip install -U sentence-transformers"
   ]
  },
  {
   "cell_type": "markdown",
   "id": "336e3438",
   "metadata": {},
   "source": [
    "2. Importando bibliotecas necessárias para tarefa de gerar representações textuais (embeddings)"
   ]
  },
  {
   "cell_type": "code",
   "execution_count": 3,
   "id": "53143149",
   "metadata": {},
   "outputs": [],
   "source": [
    "# Sentence-transformers\n",
    "from sentence_transformers import SentenceTransformer, InputExample, losses, evaluation\n",
    "from torch.utils.data import DataLoader"
   ]
  },
  {
   "cell_type": "markdown",
   "id": "ee8ccb17",
   "metadata": {},
   "source": [
    "3. Carregando base de dados em um DataFrame do Pandas"
   ]
  },
  {
   "cell_type": "code",
   "execution_count": 26,
   "id": "99f4a472",
   "metadata": {},
   "outputs": [],
   "source": [
    "# Definindo dataframe preprocessado antes dos pipelines\n",
    "df_bert = pd.read_csv('data/data1.csv') # data1 (texto bruto) ou data2 (texto preprocessado)"
   ]
  },
  {
   "cell_type": "code",
   "execution_count": 28,
   "id": "b4892788",
   "metadata": {},
   "outputs": [
    {
     "data": {
      "text/plain": [
       "(36642, 18)"
      ]
     },
     "execution_count": 28,
     "metadata": {},
     "output_type": "execute_result"
    }
   ],
   "source": [
    "# Dimensões\n",
    "df_bert.shape"
   ]
  },
  {
   "cell_type": "code",
   "execution_count": 29,
   "id": "37c49ee7",
   "metadata": {},
   "outputs": [],
   "source": [
    "# Definindo o mapeamento\n",
    "popularity_mapping = {'BAIXA': 0, 'MEDIA': 1, 'ALTA': 2}\n",
    "\n",
    "# Aplicando a transformação diretamente usando o método replace\n",
    "df_bert['popularity'].replace(popularity_mapping, inplace=True)"
   ]
  },
  {
   "cell_type": "code",
   "execution_count": 37,
   "id": "e5b2d2a0",
   "metadata": {},
   "outputs": [
    {
     "data": {
      "application/vnd.jupyter.widget-view+json": {
       "model_id": "3efd20fa67944024b458047393e8876a",
       "version_major": 2,
       "version_minor": 0
      },
      "text/plain": [
       "Epoch:   0%|          | 0/4 [00:00<?, ?it/s]"
      ]
     },
     "metadata": {},
     "output_type": "display_data"
    },
    {
     "data": {
      "application/vnd.jupyter.widget-view+json": {
       "model_id": "bad8b91e4d364a5da2755cf97abb737d",
       "version_major": 2,
       "version_minor": 0
      },
      "text/plain": [
       "Iteration:   0%|          | 0/2291 [00:00<?, ?it/s]"
      ]
     },
     "metadata": {},
     "output_type": "display_data"
    },
    {
     "data": {
      "application/vnd.jupyter.widget-view+json": {
       "model_id": "5f0e0c25a262494c8ca98ed875e537df",
       "version_major": 2,
       "version_minor": 0
      },
      "text/plain": [
       "Iteration:   0%|          | 0/2291 [00:00<?, ?it/s]"
      ]
     },
     "metadata": {},
     "output_type": "display_data"
    },
    {
     "data": {
      "application/vnd.jupyter.widget-view+json": {
       "model_id": "1c18a8e5b5584683921e4d07370ba7ab",
       "version_major": 2,
       "version_minor": 0
      },
      "text/plain": [
       "Iteration:   0%|          | 0/2291 [00:00<?, ?it/s]"
      ]
     },
     "metadata": {},
     "output_type": "display_data"
    },
    {
     "data": {
      "application/vnd.jupyter.widget-view+json": {
       "model_id": "a58c16c84d6b465a97f04d7ea98bec16",
       "version_major": 2,
       "version_minor": 0
      },
      "text/plain": [
       "Iteration:   0%|          | 0/2291 [00:00<?, ?it/s]"
      ]
     },
     "metadata": {},
     "output_type": "display_data"
    }
   ],
   "source": [
    "# Carregando modelo pré-treinado\n",
    "model = SentenceTransformer('all-MiniLM-L6-v2')\n",
    "\n",
    "# Definindo exemplos de treino\n",
    "train_examples = [InputExample(texts=[row['video_title'], row['video_desc']], \n",
    "                               label=row['popularity']) for index, row in df_bert.iterrows()]\n",
    "\n",
    "# Criando DataLoader\n",
    "train_dataloader = DataLoader(train_examples, shuffle=True, batch_size=16)\n",
    "\n",
    "# Número de rótulos para classificação\n",
    "num_labels = df_bert['popularity'].nunique()\n",
    "\n",
    "# Dimensão das embeddings para o modelo\n",
    "sentence_embedding_dimension = model.get_sentence_embedding_dimension()\n",
    "\n",
    "# Definindo Loss Function\n",
    "train_loss = losses.SoftmaxLoss(model, sentence_embedding_dimension, num_labels)\n",
    "\n",
    "# Fine-Tuningo modelo\n",
    "model.fit(train_objectives=[(train_dataloader, train_loss)], epochs=4, warmup_steps=100)"
   ]
  },
  {
   "cell_type": "code",
   "execution_count": 40,
   "id": "46deaffb",
   "metadata": {},
   "outputs": [
    {
     "data": {
      "text/plain": [
       "0.4749233907182701"
      ]
     },
     "execution_count": 40,
     "metadata": {},
     "output_type": "execute_result"
    }
   ],
   "source": [
    "# Definindo teste\n",
    "texts1 = df_bert['video_title']\n",
    "texts2 = df_bert['video_desc']\n",
    "labels = df_bert['popularity']\n",
    "\n",
    "evaluator = evaluation.EmbeddingSimilarityEvaluator(texts1.tolist(), texts2.tolist(), labels.tolist())\n",
    "\n",
    "model.evaluate(evaluator)"
   ]
  },
  {
   "cell_type": "code",
   "execution_count": null,
   "id": "05a5e9f6",
   "metadata": {},
   "outputs": [],
   "source": [
    "# Salvando modelo fine-tuned\n",
    "model.save('prototipo_v4_extra/finetuned_model')"
   ]
  }
 ],
 "metadata": {
  "kernelspec": {
   "display_name": "Python 3 (ipykernel)",
   "language": "python",
   "name": "python3"
  },
  "language_info": {
   "codemirror_mode": {
    "name": "ipython",
    "version": 3
   },
   "file_extension": ".py",
   "mimetype": "text/x-python",
   "name": "python",
   "nbconvert_exporter": "python",
   "pygments_lexer": "ipython3",
   "version": "3.9.13"
  }
 },
 "nbformat": 4,
 "nbformat_minor": 5
}
