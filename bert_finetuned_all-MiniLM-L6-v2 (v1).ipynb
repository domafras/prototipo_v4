{
 "cells": [
  {
   "cell_type": "markdown",
   "id": "d37ad161",
   "metadata": {
    "jp-MarkdownHeadingCollapsed": true,
    "tags": []
   },
   "source": [
    "## BERT Fine-tuned 'all-MiniLM-L6-v2'"
   ]
  },
  {
   "cell_type": "code",
   "execution_count": 1,
   "id": "74ef3a61",
   "metadata": {},
   "outputs": [
    {
     "name": "stdout",
     "output_type": "stream",
     "text": [
      "Requirement already satisfied: isodate in c:\\users\\domaf\\anaconda3\\lib\\site-packages (0.6.1)\n",
      "Requirement already satisfied: six in c:\\users\\domaf\\anaconda3\\lib\\site-packages (from isodate) (1.16.0)\n",
      "Requirement already satisfied: plotly in c:\\users\\domaf\\anaconda3\\lib\\site-packages (5.9.0)\n",
      "Requirement already satisfied: tenacity>=6.2.0 in c:\\users\\domaf\\anaconda3\\lib\\site-packages (from plotly) (8.0.1)\n"
     ]
    },
    {
     "name": "stderr",
     "output_type": "stream",
     "text": [
      "[nltk_data] Downloading package stopwords to\n",
      "[nltk_data]     C:\\Users\\domaf\\AppData\\Roaming\\nltk_data...\n",
      "[nltk_data]   Package stopwords is already up-to-date!\n"
     ]
    }
   ],
   "source": [
    "# Importando bibliotecas e funções\n",
    "from libs import *\n",
    "from utils import *"
   ]
  },
  {
   "cell_type": "markdown",
   "id": "c979d559",
   "metadata": {},
   "source": [
    "BERT, ou Bidirectional Encoder Representations from Transformers, é um modelo de linguagem pré-treinado que foi introduzido em 2018 pelo Google. Ele é baseado em um modelo de transformador, que é um tipo de rede neural que pode aprender relações entre palavras em uma frase, em vez de apenas uma por uma em ordem.\n",
    "\n",
    "O BERT pode ser usado para uma variedade de tarefas de processamento de linguagem natural (NLP), inclusive para gerar embeddings contextualizadas, que são representações de palavras que levam em consideração o contexto em que a palavra é usada. Isso pode ser útil para uma variedade de tarefas de NLP, pois pode ajudar o modelo a entender o significado de palavras em diferentes contextos.\n",
    "\n",
    "Neste projeto, realizamos o experimento de avaliar o impacto da utilização do BERT ao alimentar nosso modelo de classificação com features textuais (títulos e descrições dos vídeos) e verificar os respectivos resultados. O modelo base da biblioteca `transformers` está disponível no Hugging Face Hub."
   ]
  },
  {
   "cell_type": "markdown",
   "id": "37e7a214",
   "metadata": {},
   "source": [
    "**SentenceTransformers** é um framework estado da arte em Python para embeddings de sentenças, texto e imagens. Ele usa modelos de linguagem pré-treinados para transformar texto em vetores significativos, chamados de embeddings. Essas representações contextualizados podem ser aplicadas em tarefas de processamento de linguagem natural de maneira eficiente. A sua utilização é trivial e mais simples ao comparar com outras bibliotecas e por isso foi escolhida para esse projeto.\n",
    "\n",
    "- Hugging Face:  https://huggingface.co/sentence-transformers\n",
    "- Documentação: https://www.sbert.net/\n",
    "- Artigo: https://arxiv.org/abs/1908.10084"
   ]
  },
  {
   "cell_type": "markdown",
   "id": "d0fabbfb",
   "metadata": {},
   "source": [
    "1. Instalando a biblioteca `sentence-transformers`"
   ]
  },
  {
   "cell_type": "code",
   "execution_count": 2,
   "id": "8b1d121c",
   "metadata": {},
   "outputs": [],
   "source": [
    "# Instalando framework via pip\n",
    "#!pip install -U sentence-transformers"
   ]
  },
  {
   "cell_type": "markdown",
   "id": "336e3438",
   "metadata": {},
   "source": [
    "2. Importando bibliotecas necessárias para tarefa de gerar representações textuais (embeddings)"
   ]
  },
  {
   "cell_type": "code",
   "execution_count": 3,
   "id": "53143149",
   "metadata": {},
   "outputs": [],
   "source": [
    "# Sentence-transformers\n",
    "from sentence_transformers import SentenceTransformer"
   ]
  },
  {
   "cell_type": "markdown",
   "id": "ee8ccb17",
   "metadata": {},
   "source": [
    "3. Carregando base de dados em um DataFrame do Pandas"
   ]
  },
  {
   "cell_type": "code",
   "execution_count": 4,
   "id": "99f4a472",
   "metadata": {},
   "outputs": [],
   "source": [
    "# Definindo dataframe preprocessado antes dos pipelines\n",
    "df_bert = pd.read_csv('data/data1.csv') # data1 (texto bruto) ou data2 ou data3 (texto preprocessado)"
   ]
  },
  {
   "cell_type": "code",
   "execution_count": 5,
   "id": "a547b8c6",
   "metadata": {},
   "outputs": [],
   "source": [
    "# Amostra de 10%\n",
    "#df_bert = df_bert.sample(frac=0.1, random_state=42) "
   ]
  },
  {
   "cell_type": "code",
   "execution_count": 6,
   "id": "b4892788",
   "metadata": {},
   "outputs": [
    {
     "data": {
      "text/plain": [
       "(36642, 18)"
      ]
     },
     "execution_count": 6,
     "metadata": {},
     "output_type": "execute_result"
    }
   ],
   "source": [
    "# Dimensões\n",
    "df_bert.shape"
   ]
  },
  {
   "cell_type": "code",
   "execution_count": 7,
   "id": "d1ced18b",
   "metadata": {},
   "outputs": [],
   "source": [
    "# Definindo colunas numéricas, categóricas e textuais\n",
    "numeric_features = ['year', 'video_count', 'view_count_x', 'subscriber_count', \n",
    "                    'aux_status', 'comment_count_y','dislike_count', 'view_count_y',\n",
    "                        'like_count', 'video_duration', 'published_at']\n",
    "\n",
    "categorical_features = ['channel_id','category', 'gender']\n",
    "\n",
    "textual_features = ['video_title', 'video_desc']"
   ]
  },
  {
   "cell_type": "code",
   "execution_count": 8,
   "id": "e7b55b0e",
   "metadata": {},
   "outputs": [],
   "source": [
    "# Substituindo valores nulos por uma string vazia\n",
    "df_bert[textual_features] = df_bert[textual_features].fillna('')"
   ]
  },
  {
   "cell_type": "markdown",
   "id": "68a349a6",
   "metadata": {},
   "source": [
    "4. Divisão dos dados em treino e teste, de maneira a evitar vazamento de dados (data leakage)\n"
   ]
  },
  {
   "cell_type": "code",
   "execution_count": 9,
   "id": "b5234f11",
   "metadata": {},
   "outputs": [],
   "source": [
    "# Definindo características e alvo\n",
    "#X = df_bert[textual_features + categorical_features]\n",
    "X = df_bert[textual_features]\n",
    "y = df_bert['popularity']\n",
    "\n",
    "X_train_bert, X_test_bert, y_train_bert, y_test_bert = train_test_split(X, y, test_size=0.3, random_state=42)"
   ]
  },
  {
   "cell_type": "code",
   "execution_count": 10,
   "id": "fc7f12c1",
   "metadata": {},
   "outputs": [
    {
     "data": {
      "text/plain": [
       "\"\\n# Aplicando OneHotEncoder nas colunas categóricas com handle_unknown='ignore'\\nencoder = OneHotEncoder(handle_unknown='ignore')\\n\\nX_train_bert_categorical = encoder.fit_transform(X_train_bert[categorical_features])\\nX_test_bert_categorical = encoder.transform(X_test_bert[categorical_features])\\n\\n# 3 features categóricas representadas em matriz esparsa\\nprint(X_train_bert_categorical[0])\\n\\n# 3 features categóricas representadas em matriz densa\\nprint(X_train_bert_categorical.toarray()[0])\\n\\n# Transformando as features categóricas em matriz densa (array) para combinar com outras features no futuro\\nX_train_bert_categorical = X_train_bert_categorical.toarray()\\nX_test_bert_categorical = X_test_bert_categorical.toarray()\\n\""
      ]
     },
     "execution_count": 10,
     "metadata": {},
     "output_type": "execute_result"
    }
   ],
   "source": [
    "\"\"\"\n",
    "# Aplicando OneHotEncoder nas colunas categóricas com handle_unknown='ignore'\n",
    "encoder = OneHotEncoder(handle_unknown='ignore')\n",
    "\n",
    "X_train_bert_categorical = encoder.fit_transform(X_train_bert[categorical_features])\n",
    "X_test_bert_categorical = encoder.transform(X_test_bert[categorical_features])\n",
    "\n",
    "# 3 features categóricas representadas em matriz esparsa\n",
    "print(X_train_bert_categorical[0])\n",
    "\n",
    "# 3 features categóricas representadas em matriz densa\n",
    "print(X_train_bert_categorical.toarray()[0])\n",
    "\n",
    "# Transformando as features categóricas em matriz densa (array) para combinar com outras features no futuro\n",
    "X_train_bert_categorical = X_train_bert_categorical.toarray()\n",
    "X_test_bert_categorical = X_test_bert_categorical.toarray()\n",
    "\"\"\""
   ]
  },
  {
   "cell_type": "markdown",
   "id": "0c4c9dfa",
   "metadata": {},
   "source": [
    "5. Carregando modelo BERT através do framework estado da arte Sentence-Transformers para a criação de representações textuais.\n",
    "\n",
    "- Modelos nativamente disponíveis: [Pretrained Models](https://www.sbert.net/docs/pretrained_models.html#)"
   ]
  },
  {
   "cell_type": "code",
   "execution_count": 11,
   "id": "6e04d331",
   "metadata": {},
   "outputs": [],
   "source": [
    "#PRE_TRAINED_MODEL_NAME = 'distiluse-base-multilingual-cased-v2'\n",
    "#PRE_TRAINED_MODEL_NAME = 'paraphrase-MiniLM-L3-v2'\n",
    "#PRE_TRAINED_MODEL_NAME = 'average_word_embeddings_glove.6B.300d'\n",
    "#PRE_TRAINED_MODEL_NAME = 'all-mpnet-base-v2'\n",
    "#PRE_TRAINED_MODEL_NAME = 'multi-qa-mpnet-base-dot-v1'\n",
    "#PRE_TRAINED_MODEL_NAME = 'all-MiniLM-L12-v2'\n",
    "#PRE_TRAINED_MODEL_NAME = 'paraphrase-MiniLM-L3-v2'\n",
    "#PRE_TRAINED_MODEL_NAME = 'paraphrase-multilingual-MiniLM-L12-v2'\n",
    "#PRE_TRAINED_MODEL_NAME = 'all-roberta-large-v1'\n",
    "#PRE_TRAINED_MODEL_NAME = 'all-MiniLM-L6-v2'"
   ]
  },
  {
   "cell_type": "code",
   "execution_count": 12,
   "id": "dcfe506f",
   "metadata": {},
   "outputs": [],
   "source": [
    "# Definindo modelo pré treinado a ser utilizado\n",
    "PRE_TRAINED_MODEL_NAME = 'prototipo_v4_extra/finetuned_model2'\n",
    "\n",
    "bert_model = SentenceTransformer(PRE_TRAINED_MODEL_NAME)"
   ]
  },
  {
   "cell_type": "code",
   "execution_count": 13,
   "id": "ae9577ca",
   "metadata": {},
   "outputs": [],
   "source": [
    "# Definindo valores dos títulos de treino e de teste\n",
    "bert_title_train = X_train_bert['video_title'].values\n",
    "bert_title_test = X_test_bert['video_title'].values"
   ]
  },
  {
   "cell_type": "code",
   "execution_count": 14,
   "id": "c7186d4e",
   "metadata": {},
   "outputs": [
    {
     "data": {
      "text/plain": [
       "'GALAXY A20 vs MOTO G8 PLAY: quando a FALTA DE MEMÓRIA põe TUDO A PERDER'"
      ]
     },
     "execution_count": 14,
     "metadata": {},
     "output_type": "execute_result"
    }
   ],
   "source": [
    "# Exemplo de título separado para treino\n",
    "bert_title_train[0]"
   ]
  },
  {
   "cell_type": "code",
   "execution_count": 15,
   "id": "fe174dd5",
   "metadata": {},
   "outputs": [],
   "source": [
    "# Definindo valores das descrições de treino e de teste\n",
    "bert_desc_train = X_train_bert['video_desc'].values\n",
    "bert_desc_test = X_test_bert['video_desc'].values"
   ]
  },
  {
   "cell_type": "code",
   "execution_count": 16,
   "id": "8f12c573",
   "metadata": {},
   "outputs": [
    {
     "data": {
      "text/plain": [
       "'Inscreva-se para mais vídeos: https://www.youtube.com/user/TudoCelular?sub_confirmation=1 Ofertas Moto G8 Play: ...'"
      ]
     },
     "execution_count": 16,
     "metadata": {},
     "output_type": "execute_result"
    }
   ],
   "source": [
    "# Exemplo de descrição separado para treino\n",
    "bert_desc_train[0]"
   ]
  },
  {
   "cell_type": "code",
   "execution_count": 17,
   "id": "f50b74e9",
   "metadata": {},
   "outputs": [
    {
     "data": {
      "application/vnd.jupyter.widget-view+json": {
       "model_id": "0762e6f1c90d49abb7e163fadfbd55e2",
       "version_major": 2,
       "version_minor": 0
      },
      "text/plain": [
       "Batches:   0%|          | 0/201 [00:00<?, ?it/s]"
      ]
     },
     "metadata": {},
     "output_type": "display_data"
    },
    {
     "data": {
      "application/vnd.jupyter.widget-view+json": {
       "model_id": "c230ea8d8b7147b3a739f822af07b5d8",
       "version_major": 2,
       "version_minor": 0
      },
      "text/plain": [
       "Batches:   0%|          | 0/86 [00:00<?, ?it/s]"
      ]
     },
     "metadata": {},
     "output_type": "display_data"
    }
   ],
   "source": [
    "# Gerando as representações textuais (embeddings) dos títulos através de encode()\n",
    "X_train_bert_title = bert_model.encode(bert_title_train,\n",
    "                                       convert_to_tensor=True,\n",
    "                                       normalize_embeddings=True,\n",
    "                                       batch_size=128,\n",
    "                                       show_progress_bar=True)\n",
    "\n",
    "X_test_bert_title = bert_model.encode(bert_title_test,\n",
    "                                      convert_to_tensor=True,\n",
    "                                      normalize_embeddings=True,\n",
    "                                      batch_size=128,\n",
    "                                      show_progress_bar=True)"
   ]
  },
  {
   "cell_type": "code",
   "execution_count": 18,
   "id": "ce21a1e4",
   "metadata": {},
   "outputs": [
    {
     "name": "stdout",
     "output_type": "stream",
     "text": [
      "tensor([-0.0409, -0.0211,  0.0134, -0.0179, -0.0309,  0.1025,  0.0416, -0.0102,\n",
      "         0.0336,  0.0685,  0.0376,  0.1344, -0.0665,  0.0371,  0.0255,  0.0992,\n",
      "        -0.0483,  0.0787,  0.0295, -0.0291,  0.0517, -0.0505, -0.0790, -0.0376,\n",
      "        -0.0031,  0.0110, -0.0683, -0.0269,  0.0107,  0.0315, -0.0289,  0.0173,\n",
      "        -0.0197, -0.0499, -0.0297, -0.0814,  0.1377,  0.0264,  0.0716, -0.0167,\n",
      "         0.0483, -0.0765, -0.0292,  0.0025, -0.0309, -0.0583,  0.0560, -0.0720,\n",
      "        -0.0389,  0.1216, -0.0457, -0.0388, -0.0330, -0.0302,  0.0653, -0.0193,\n",
      "        -0.0636,  0.0275,  0.0015, -0.0049, -0.0432, -0.0607, -0.0722, -0.0441,\n",
      "         0.0175,  0.0032,  0.0719, -0.0304,  0.0016, -0.0315, -0.0053, -0.0313,\n",
      "        -0.0282, -0.0957, -0.0116,  0.0676, -0.1055, -0.0535, -0.0475, -0.1054,\n",
      "         0.0947,  0.1062, -0.0507, -0.0512, -0.0057,  0.0342, -0.0428,  0.0478,\n",
      "         0.0531, -0.0003, -0.0161, -0.0428,  0.0127,  0.1182,  0.0123,  0.0388,\n",
      "        -0.0225, -0.0337, -0.0181, -0.0540,  0.0635, -0.0005, -0.0046,  0.0888,\n",
      "        -0.0032, -0.0144,  0.0162, -0.0872, -0.1136, -0.0928, -0.0380, -0.0304,\n",
      "        -0.0315, -0.0105, -0.0692,  0.0093, -0.0187, -0.1044,  0.0228, -0.1100,\n",
      "         0.0762, -0.0323,  0.0413,  0.0852, -0.0250, -0.0072, -0.0719,  0.0106,\n",
      "        -0.0714,  0.1260, -0.0183,  0.0179, -0.0268,  0.0147, -0.0895,  0.0446,\n",
      "         0.0292, -0.0074, -0.0130, -0.0254, -0.0109, -0.0451,  0.0240,  0.0036,\n",
      "         0.1102,  0.0761,  0.0148, -0.0441, -0.0479,  0.0628,  0.0049,  0.0894,\n",
      "        -0.0231,  0.0444,  0.0338,  0.0151, -0.0481, -0.0154,  0.0310,  0.0295,\n",
      "        -0.0666,  0.0346,  0.0186, -0.0211,  0.0177, -0.0441,  0.0936,  0.0351,\n",
      "         0.0709,  0.0305,  0.0745,  0.0454, -0.0269, -0.0011,  0.0863,  0.1268,\n",
      "        -0.0282,  0.0691,  0.0666, -0.0964,  0.0667, -0.0465,  0.0097,  0.0128,\n",
      "        -0.0466,  0.0304, -0.0309,  0.0086, -0.0101,  0.0865,  0.0339, -0.0134,\n",
      "        -0.0452,  0.0755, -0.0250, -0.0067, -0.0378,  0.0174, -0.0108, -0.1057,\n",
      "         0.0293, -0.0176,  0.0060, -0.1311,  0.0210,  0.0011, -0.0456, -0.0082,\n",
      "        -0.0285, -0.0735, -0.0019, -0.0718, -0.0387, -0.0414,  0.0611, -0.0004,\n",
      "        -0.0370,  0.0341,  0.1099,  0.0387,  0.0056,  0.0103,  0.0182, -0.0116,\n",
      "        -0.0572,  0.0740,  0.0480,  0.0220,  0.0021, -0.0150, -0.0232, -0.0517,\n",
      "         0.0123,  0.0250, -0.0238, -0.0530,  0.0409,  0.0766,  0.0210,  0.0013,\n",
      "         0.0522,  0.0126,  0.0690,  0.1007,  0.0686,  0.0388,  0.0544, -0.0104,\n",
      "        -0.0174, -0.0472, -0.0754,  0.0312, -0.0465, -0.0475,  0.0112,  0.0018,\n",
      "        -0.0118, -0.0423, -0.0376,  0.0351,  0.0156,  0.0348, -0.0436,  0.0169,\n",
      "        -0.0488, -0.0021,  0.0488,  0.0888,  0.0807, -0.0375,  0.0170,  0.0142,\n",
      "        -0.0311, -0.0945, -0.0430, -0.0631,  0.0547,  0.0097, -0.0472, -0.0473,\n",
      "         0.0228,  0.0080,  0.0122,  0.0814,  0.0245, -0.0337, -0.0342,  0.0158,\n",
      "         0.0600,  0.0498, -0.0439,  0.0199, -0.0116,  0.0022,  0.0876,  0.0028,\n",
      "         0.0468,  0.0238,  0.0028, -0.0404, -0.0439, -0.0215,  0.0311,  0.0855,\n",
      "        -0.0231, -0.0297,  0.0103,  0.0400, -0.0517, -0.0521,  0.0438, -0.1236,\n",
      "        -0.0171,  0.0026,  0.0270,  0.0069, -0.0230,  0.0432,  0.0032,  0.0045,\n",
      "         0.1004,  0.0599, -0.0876, -0.0352,  0.0944,  0.0873, -0.0144, -0.0461,\n",
      "         0.0500,  0.0023,  0.0062,  0.0604, -0.0234,  0.0400, -0.0228,  0.0425,\n",
      "         0.0994,  0.0074, -0.0396, -0.0111,  0.0715, -0.0500,  0.0292, -0.0376,\n",
      "         0.0025, -0.0680, -0.0011, -0.0070, -0.0091, -0.0138, -0.0123, -0.0788,\n",
      "        -0.0139, -0.0286, -0.0391,  0.0524, -0.0328,  0.0176,  0.0793, -0.0871,\n",
      "         0.1075,  0.0204, -0.0471, -0.0363,  0.0077, -0.0303, -0.0387,  0.0277,\n",
      "         0.0177, -0.0264,  0.0219, -0.0551,  0.0222, -0.0165,  0.0600, -0.0707,\n",
      "        -0.0637,  0.0477, -0.0622, -0.0850, -0.0034, -0.0490,  0.0242, -0.0723])\n"
     ]
    }
   ],
   "source": [
    "# Exemplo de embeddings de um título\n",
    "print(X_train_bert_title[0])"
   ]
  },
  {
   "cell_type": "code",
   "execution_count": 19,
   "id": "a0b6bb53",
   "metadata": {},
   "outputs": [
    {
     "data": {
      "application/vnd.jupyter.widget-view+json": {
       "model_id": "8a0097d01c3f4c1c89d7f98a419e228b",
       "version_major": 2,
       "version_minor": 0
      },
      "text/plain": [
       "Batches:   0%|          | 0/201 [00:00<?, ?it/s]"
      ]
     },
     "metadata": {},
     "output_type": "display_data"
    },
    {
     "data": {
      "application/vnd.jupyter.widget-view+json": {
       "model_id": "2caf06e521eb4868b99a0ae5c8eaa6b1",
       "version_major": 2,
       "version_minor": 0
      },
      "text/plain": [
       "Batches:   0%|          | 0/86 [00:00<?, ?it/s]"
      ]
     },
     "metadata": {},
     "output_type": "display_data"
    }
   ],
   "source": [
    "# Gerando as representações textuais (embeddings) das descrições através de encode()\n",
    "X_train_bert_desc = bert_model.encode(bert_desc_train,\n",
    "                                       convert_to_tensor=True,\n",
    "                                       normalize_embeddings=True,\n",
    "                                       batch_size=128,\n",
    "                                       show_progress_bar=True)\n",
    "\n",
    "X_test_bert_desc = bert_model.encode(bert_desc_test,\n",
    "                                      convert_to_tensor=True,\n",
    "                                      normalize_embeddings=True,\n",
    "                                      batch_size=128,\n",
    "                                      show_progress_bar=True)"
   ]
  },
  {
   "cell_type": "code",
   "execution_count": 20,
   "id": "5bbfbabd",
   "metadata": {},
   "outputs": [
    {
     "name": "stdout",
     "output_type": "stream",
     "text": [
      "tensor([ 3.8616e-02,  6.1171e-02, -2.4034e-03, -2.5445e-02,  5.3048e-02,\n",
      "        -2.2124e-02,  1.2031e-02,  5.5214e-02,  2.0054e-02, -1.9260e-02,\n",
      "        -1.0280e-01, -1.1350e-01,  1.9086e-02,  1.1801e-02,  1.0041e-02,\n",
      "        -1.0981e-01,  7.6447e-02, -6.1087e-02,  1.0793e-02, -2.6509e-02,\n",
      "        -5.0627e-02,  8.9445e-02,  5.6537e-02,  8.5162e-03, -6.5743e-02,\n",
      "         3.2147e-02,  7.7603e-02,  3.5226e-03, -2.7313e-02, -4.5242e-04,\n",
      "         1.1329e-01,  1.6808e-02,  3.8001e-05,  3.1026e-02,  1.6678e-02,\n",
      "         2.5300e-02, -1.2071e-01,  9.2576e-04, -9.1744e-03, -3.1223e-02,\n",
      "         5.4172e-02,  1.0465e-01, -2.4113e-02, -2.3927e-02,  5.8301e-02,\n",
      "         9.9595e-03, -5.6420e-02, -3.5684e-03,  1.0562e-01, -8.4134e-02,\n",
      "         9.2696e-02,  5.4671e-02,  1.1183e-02, -4.7107e-02, -8.9122e-02,\n",
      "        -4.9771e-02, -4.2592e-02, -5.9598e-02, -1.3826e-02, -3.5177e-02,\n",
      "        -2.7769e-02,  7.3175e-02,  3.1648e-02,  1.1709e-01, -1.1952e-01,\n",
      "         2.8292e-02,  4.3616e-02, -2.2031e-02,  5.2724e-03,  8.0227e-02,\n",
      "         4.0882e-04, -5.5283e-03,  9.3604e-03,  1.2247e-01, -3.0199e-02,\n",
      "        -8.8507e-02,  7.3533e-02, -3.0229e-03,  3.5574e-02,  4.6369e-02,\n",
      "        -8.4693e-02, -7.6230e-02, -1.9291e-02, -2.4772e-02, -3.0661e-02,\n",
      "        -5.2040e-02,  4.2004e-02,  1.0508e-02, -5.5778e-02, -3.0775e-02,\n",
      "         8.6394e-03,  8.1586e-03,  3.3550e-03, -3.6700e-02,  2.3164e-02,\n",
      "        -7.6056e-02, -3.6100e-02,  4.0060e-02,  4.5861e-02,  7.0699e-02,\n",
      "        -5.4488e-02, -3.0427e-02,  5.4143e-02, -8.6554e-02, -2.1168e-02,\n",
      "        -7.5944e-02, -1.3089e-02,  6.0717e-02,  1.0191e-01,  1.1142e-01,\n",
      "         7.6968e-02,  2.1143e-02,  1.9069e-02, -8.4239e-03,  7.4673e-02,\n",
      "        -2.2637e-03, -4.3463e-03,  1.0393e-01, -5.9891e-04,  8.2261e-02,\n",
      "        -8.0450e-02,  1.0010e-02, -5.4867e-02, -6.1708e-02, -1.5032e-02,\n",
      "        -1.5586e-02,  6.5991e-02,  2.1607e-02,  3.5564e-02, -7.5503e-02,\n",
      "         8.7237e-02, -8.2090e-02,  7.6977e-02,  3.8531e-02,  5.1433e-02,\n",
      "         2.5258e-02,  2.1669e-02,  4.6622e-04,  1.2832e-02, -1.3343e-02,\n",
      "        -3.4529e-03,  4.5354e-02, -3.5412e-02,  2.5314e-02, -7.7127e-02,\n",
      "        -1.9040e-02,  2.0059e-02, -6.2676e-04, -4.2960e-03, -4.6851e-02,\n",
      "         2.4754e-02, -7.6992e-02, -2.7406e-02, -8.6126e-02, -3.4813e-02,\n",
      "        -6.2639e-02, -1.3138e-02,  9.6584e-03, -3.8351e-03, -2.9558e-02,\n",
      "         5.6552e-02, -3.1211e-02, -4.3367e-02, -7.9072e-03, -1.8344e-02,\n",
      "        -3.9212e-02, -4.3328e-02, -1.6279e-02, -3.0871e-02,  1.5290e-02,\n",
      "        -7.9438e-02,  3.9977e-02,  1.1141e-02, -5.8082e-02, -7.2707e-02,\n",
      "        -8.1441e-02, -5.0492e-02, -5.9293e-02, -2.9760e-02,  1.3731e-01,\n",
      "         1.1253e-02, -7.3860e-02,  1.1189e-03,  4.9709e-02,  9.4148e-02,\n",
      "         4.1908e-02, -1.3069e-02, -4.5376e-02, -2.5236e-02, -7.9261e-02,\n",
      "         3.3576e-02,  7.8565e-02,  1.4987e-02, -6.3310e-02,  3.0094e-02,\n",
      "         3.4613e-02, -2.1875e-02, -4.1585e-02,  6.6417e-02,  1.3355e-01,\n",
      "        -7.0605e-03, -5.9746e-02, -1.4111e-02,  7.1183e-02, -1.5108e-02,\n",
      "         2.2178e-02,  7.8572e-02,  4.4191e-02,  6.2899e-02,  7.5550e-02,\n",
      "        -1.1658e-02,  3.5438e-02,  4.3118e-02, -1.5734e-02, -2.7747e-02,\n",
      "         7.3806e-04,  8.1358e-02,  7.1847e-03, -1.2271e-01, -4.0761e-02,\n",
      "        -2.5380e-02, -3.4013e-02,  3.9443e-03, -2.2843e-02,  4.9864e-02,\n",
      "        -6.7098e-02, -3.3957e-02, -1.9119e-03,  3.8740e-02, -2.7405e-02,\n",
      "         2.5643e-02, -4.2055e-03, -5.4895e-02,  2.3013e-03,  1.5562e-02,\n",
      "         4.4209e-02,  2.8020e-02, -1.7523e-02,  2.2636e-02,  1.9642e-02,\n",
      "        -3.0114e-02, -5.6046e-02, -8.8008e-02, -6.5199e-02,  1.2957e-03,\n",
      "        -5.3790e-03, -5.2759e-02, -1.7491e-02, -2.1470e-02, -3.4316e-02,\n",
      "        -1.3593e-02, -1.7227e-02, -4.7323e-04,  1.0683e-01, -1.9513e-03,\n",
      "         4.2735e-02,  3.7126e-02,  6.4034e-02,  4.8611e-02,  3.0777e-03,\n",
      "         7.9897e-03, -9.8425e-03, -2.9542e-02, -1.8420e-02,  1.5263e-02,\n",
      "        -3.5363e-03, -3.6814e-02, -1.7874e-02, -9.7021e-02,  9.4446e-02,\n",
      "         2.0630e-02,  4.8080e-03, -3.3389e-02,  1.4166e-01, -1.7238e-02,\n",
      "         7.5092e-02, -6.1286e-02,  7.6142e-03,  7.4802e-03, -3.9445e-02,\n",
      "        -4.0574e-02,  2.7680e-02,  8.6026e-02, -3.9693e-02, -1.3016e-02,\n",
      "         5.5537e-02, -1.5812e-03,  1.1707e-02, -6.9517e-02, -3.8164e-02,\n",
      "         3.9367e-02, -7.4775e-03, -3.3389e-03,  1.3342e-02, -6.6618e-02,\n",
      "        -3.3806e-02, -7.9543e-02,  3.9784e-02,  5.1615e-02, -4.3320e-02,\n",
      "        -6.6764e-02, -6.8667e-03,  4.1976e-02, -3.8962e-02,  1.4454e-02,\n",
      "         1.0274e-02,  3.0945e-02,  2.3656e-02,  2.2275e-02,  7.1061e-02,\n",
      "        -1.0926e-02,  1.5413e-01, -1.5296e-02, -4.9119e-02,  2.9338e-02,\n",
      "         3.6773e-03, -7.1444e-03, -7.9376e-02,  2.2402e-02,  7.5561e-03,\n",
      "        -9.3349e-02, -6.1779e-02,  3.4983e-02, -2.9842e-02, -3.9270e-02,\n",
      "        -9.4179e-02, -2.5182e-03,  3.3099e-03,  2.1977e-02, -4.4147e-03,\n",
      "         6.4012e-03,  4.5274e-03, -3.3279e-02, -9.2053e-04,  1.9797e-02,\n",
      "        -1.1211e-02, -1.0691e-01,  8.7558e-04,  2.6857e-02,  6.6096e-02,\n",
      "        -5.8605e-02, -4.0467e-03, -2.2694e-02,  7.3052e-02,  2.7785e-02,\n",
      "         1.4452e-01, -5.4628e-02, -3.6136e-02, -3.4280e-02,  1.5781e-02,\n",
      "         5.8225e-02,  5.7089e-02,  1.3385e-02,  4.6327e-02,  1.4231e-02,\n",
      "        -3.5744e-02, -4.1461e-02,  6.7464e-02, -4.2900e-02,  4.5595e-02,\n",
      "        -6.4285e-03,  1.1200e-02,  3.0985e-02, -9.4669e-03, -6.2722e-03,\n",
      "         5.1573e-02,  4.2132e-02, -6.1921e-03,  3.6251e-02, -3.9455e-02,\n",
      "        -3.4395e-03, -1.2554e-03,  4.8372e-03,  5.3158e-02, -5.6598e-02,\n",
      "         1.0362e-01, -2.8402e-02, -5.3369e-02, -3.6105e-02,  1.2581e-02,\n",
      "         5.1819e-02, -4.9377e-02,  6.5294e-02, -2.8568e-02])\n"
     ]
    }
   ],
   "source": [
    "# Exemplo de embeddings de uma descrição\n",
    "print(X_train_bert_desc[0])"
   ]
  },
  {
   "cell_type": "markdown",
   "id": "9efc0abd",
   "metadata": {},
   "source": [
    "8. Concatenando através de `np.hstack` as features transformadas para treino e teste."
   ]
  },
  {
   "cell_type": "code",
   "execution_count": 21,
   "id": "37bf13b7",
   "metadata": {},
   "outputs": [],
   "source": [
    "X_train_bert_preprocessed = np.hstack((X_train_bert_title,\n",
    "                                       X_train_bert_desc))\n",
    "\n",
    "X_test_bert_preprocessed = np.hstack((X_test_bert_title,\n",
    "                                      X_test_bert_desc))"
   ]
  },
  {
   "cell_type": "markdown",
   "id": "10789bdd",
   "metadata": {},
   "source": [
    "9. Treinando e testando modelo de classificação multiclasse."
   ]
  },
  {
   "cell_type": "code",
   "execution_count": 27,
   "id": "e67e2f3d",
   "metadata": {},
   "outputs": [],
   "source": [
    "# Definindo modelo de classificação\n",
    "model = SVC(class_weight='balanced', random_state=42)\n",
    "\n",
    "# Treinando o modelo com dados de treino\n",
    "model.fit(X_train_bert_preprocessed, y_train_bert)\n",
    "\n",
    "# Testando o modelo nos dados de teste\n",
    "prediction = model.predict(X_test_bert_preprocessed)"
   ]
  },
  {
   "cell_type": "markdown",
   "id": "fbf36d3a",
   "metadata": {},
   "source": [
    "10. Imprimindo relatório das métricas de avaliação e matriz de confusão."
   ]
  },
  {
   "cell_type": "code",
   "execution_count": 28,
   "id": "077e33db",
   "metadata": {},
   "outputs": [
    {
     "name": "stdout",
     "output_type": "stream",
     "text": [
      "\n",
      "Relatório de Classificação:\n",
      "              precision    recall  f1-score   support\n",
      "\n",
      "           0       0.74      0.77      0.76      6140\n",
      "           1       0.53      0.45      0.49      3372\n",
      "           2       0.37      0.43      0.40      1481\n",
      "\n",
      "    accuracy                           0.63     10993\n",
      "   macro avg       0.55      0.55      0.55     10993\n",
      "weighted avg       0.63      0.63      0.63     10993\n",
      "\n",
      "\n",
      "Matriz de Confusão:\n",
      "[[4754  937  449]\n",
      " [1218 1515  639]\n",
      " [ 434  405  642]]\n"
     ]
    }
   ],
   "source": [
    "# Imprimindo métricas de avaliação do modelo\n",
    "print('\\nRelatório de Classificação:')\n",
    "cr_bert = classification_report(y_test_bert, prediction)\n",
    "print(cr_bert)\n",
    "\n",
    "# Imprimindo matriz de confusão\n",
    "print('\\nMatriz de Confusão:')\n",
    "cm_bert = confusion_matrix(y_test_bert, prediction)\n",
    "print(cm_bert)"
   ]
  },
  {
   "cell_type": "code",
   "execution_count": 29,
   "id": "c3b869a3",
   "metadata": {},
   "outputs": [
    {
     "data": {
      "image/png": "[encoded data removed]",
      "text/plain": [
       "<Figure size 500x400 with 2 Axes>"
      ]
     },
     "metadata": {},
     "output_type": "display_data"
    }
   ],
   "source": [
    "# Plotando a matriz de confusão como heatmap\n",
    "labels = ['ALTA', 'BAIXA', 'MEDIA']\n",
    "plot_confusion_matrix(y_test_bert, prediction, labels)"
   ]
  }
 ],
 "metadata": {
  "kernelspec": {
   "display_name": "Python 3 (ipykernel)",
   "language": "python",
   "name": "python3"
  },
  "language_info": {
   "codemirror_mode": {
    "name": "ipython",
    "version": 3
   },
   "file_extension": ".py",
   "mimetype": "text/x-python",
   "name": "python",
   "nbconvert_exporter": "python",
   "pygments_lexer": "ipython3",
   "version": "3.9.13"
  }
 },
 "nbformat": 4,
 "nbformat_minor": 5
}
