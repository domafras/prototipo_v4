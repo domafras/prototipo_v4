{
 "cells": [
  {
   "cell_type": "markdown",
   "id": "d37ad161",
   "metadata": {
    "jp-MarkdownHeadingCollapsed": true,
    "tags": []
   },
   "source": [
    "## BERT Fine-tuned 'average_word_embeddings_glove.6B.300d'"
   ]
  },
  {
   "cell_type": "code",
   "execution_count": 1,
   "id": "74ef3a61",
   "metadata": {},
   "outputs": [
    {
     "name": "stdout",
     "output_type": "stream",
     "text": [
      "Requirement already satisfied: isodate in c:\\users\\domaf\\anaconda3\\lib\\site-packages (0.6.1)\n",
      "Requirement already satisfied: six in c:\\users\\domaf\\anaconda3\\lib\\site-packages (from isodate) (1.16.0)\n",
      "Requirement already satisfied: plotly in c:\\users\\domaf\\anaconda3\\lib\\site-packages (5.9.0)\n",
      "Requirement already satisfied: tenacity>=6.2.0 in c:\\users\\domaf\\anaconda3\\lib\\site-packages (from plotly) (8.0.1)\n"
     ]
    },
    {
     "name": "stderr",
     "output_type": "stream",
     "text": [
      "[nltk_data] Downloading package stopwords to\n",
      "[nltk_data]     C:\\Users\\domaf\\AppData\\Roaming\\nltk_data...\n",
      "[nltk_data]   Package stopwords is already up-to-date!\n"
     ]
    }
   ],
   "source": [
    "# Importando bibliotecas e funções\n",
    "from libs import *\n",
    "from utils import *"
   ]
  },
  {
   "cell_type": "markdown",
   "id": "c979d559",
   "metadata": {},
   "source": [
    "BERT, ou Bidirectional Encoder Representations from Transformers, é um modelo de linguagem pré-treinado que foi introduzido em 2018 pelo Google. Ele é baseado em um modelo de transformador, que é um tipo de rede neural que pode aprender relações entre palavras em uma frase, em vez de apenas uma por uma em ordem.\n",
    "\n",
    "O BERT pode ser usado para uma variedade de tarefas de processamento de linguagem natural (NLP), inclusive para gerar embeddings contextualizadas, que são representações de palavras que levam em consideração o contexto em que a palavra é usada. Isso pode ser útil para uma variedade de tarefas de NLP, pois pode ajudar o modelo a entender o significado de palavras em diferentes contextos.\n",
    "\n",
    "Neste projeto, realizamos o experimento de avaliar o impacto da utilização do BERT ao alimentar nosso modelo de classificação com features textuais (títulos e descrições dos vídeos) e verificar os respectivos resultados. O modelo base da biblioteca `transformers` está disponível no Hugging Face Hub."
   ]
  },
  {
   "cell_type": "markdown",
   "id": "37e7a214",
   "metadata": {},
   "source": [
    "**SentenceTransformers** é um framework estado da arte em Python para embeddings de sentenças, texto e imagens. Ele usa modelos de linguagem pré-treinados para transformar texto em vetores significativos, chamados de embeddings. Essas representações contextualizados podem ser aplicadas em tarefas de processamento de linguagem natural de maneira eficiente. A sua utilização é trivial e mais simples ao comparar com outras bibliotecas e por isso foi escolhida para esse projeto.\n",
    "\n",
    "- Hugging Face:  https://huggingface.co/sentence-transformers\n",
    "- Documentação: https://www.sbert.net/\n",
    "- Artigo: https://arxiv.org/abs/1908.10084"
   ]
  },
  {
   "cell_type": "markdown",
   "id": "d0fabbfb",
   "metadata": {},
   "source": [
    "1. Instalando a biblioteca `sentence-transformers`"
   ]
  },
  {
   "cell_type": "code",
   "execution_count": 2,
   "id": "8b1d121c",
   "metadata": {},
   "outputs": [],
   "source": [
    "# Instalando framework via pip\n",
    "#!pip install -U sentence-transformers"
   ]
  },
  {
   "cell_type": "markdown",
   "id": "336e3438",
   "metadata": {},
   "source": [
    "2. Importando bibliotecas necessárias para tarefa de gerar representações textuais (embeddings)"
   ]
  },
  {
   "cell_type": "code",
   "execution_count": 3,
   "id": "53143149",
   "metadata": {},
   "outputs": [],
   "source": [
    "# Sentence-transformers\n",
    "from sentence_transformers import SentenceTransformer"
   ]
  },
  {
   "cell_type": "markdown",
   "id": "ee8ccb17",
   "metadata": {},
   "source": [
    "3. Carregando base de dados em um DataFrame do Pandas"
   ]
  },
  {
   "cell_type": "code",
   "execution_count": 4,
   "id": "99f4a472",
   "metadata": {},
   "outputs": [],
   "source": [
    "# Definindo dataframe preprocessado antes dos pipelines\n",
    "df_bert = pd.read_csv('data/data1.csv') # data1 (texto bruto) ou data2 ou data3 (texto preprocessado)"
   ]
  },
  {
   "cell_type": "code",
   "execution_count": 5,
   "id": "a547b8c6",
   "metadata": {},
   "outputs": [],
   "source": [
    "# Amostra de 10%\n",
    "#df_bert = df_bert.sample(frac=0.1, random_state=42) "
   ]
  },
  {
   "cell_type": "code",
   "execution_count": 6,
   "id": "b4892788",
   "metadata": {},
   "outputs": [
    {
     "data": {
      "text/plain": [
       "(36642, 18)"
      ]
     },
     "execution_count": 6,
     "metadata": {},
     "output_type": "execute_result"
    }
   ],
   "source": [
    "# Dimensões\n",
    "df_bert.shape"
   ]
  },
  {
   "cell_type": "code",
   "execution_count": 7,
   "id": "d1ced18b",
   "metadata": {},
   "outputs": [],
   "source": [
    "# Definindo colunas numéricas, categóricas e textuais\n",
    "numeric_features = ['year', 'video_count', 'view_count_x', 'subscriber_count', \n",
    "                    'aux_status', 'comment_count_y','dislike_count', 'view_count_y',\n",
    "                        'like_count', 'video_duration', 'published_at']\n",
    "\n",
    "categorical_features = ['channel_id','category', 'gender']\n",
    "\n",
    "textual_features = ['video_title', 'video_desc']"
   ]
  },
  {
   "cell_type": "code",
   "execution_count": 8,
   "id": "e7b55b0e",
   "metadata": {},
   "outputs": [],
   "source": [
    "# Substituindo valores nulos por uma string vazia\n",
    "df_bert[textual_features] = df_bert[textual_features].fillna('')"
   ]
  },
  {
   "cell_type": "markdown",
   "id": "68a349a6",
   "metadata": {},
   "source": [
    "4. Divisão dos dados em treino e teste, de maneira a evitar vazamento de dados (data leakage)\n"
   ]
  },
  {
   "cell_type": "code",
   "execution_count": 9,
   "id": "b5234f11",
   "metadata": {},
   "outputs": [],
   "source": [
    "# Definindo características e alvo\n",
    "#X = df_bert[textual_features + categorical_features]\n",
    "X = df_bert[textual_features]\n",
    "y = df_bert['popularity']\n",
    "\n",
    "X_train_bert, X_test_bert, y_train_bert, y_test_bert = train_test_split(X, y, test_size=0.3, random_state=42)"
   ]
  },
  {
   "cell_type": "code",
   "execution_count": 10,
   "id": "fc7f12c1",
   "metadata": {},
   "outputs": [
    {
     "data": {
      "text/plain": [
       "\"\\n# Aplicando OneHotEncoder nas colunas categóricas com handle_unknown='ignore'\\nencoder = OneHotEncoder(handle_unknown='ignore')\\n\\nX_train_bert_categorical = encoder.fit_transform(X_train_bert[categorical_features])\\nX_test_bert_categorical = encoder.transform(X_test_bert[categorical_features])\\n\\n# 3 features categóricas representadas em matriz esparsa\\nprint(X_train_bert_categorical[0])\\n\\n# 3 features categóricas representadas em matriz densa\\nprint(X_train_bert_categorical.toarray()[0])\\n\\n# Transformando as features categóricas em matriz densa (array) para combinar com outras features no futuro\\nX_train_bert_categorical = X_train_bert_categorical.toarray()\\nX_test_bert_categorical = X_test_bert_categorical.toarray()\\n\""
      ]
     },
     "execution_count": 10,
     "metadata": {},
     "output_type": "execute_result"
    }
   ],
   "source": [
    "\"\"\"\n",
    "# Aplicando OneHotEncoder nas colunas categóricas com handle_unknown='ignore'\n",
    "encoder = OneHotEncoder(handle_unknown='ignore')\n",
    "\n",
    "X_train_bert_categorical = encoder.fit_transform(X_train_bert[categorical_features])\n",
    "X_test_bert_categorical = encoder.transform(X_test_bert[categorical_features])\n",
    "\n",
    "# 3 features categóricas representadas em matriz esparsa\n",
    "print(X_train_bert_categorical[0])\n",
    "\n",
    "# 3 features categóricas representadas em matriz densa\n",
    "print(X_train_bert_categorical.toarray()[0])\n",
    "\n",
    "# Transformando as features categóricas em matriz densa (array) para combinar com outras features no futuro\n",
    "X_train_bert_categorical = X_train_bert_categorical.toarray()\n",
    "X_test_bert_categorical = X_test_bert_categorical.toarray()\n",
    "\"\"\""
   ]
  },
  {
   "cell_type": "markdown",
   "id": "0c4c9dfa",
   "metadata": {},
   "source": [
    "5. Carregando modelo BERT através do framework estado da arte Sentence-Transformers para a criação de representações textuais.\n",
    "\n",
    "- Modelos nativamente disponíveis: [Pretrained Models](https://www.sbert.net/docs/pretrained_models.html#)"
   ]
  },
  {
   "cell_type": "code",
   "execution_count": 11,
   "id": "6e04d331",
   "metadata": {},
   "outputs": [],
   "source": [
    "#PRE_TRAINED_MODEL_NAME = 'distiluse-base-multilingual-cased-v2'\n",
    "#PRE_TRAINED_MODEL_NAME = 'paraphrase-MiniLM-L3-v2'\n",
    "#PRE_TRAINED_MODEL_NAME = 'average_word_embeddings_glove.6B.300d'\n",
    "#PRE_TRAINED_MODEL_NAME = 'all-mpnet-base-v2'\n",
    "#PRE_TRAINED_MODEL_NAME = 'multi-qa-mpnet-base-dot-v1'\n",
    "#PRE_TRAINED_MODEL_NAME = 'all-MiniLM-L12-v2'\n",
    "#PRE_TRAINED_MODEL_NAME = 'paraphrase-MiniLM-L3-v2'\n",
    "#PRE_TRAINED_MODEL_NAME = 'paraphrase-multilingual-MiniLM-L12-v2'\n",
    "#PRE_TRAINED_MODEL_NAME = 'all-roberta-large-v1'\n",
    "#PRE_TRAINED_MODEL_NAME = 'all-MiniLM-L6-v2'"
   ]
  },
  {
   "cell_type": "code",
   "execution_count": 12,
   "id": "dcfe506f",
   "metadata": {},
   "outputs": [],
   "source": [
    "# Definindo modelo pré treinado a ser utilizado\n",
    "PRE_TRAINED_MODEL_NAME = 'prototipo_v4_extra/finetuned_model3'\n",
    "\n",
    "bert_model = SentenceTransformer(PRE_TRAINED_MODEL_NAME)"
   ]
  },
  {
   "cell_type": "code",
   "execution_count": 13,
   "id": "ae9577ca",
   "metadata": {},
   "outputs": [],
   "source": [
    "# Definindo valores dos títulos de treino e de teste\n",
    "bert_title_train = X_train_bert['video_title'].values\n",
    "bert_title_test = X_test_bert['video_title'].values"
   ]
  },
  {
   "cell_type": "code",
   "execution_count": 14,
   "id": "c7186d4e",
   "metadata": {},
   "outputs": [
    {
     "data": {
      "text/plain": [
       "'GALAXY A20 vs MOTO G8 PLAY: quando a FALTA DE MEMÓRIA põe TUDO A PERDER'"
      ]
     },
     "execution_count": 14,
     "metadata": {},
     "output_type": "execute_result"
    }
   ],
   "source": [
    "# Exemplo de título separado para treino\n",
    "bert_title_train[0]"
   ]
  },
  {
   "cell_type": "code",
   "execution_count": 15,
   "id": "fe174dd5",
   "metadata": {},
   "outputs": [],
   "source": [
    "# Definindo valores das descrições de treino e de teste\n",
    "bert_desc_train = X_train_bert['video_desc'].values\n",
    "bert_desc_test = X_test_bert['video_desc'].values"
   ]
  },
  {
   "cell_type": "code",
   "execution_count": 16,
   "id": "8f12c573",
   "metadata": {},
   "outputs": [
    {
     "data": {
      "text/plain": [
       "'Inscreva-se para mais vídeos: https://www.youtube.com/user/TudoCelular?sub_confirmation=1 Ofertas Moto G8 Play: ...'"
      ]
     },
     "execution_count": 16,
     "metadata": {},
     "output_type": "execute_result"
    }
   ],
   "source": [
    "# Exemplo de descrição separado para treino\n",
    "bert_desc_train[0]"
   ]
  },
  {
   "cell_type": "code",
   "execution_count": 17,
   "id": "f50b74e9",
   "metadata": {},
   "outputs": [
    {
     "data": {
      "application/vnd.jupyter.widget-view+json": {
       "model_id": "428306978fd5461c9598018f13fa1312",
       "version_major": 2,
       "version_minor": 0
      },
      "text/plain": [
       "Batches:   0%|          | 0/201 [00:00<?, ?it/s]"
      ]
     },
     "metadata": {},
     "output_type": "display_data"
    },
    {
     "data": {
      "application/vnd.jupyter.widget-view+json": {
       "model_id": "0c5c57eb820841378c71cec8a75fa8c3",
       "version_major": 2,
       "version_minor": 0
      },
      "text/plain": [
       "Batches:   0%|          | 0/86 [00:00<?, ?it/s]"
      ]
     },
     "metadata": {},
     "output_type": "display_data"
    }
   ],
   "source": [
    "# Gerando as representações textuais (embeddings) dos títulos através de encode()\n",
    "X_train_bert_title = bert_model.encode(bert_title_train,\n",
    "                                       convert_to_tensor=True,\n",
    "                                       normalize_embeddings=True,\n",
    "                                       batch_size=128,\n",
    "                                       show_progress_bar=True)\n",
    "\n",
    "X_test_bert_title = bert_model.encode(bert_title_test,\n",
    "                                      convert_to_tensor=True,\n",
    "                                      normalize_embeddings=True,\n",
    "                                      batch_size=128,\n",
    "                                      show_progress_bar=True)"
   ]
  },
  {
   "cell_type": "code",
   "execution_count": 18,
   "id": "ce21a1e4",
   "metadata": {},
   "outputs": [
    {
     "name": "stdout",
     "output_type": "stream",
     "text": [
      "tensor([-0.0187,  0.0087, -0.0238, -0.0737, -0.0737,  0.0310, -0.0609, -0.0035,\n",
      "        -0.0044,  0.0283,  0.0604,  0.0336,  0.1061, -0.0640, -0.0043, -0.1195,\n",
      "        -0.0498,  0.1294,  0.0258,  0.0884,  0.0263,  0.0193, -0.0888, -0.0489,\n",
      "         0.1851, -0.0320,  0.0511,  0.0219,  0.0262, -0.0513, -0.0045,  0.0054,\n",
      "         0.0759,  0.0084,  0.0422, -0.0772, -0.0430,  0.0388, -0.0367,  0.0349,\n",
      "         0.0044,  0.0645, -0.0250, -0.0564,  0.0013, -0.0260,  0.0692,  0.0208,\n",
      "        -0.0175, -0.0382, -0.0024,  0.0790, -0.0258,  0.0412, -0.0853, -0.0394,\n",
      "        -0.0245, -0.0553,  0.0585, -0.0555, -0.0465,  0.0858, -0.2046, -0.0140,\n",
      "        -0.0124,  0.1127,  0.0433,  0.0571,  0.0464, -0.1147, -0.0481,  0.1288,\n",
      "         0.0375,  0.0033, -0.0156,  0.0277, -0.0950, -0.0931, -0.0176, -0.0306,\n",
      "         0.0793, -0.0324,  0.0253, -0.0483, -0.0383, -0.1166, -0.0602, -0.0249,\n",
      "        -0.0212, -0.0687,  0.0503, -0.0468,  0.0736, -0.0516,  0.0416,  0.0269,\n",
      "         0.0814, -0.0620, -0.0146,  0.0635, -0.0438, -0.0559, -0.0436,  0.0644,\n",
      "         0.0929, -0.0483, -0.0536,  0.0317, -0.0058, -0.0529, -0.0149, -0.0223,\n",
      "         0.0431,  0.0440,  0.0216, -0.0732,  0.0172,  0.1133, -0.0343,  0.0425,\n",
      "         0.0429, -0.0712,  0.0542,  0.0423,  0.0269, -0.0411, -0.0834,  0.0387,\n",
      "        -0.0041, -0.0702, -0.0329, -0.0543, -0.0289,  0.0087,  0.0707, -0.0029,\n",
      "         0.0402, -0.0840, -0.0004, -0.1060,  0.0003, -0.0313,  0.0133, -0.0483,\n",
      "         0.0731, -0.0307, -0.0297,  0.0103,  0.0085, -0.0385, -0.1430, -0.0615,\n",
      "        -0.0044,  0.0758, -0.0098, -0.0544,  0.1066,  0.0060, -0.0822, -0.0252,\n",
      "        -0.0924,  0.0181, -0.1060, -0.0839, -0.0361,  0.0508, -0.0428, -0.0342,\n",
      "        -0.0585, -0.0847,  0.0243, -0.0403, -0.0034, -0.0103, -0.0018, -0.1063,\n",
      "         0.0179,  0.0931,  0.0915,  0.0343, -0.0038,  0.0239, -0.0418, -0.0817,\n",
      "         0.0093, -0.0099, -0.0370, -0.0346,  0.0040, -0.0226,  0.0135,  0.0717,\n",
      "         0.0629,  0.0614, -0.0397, -0.0578,  0.0699, -0.0658,  0.0837, -0.0547,\n",
      "         0.0491,  0.0658, -0.0375,  0.0271,  0.0202, -0.0280, -0.0300, -0.0452,\n",
      "        -0.0995, -0.0181, -0.0216,  0.0015, -0.0322,  0.0402, -0.0732, -0.0268,\n",
      "        -0.0039, -0.0114,  0.0158,  0.0073, -0.1063,  0.0086, -0.0094,  0.0511,\n",
      "         0.0189,  0.0036,  0.0094,  0.1181,  0.0061,  0.0812,  0.0122, -0.0933,\n",
      "         0.0154, -0.0379,  0.0338, -0.0083,  0.0222,  0.0786,  0.1143,  0.0854,\n",
      "        -0.0527, -0.0914, -0.0642, -0.0007,  0.1414,  0.0624, -0.0832, -0.0084,\n",
      "         0.0413, -0.0237, -0.0191, -0.0477, -0.0013,  0.1390, -0.1586,  0.0165,\n",
      "         0.0038,  0.0221,  0.0292, -0.0725,  0.0573, -0.0280, -0.0253, -0.0149,\n",
      "        -0.0123,  0.0782,  0.0225,  0.0102,  0.0104, -0.0382,  0.0131, -0.0514,\n",
      "         0.0099, -0.0982,  0.0127, -0.0016,  0.0194,  0.0603,  0.0435, -0.0129,\n",
      "         0.0152,  0.0243, -0.0469,  0.0200,  0.0530, -0.0680,  0.0379, -0.0569,\n",
      "         0.0367, -0.0155, -0.0187,  0.1769, -0.1191, -0.0178,  0.0008,  0.0305,\n",
      "         0.0134, -0.0541,  0.0225, -0.0518])\n"
     ]
    }
   ],
   "source": [
    "# Exemplo de embeddings de um título\n",
    "print(X_train_bert_title[0])"
   ]
  },
  {
   "cell_type": "code",
   "execution_count": 19,
   "id": "a0b6bb53",
   "metadata": {},
   "outputs": [
    {
     "data": {
      "application/vnd.jupyter.widget-view+json": {
       "model_id": "b2d2afe5bf0c4955942a7b6de7b17e21",
       "version_major": 2,
       "version_minor": 0
      },
      "text/plain": [
       "Batches:   0%|          | 0/201 [00:00<?, ?it/s]"
      ]
     },
     "metadata": {},
     "output_type": "display_data"
    },
    {
     "data": {
      "application/vnd.jupyter.widget-view+json": {
       "model_id": "d0b6ee5157f747a2ac66d496ee2d6848",
       "version_major": 2,
       "version_minor": 0
      },
      "text/plain": [
       "Batches:   0%|          | 0/86 [00:00<?, ?it/s]"
      ]
     },
     "metadata": {},
     "output_type": "display_data"
    }
   ],
   "source": [
    "# Gerando as representações textuais (embeddings) das descrições através de encode()\n",
    "X_train_bert_desc = bert_model.encode(bert_desc_train,\n",
    "                                       convert_to_tensor=True,\n",
    "                                       normalize_embeddings=True,\n",
    "                                       batch_size=128,\n",
    "                                       show_progress_bar=True)\n",
    "\n",
    "X_test_bert_desc = bert_model.encode(bert_desc_test,\n",
    "                                      convert_to_tensor=True,\n",
    "                                      normalize_embeddings=True,\n",
    "                                      batch_size=128,\n",
    "                                      show_progress_bar=True)"
   ]
  },
  {
   "cell_type": "code",
   "execution_count": 20,
   "id": "5bbfbabd",
   "metadata": {},
   "outputs": [
    {
     "name": "stdout",
     "output_type": "stream",
     "text": [
      "tensor([ 0.0173, -0.0153, -0.1371, -0.0652, -0.0871,  0.0225, -0.1482,  0.0514,\n",
      "        -0.0489, -0.1292,  0.0574,  0.0024,  0.0427,  0.0362,  0.0242, -0.0322,\n",
      "        -0.0905,  0.1275,  0.0762, -0.0231, -0.0506,  0.0312, -0.0713, -0.0367,\n",
      "         0.1300,  0.0049,  0.1097,  0.0110,  0.0524, -0.0261, -0.0197,  0.0427,\n",
      "        -0.0024, -0.0134, -0.0151, -0.0536,  0.0428, -0.0135, -0.0585,  0.0028,\n",
      "        -0.0493, -0.0413, -0.0842, -0.0591, -0.0663, -0.0080,  0.0873,  0.0452,\n",
      "        -0.0622,  0.0115,  0.0417,  0.0316,  0.0616,  0.0370, -0.1059,  0.0798,\n",
      "        -0.0048, -0.0449,  0.0687, -0.0262, -0.0143,  0.0854, -0.1558, -0.0171,\n",
      "        -0.0355,  0.0486,  0.1027,  0.0448, -0.0311, -0.0813, -0.0149,  0.0469,\n",
      "         0.0025, -0.0364, -0.0274, -0.0650, -0.0131, -0.0409,  0.0297, -0.0339,\n",
      "         0.0626, -0.0048,  0.0907,  0.0225, -0.0221, -0.0135, -0.1248,  0.0498,\n",
      "        -0.0431, -0.0989,  0.0410, -0.0469,  0.0374, -0.0651,  0.0187,  0.0518,\n",
      "        -0.0427, -0.0509, -0.0635, -0.0038, -0.0172, -0.0503, -0.0335,  0.0787,\n",
      "         0.0167, -0.0560, -0.0432,  0.0743,  0.0010, -0.0502,  0.0095, -0.1024,\n",
      "        -0.0188, -0.0105,  0.0744, -0.0683,  0.0848,  0.0743,  0.0533,  0.0042,\n",
      "         0.0244, -0.0090,  0.0854, -0.0675,  0.0085, -0.0556, -0.0213,  0.1143,\n",
      "         0.0236, -0.0288, -0.0139,  0.0026, -0.0778, -0.0204, -0.0321, -0.0137,\n",
      "         0.0199, -0.0097, -0.0741, -0.0507, -0.0731, -0.0005,  0.0009, -0.0432,\n",
      "        -0.0708, -0.0174,  0.0221,  0.0560, -0.0114,  0.0657, -0.0546, -0.0501,\n",
      "        -0.0094,  0.0342,  0.0409, -0.0757,  0.0529,  0.0054, -0.0253,  0.0073,\n",
      "        -0.0346, -0.0340, -0.1003, -0.0629, -0.0588, -0.0291, -0.0502,  0.0744,\n",
      "        -0.0429, -0.0521, -0.0045,  0.0303, -0.1027,  0.0050,  0.0261, -0.0773,\n",
      "         0.0058,  0.1163,  0.0808,  0.0971, -0.0069,  0.0504,  0.0661, -0.0629,\n",
      "        -0.0381, -0.0018, -0.1151, -0.0198, -0.0068,  0.0505, -0.0414,  0.0220,\n",
      "         0.0755,  0.0251,  0.0188, -0.0089,  0.0408,  0.0314,  0.1128, -0.0458,\n",
      "         0.1587,  0.0549, -0.0354, -0.0330,  0.0561,  0.0397, -0.0128,  0.0446,\n",
      "        -0.0903, -0.0731, -0.0088,  0.0362,  0.0222,  0.0649, -0.0681,  0.0641,\n",
      "         0.0572, -0.0219,  0.0012, -0.0143, -0.0763,  0.0309,  0.0403,  0.0593,\n",
      "         0.0359, -0.0448, -0.0018,  0.0823, -0.0482,  0.0134,  0.0915, -0.0983,\n",
      "         0.0149, -0.0803,  0.0709, -0.0246,  0.0205, -0.0007,  0.0225,  0.0381,\n",
      "        -0.0407, -0.0553, -0.0380,  0.0503,  0.1130,  0.0963, -0.0465,  0.0417,\n",
      "         0.0086, -0.0277, -0.0262, -0.0469,  0.0405,  0.0592,  0.0099,  0.0136,\n",
      "         0.0124,  0.0327, -0.0100, -0.0677,  0.0766, -0.1070, -0.0253,  0.0305,\n",
      "        -0.0599,  0.0262,  0.0558,  0.0342,  0.0497, -0.0082,  0.0443,  0.0044,\n",
      "         0.0338, -0.0171,  0.0470,  0.0170, -0.2194,  0.1176,  0.1146, -0.0099,\n",
      "        -0.0098, -0.0863, -0.0919,  0.0741,  0.0528,  0.0119,  0.0416, -0.0395,\n",
      "         0.0230,  0.0632, -0.0293,  0.0094, -0.0871,  0.0029,  0.0420, -0.0326,\n",
      "        -0.0072, -0.1101, -0.0829,  0.0470])\n"
     ]
    }
   ],
   "source": [
    "# Exemplo de embeddings de uma descrição\n",
    "print(X_train_bert_desc[0])"
   ]
  },
  {
   "cell_type": "markdown",
   "id": "9efc0abd",
   "metadata": {},
   "source": [
    "8. Concatenando através de `np.hstack` as features transformadas para treino e teste."
   ]
  },
  {
   "cell_type": "code",
   "execution_count": 21,
   "id": "37bf13b7",
   "metadata": {},
   "outputs": [],
   "source": [
    "X_train_bert_preprocessed = np.hstack((X_train_bert_title,\n",
    "                                       X_train_bert_desc))\n",
    "\n",
    "X_test_bert_preprocessed = np.hstack((X_test_bert_title,\n",
    "                                      X_test_bert_desc))"
   ]
  },
  {
   "cell_type": "markdown",
   "id": "10789bdd",
   "metadata": {},
   "source": [
    "9. Treinando e testando modelo de classificação multiclasse."
   ]
  },
  {
   "cell_type": "code",
   "execution_count": 22,
   "id": "e67e2f3d",
   "metadata": {},
   "outputs": [],
   "source": [
    "# Definindo modelo de classificação\n",
    "model = SVC(class_weight='balanced', random_state=42)\n",
    "\n",
    "# Treinando o modelo com dados de treino\n",
    "model.fit(X_train_bert_preprocessed, y_train_bert)\n",
    "\n",
    "# Testando o modelo nos dados de teste\n",
    "prediction = model.predict(X_test_bert_preprocessed)"
   ]
  },
  {
   "cell_type": "markdown",
   "id": "fbf36d3a",
   "metadata": {},
   "source": [
    "10. Imprimindo relatório das métricas de avaliação e matriz de confusão."
   ]
  },
  {
   "cell_type": "code",
   "execution_count": 23,
   "id": "077e33db",
   "metadata": {},
   "outputs": [
    {
     "name": "stdout",
     "output_type": "stream",
     "text": [
      "\n",
      "Relatório de Classificação:\n",
      "              precision    recall  f1-score   support\n",
      "\n",
      "        ALTA       0.35      0.52      0.42      1481\n",
      "       BAIXA       0.77      0.68      0.72      6140\n",
      "       MEDIA       0.49      0.49      0.49      3372\n",
      "\n",
      "    accuracy                           0.60     10993\n",
      "   macro avg       0.54      0.56      0.54     10993\n",
      "weighted avg       0.63      0.60      0.61     10993\n",
      "\n",
      "\n",
      "Matriz de Confusão:\n",
      "[[ 770  268  443]\n",
      " [ 683 4162 1295]\n",
      " [ 770  948 1654]]\n"
     ]
    }
   ],
   "source": [
    "# Imprimindo métricas de avaliação do modelo\n",
    "print('\\nRelatório de Classificação:')\n",
    "cr_bert = classification_report(y_test_bert, prediction)\n",
    "print(cr_bert)\n",
    "\n",
    "# Imprimindo matriz de confusão\n",
    "print('\\nMatriz de Confusão:')\n",
    "cm_bert = confusion_matrix(y_test_bert, prediction)\n",
    "print(cm_bert)"
   ]
  },
  {
   "cell_type": "code",
   "execution_count": 24,
   "id": "c3b869a3",
   "metadata": {},
   "outputs": [
    {
     "data": {
      "image/png": "[encoded data removed]",
      "text/plain": [
       "<Figure size 500x400 with 2 Axes>"
      ]
     },
     "metadata": {},
     "output_type": "display_data"
    }
   ],
   "source": [
    "# Plotando a matriz de confusão como heatmap\n",
    "labels = ['ALTA', 'BAIXA', 'MEDIA']\n",
    "plot_confusion_matrix(y_test_bert, prediction, labels)"
   ]
  }
 ],
 "metadata": {
  "kernelspec": {
   "display_name": "Python 3 (ipykernel)",
   "language": "python",
   "name": "python3"
  },
  "language_info": {
   "codemirror_mode": {
    "name": "ipython",
    "version": 3
   },
   "file_extension": ".py",
   "mimetype": "text/x-python",
   "name": "python",
   "nbconvert_exporter": "python",
   "pygments_lexer": "ipython3",
   "version": "3.9.13"
  }
 },
 "nbformat": 4,
 "nbformat_minor": 5
}
