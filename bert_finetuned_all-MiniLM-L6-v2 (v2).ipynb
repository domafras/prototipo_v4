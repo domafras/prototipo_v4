{
 "cells": [
  {
   "cell_type": "markdown",
   "id": "d37ad161",
   "metadata": {
    "jp-MarkdownHeadingCollapsed": true,
    "tags": []
   },
   "source": [
    "## BERT Fine-tuned 'all-MiniLM-L6-v2' (v2)"
   ]
  },
  {
   "cell_type": "code",
   "execution_count": 1,
   "id": "74ef3a61",
   "metadata": {},
   "outputs": [
    {
     "name": "stdout",
     "output_type": "stream",
     "text": [
      "Requirement already satisfied: isodate in c:\\users\\domaf\\anaconda3\\lib\\site-packages (0.6.1)\n",
      "Requirement already satisfied: six in c:\\users\\domaf\\anaconda3\\lib\\site-packages (from isodate) (1.16.0)\n",
      "Requirement already satisfied: plotly in c:\\users\\domaf\\anaconda3\\lib\\site-packages (5.9.0)\n",
      "Requirement already satisfied: tenacity>=6.2.0 in c:\\users\\domaf\\anaconda3\\lib\\site-packages (from plotly) (8.0.1)\n"
     ]
    },
    {
     "name": "stderr",
     "output_type": "stream",
     "text": [
      "[nltk_data] Downloading package stopwords to\n",
      "[nltk_data]     C:\\Users\\domaf\\AppData\\Roaming\\nltk_data...\n",
      "[nltk_data]   Package stopwords is already up-to-date!\n"
     ]
    }
   ],
   "source": [
    "# Importando bibliotecas e funções\n",
    "from libs import *\n",
    "from utils import *"
   ]
  },
  {
   "cell_type": "markdown",
   "id": "c979d559",
   "metadata": {},
   "source": [
    "BERT, ou Bidirectional Encoder Representations from Transformers, é um modelo de linguagem pré-treinado que foi introduzido em 2018 pelo Google. Ele é baseado em um modelo de transformador, que é um tipo de rede neural que pode aprender relações entre palavras em uma frase, em vez de apenas uma por uma em ordem.\n",
    "\n",
    "O BERT pode ser usado para uma variedade de tarefas de processamento de linguagem natural (NLP), inclusive para gerar embeddings contextualizadas, que são representações de palavras que levam em consideração o contexto em que a palavra é usada. Isso pode ser útil para uma variedade de tarefas de NLP, pois pode ajudar o modelo a entender o significado de palavras em diferentes contextos.\n",
    "\n",
    "Neste projeto, realizamos o experimento de avaliar o impacto da utilização do BERT ao alimentar nosso modelo de classificação com features textuais (títulos e descrições dos vídeos) e verificar os respectivos resultados. O modelo base da biblioteca `transformers` está disponível no Hugging Face Hub."
   ]
  },
  {
   "cell_type": "markdown",
   "id": "37e7a214",
   "metadata": {},
   "source": [
    "**SentenceTransformers** é um framework estado da arte em Python para embeddings de sentenças, texto e imagens. Ele usa modelos de linguagem pré-treinados para transformar texto em vetores significativos, chamados de embeddings. Essas representações contextualizados podem ser aplicadas em tarefas de processamento de linguagem natural de maneira eficiente. A sua utilização é trivial e mais simples ao comparar com outras bibliotecas e por isso foi escolhida para esse projeto.\n",
    "\n",
    "- Hugging Face:  https://huggingface.co/sentence-transformers\n",
    "- Documentação: https://www.sbert.net/\n",
    "- Artigo: https://arxiv.org/abs/1908.10084"
   ]
  },
  {
   "cell_type": "markdown",
   "id": "d0fabbfb",
   "metadata": {},
   "source": [
    "1. Instalando a biblioteca `sentence-transformers`"
   ]
  },
  {
   "cell_type": "code",
   "execution_count": 2,
   "id": "8b1d121c",
   "metadata": {},
   "outputs": [],
   "source": [
    "# Instalando framework via pip\n",
    "#!pip install -U sentence-transformers"
   ]
  },
  {
   "cell_type": "markdown",
   "id": "336e3438",
   "metadata": {},
   "source": [
    "2. Importando bibliotecas necessárias para tarefa de gerar representações textuais (embeddings)"
   ]
  },
  {
   "cell_type": "code",
   "execution_count": 3,
   "id": "53143149",
   "metadata": {},
   "outputs": [],
   "source": [
    "# Sentence-transformers\n",
    "from sentence_transformers import SentenceTransformer"
   ]
  },
  {
   "cell_type": "markdown",
   "id": "ee8ccb17",
   "metadata": {},
   "source": [
    "3. Carregando base de dados em um DataFrame do Pandas"
   ]
  },
  {
   "cell_type": "code",
   "execution_count": 4,
   "id": "99f4a472",
   "metadata": {},
   "outputs": [],
   "source": [
    "# Definindo dataframe preprocessado antes dos pipelines\n",
    "df_bert = pd.read_csv('data/data1.csv') # data1 (texto bruto) ou data2 ou data3 (texto preprocessado)"
   ]
  },
  {
   "cell_type": "code",
   "execution_count": 5,
   "id": "a547b8c6",
   "metadata": {},
   "outputs": [],
   "source": [
    "# Amostra de 10%\n",
    "#df_bert = df_bert.sample(frac=0.1, random_state=42) "
   ]
  },
  {
   "cell_type": "code",
   "execution_count": 6,
   "id": "b4892788",
   "metadata": {},
   "outputs": [
    {
     "data": {
      "text/plain": [
       "(36642, 18)"
      ]
     },
     "execution_count": 6,
     "metadata": {},
     "output_type": "execute_result"
    }
   ],
   "source": [
    "# Dimensões\n",
    "df_bert.shape"
   ]
  },
  {
   "cell_type": "code",
   "execution_count": 7,
   "id": "d1ced18b",
   "metadata": {},
   "outputs": [],
   "source": [
    "# Definindo colunas numéricas, categóricas e textuais\n",
    "numeric_features = ['year', 'video_count', 'view_count_x', 'subscriber_count', \n",
    "                    'aux_status', 'comment_count_y','dislike_count', 'view_count_y',\n",
    "                        'like_count', 'video_duration', 'published_at']\n",
    "\n",
    "categorical_features = ['channel_id','category', 'gender']\n",
    "\n",
    "textual_features = ['video_title', 'video_desc']"
   ]
  },
  {
   "cell_type": "code",
   "execution_count": 8,
   "id": "e7b55b0e",
   "metadata": {},
   "outputs": [],
   "source": [
    "# Substituindo valores nulos por uma string vazia\n",
    "df_bert[textual_features] = df_bert[textual_features].fillna('')"
   ]
  },
  {
   "cell_type": "markdown",
   "id": "68a349a6",
   "metadata": {},
   "source": [
    "4. Divisão dos dados em treino e teste, de maneira a evitar vazamento de dados (data leakage)\n"
   ]
  },
  {
   "cell_type": "code",
   "execution_count": 9,
   "id": "b5234f11",
   "metadata": {},
   "outputs": [],
   "source": [
    "# Definindo características e alvo\n",
    "#X = df_bert[textual_features + categorical_features]\n",
    "X = df_bert[textual_features]\n",
    "y = df_bert['popularity']\n",
    "\n",
    "X_train_bert, X_test_bert, y_train_bert, y_test_bert = train_test_split(X, y, test_size=0.3, random_state=42)"
   ]
  },
  {
   "cell_type": "code",
   "execution_count": 10,
   "id": "fc7f12c1",
   "metadata": {},
   "outputs": [
    {
     "data": {
      "text/plain": [
       "\"\\n# Aplicando OneHotEncoder nas colunas categóricas com handle_unknown='ignore'\\nencoder = OneHotEncoder(handle_unknown='ignore')\\n\\nX_train_bert_categorical = encoder.fit_transform(X_train_bert[categorical_features])\\nX_test_bert_categorical = encoder.transform(X_test_bert[categorical_features])\\n\\n# 3 features categóricas representadas em matriz esparsa\\nprint(X_train_bert_categorical[0])\\n\\n# 3 features categóricas representadas em matriz densa\\nprint(X_train_bert_categorical.toarray()[0])\\n\\n# Transformando as features categóricas em matriz densa (array) para combinar com outras features no futuro\\nX_train_bert_categorical = X_train_bert_categorical.toarray()\\nX_test_bert_categorical = X_test_bert_categorical.toarray()\\n\""
      ]
     },
     "execution_count": 10,
     "metadata": {},
     "output_type": "execute_result"
    }
   ],
   "source": [
    "\"\"\"\n",
    "# Aplicando OneHotEncoder nas colunas categóricas com handle_unknown='ignore'\n",
    "encoder = OneHotEncoder(handle_unknown='ignore')\n",
    "\n",
    "X_train_bert_categorical = encoder.fit_transform(X_train_bert[categorical_features])\n",
    "X_test_bert_categorical = encoder.transform(X_test_bert[categorical_features])\n",
    "\n",
    "# 3 features categóricas representadas em matriz esparsa\n",
    "print(X_train_bert_categorical[0])\n",
    "\n",
    "# 3 features categóricas representadas em matriz densa\n",
    "print(X_train_bert_categorical.toarray()[0])\n",
    "\n",
    "# Transformando as features categóricas em matriz densa (array) para combinar com outras features no futuro\n",
    "X_train_bert_categorical = X_train_bert_categorical.toarray()\n",
    "X_test_bert_categorical = X_test_bert_categorical.toarray()\n",
    "\"\"\""
   ]
  },
  {
   "cell_type": "markdown",
   "id": "0c4c9dfa",
   "metadata": {},
   "source": [
    "5. Carregando modelo BERT através do framework estado da arte Sentence-Transformers para a criação de representações textuais.\n",
    "\n",
    "- Modelos nativamente disponíveis: [Pretrained Models](https://www.sbert.net/docs/pretrained_models.html#)"
   ]
  },
  {
   "cell_type": "code",
   "execution_count": 11,
   "id": "6e04d331",
   "metadata": {},
   "outputs": [],
   "source": [
    "#PRE_TRAINED_MODEL_NAME = 'distiluse-base-multilingual-cased-v2'\n",
    "#PRE_TRAINED_MODEL_NAME = 'paraphrase-MiniLM-L3-v2'\n",
    "#PRE_TRAINED_MODEL_NAME = 'average_word_embeddings_glove.6B.300d'\n",
    "#PRE_TRAINED_MODEL_NAME = 'all-mpnet-base-v2'\n",
    "#PRE_TRAINED_MODEL_NAME = 'multi-qa-mpnet-base-dot-v1'\n",
    "#PRE_TRAINED_MODEL_NAME = 'all-MiniLM-L12-v2'\n",
    "#PRE_TRAINED_MODEL_NAME = 'paraphrase-MiniLM-L3-v2'\n",
    "#PRE_TRAINED_MODEL_NAME = 'paraphrase-multilingual-MiniLM-L12-v2'\n",
    "#PRE_TRAINED_MODEL_NAME = 'all-roberta-large-v1'\n",
    "#PRE_TRAINED_MODEL_NAME = 'all-MiniLM-L6-v2'"
   ]
  },
  {
   "cell_type": "code",
   "execution_count": 12,
   "id": "dcfe506f",
   "metadata": {},
   "outputs": [],
   "source": [
    "# Definindo modelo pré treinado a ser utilizado\n",
    "PRE_TRAINED_MODEL_NAME = 'prototipo_v4_extra/finetuned_model'\n",
    "\n",
    "bert_model = SentenceTransformer(PRE_TRAINED_MODEL_NAME)"
   ]
  },
  {
   "cell_type": "code",
   "execution_count": 13,
   "id": "ae9577ca",
   "metadata": {},
   "outputs": [],
   "source": [
    "# Definindo valores dos títulos de treino e de teste\n",
    "bert_title_train = X_train_bert['video_title'].values\n",
    "bert_title_test = X_test_bert['video_title'].values"
   ]
  },
  {
   "cell_type": "code",
   "execution_count": 14,
   "id": "c7186d4e",
   "metadata": {},
   "outputs": [
    {
     "data": {
      "text/plain": [
       "'GALAXY A20 vs MOTO G8 PLAY: quando a FALTA DE MEMÓRIA põe TUDO A PERDER'"
      ]
     },
     "execution_count": 14,
     "metadata": {},
     "output_type": "execute_result"
    }
   ],
   "source": [
    "# Exemplo de título separado para treino\n",
    "bert_title_train[0]"
   ]
  },
  {
   "cell_type": "code",
   "execution_count": 15,
   "id": "fe174dd5",
   "metadata": {},
   "outputs": [],
   "source": [
    "# Definindo valores das descrições de treino e de teste\n",
    "bert_desc_train = X_train_bert['video_desc'].values\n",
    "bert_desc_test = X_test_bert['video_desc'].values"
   ]
  },
  {
   "cell_type": "code",
   "execution_count": 16,
   "id": "8f12c573",
   "metadata": {},
   "outputs": [
    {
     "data": {
      "text/plain": [
       "'Inscreva-se para mais vídeos: https://www.youtube.com/user/TudoCelular?sub_confirmation=1 Ofertas Moto G8 Play: ...'"
      ]
     },
     "execution_count": 16,
     "metadata": {},
     "output_type": "execute_result"
    }
   ],
   "source": [
    "# Exemplo de descrição separado para treino\n",
    "bert_desc_train[0]"
   ]
  },
  {
   "cell_type": "code",
   "execution_count": 17,
   "id": "f50b74e9",
   "metadata": {},
   "outputs": [
    {
     "data": {
      "application/vnd.jupyter.widget-view+json": {
       "model_id": "deee011544bd490487974f066a4e5118",
       "version_major": 2,
       "version_minor": 0
      },
      "text/plain": [
       "Batches:   0%|          | 0/201 [00:00<?, ?it/s]"
      ]
     },
     "metadata": {},
     "output_type": "display_data"
    },
    {
     "data": {
      "application/vnd.jupyter.widget-view+json": {
       "model_id": "f4a911058ac249b983d14ff376069571",
       "version_major": 2,
       "version_minor": 0
      },
      "text/plain": [
       "Batches:   0%|          | 0/86 [00:00<?, ?it/s]"
      ]
     },
     "metadata": {},
     "output_type": "display_data"
    }
   ],
   "source": [
    "# Gerando as representações textuais (embeddings) dos títulos através de encode()\n",
    "X_train_bert_title = bert_model.encode(bert_title_train,\n",
    "                                       convert_to_tensor=True,\n",
    "                                       normalize_embeddings=True,\n",
    "                                       batch_size=128,\n",
    "                                       show_progress_bar=True)\n",
    "\n",
    "X_test_bert_title = bert_model.encode(bert_title_test,\n",
    "                                      convert_to_tensor=True,\n",
    "                                      normalize_embeddings=True,\n",
    "                                      batch_size=128,\n",
    "                                      show_progress_bar=True)"
   ]
  },
  {
   "cell_type": "code",
   "execution_count": 18,
   "id": "ce21a1e4",
   "metadata": {},
   "outputs": [
    {
     "name": "stdout",
     "output_type": "stream",
     "text": [
      "tensor([ 9.1468e-03, -9.3794e-02,  2.0466e-02, -3.8680e-02,  9.0512e-02,\n",
      "        -4.7666e-02, -4.3723e-02, -2.2513e-02, -4.9302e-02, -2.7152e-02,\n",
      "        -4.3644e-02, -4.4970e-02,  1.7828e-02, -5.7914e-02, -1.2802e-01,\n",
      "        -1.8059e-02, -7.3361e-02, -1.8740e-02, -9.0410e-02, -1.8469e-03,\n",
      "        -4.9851e-03, -1.5794e-02, -9.9173e-05,  1.3073e-02,  3.3658e-02,\n",
      "         2.1584e-02,  2.3474e-02, -5.6121e-02, -9.2848e-02,  7.8763e-04,\n",
      "         1.7967e-02,  4.4526e-02,  1.6302e-02, -8.4959e-03, -3.7531e-02,\n",
      "         3.7505e-02, -3.6112e-02, -8.2819e-03,  4.2934e-02, -4.5721e-02,\n",
      "        -6.2231e-02, -2.1323e-02, -2.4082e-02, -8.2396e-02, -4.9268e-02,\n",
      "         6.6101e-03,  1.0465e-01,  5.0355e-02,  1.2076e-01, -2.0972e-02,\n",
      "        -9.1236e-02, -3.3327e-02,  6.0057e-02,  6.3224e-02,  3.8174e-02,\n",
      "         3.9496e-02,  2.7801e-02,  9.6047e-02, -5.4976e-02, -4.1144e-02,\n",
      "        -2.3318e-02,  1.3755e-02,  7.4397e-02,  4.6830e-02, -4.5215e-02,\n",
      "        -5.3639e-03, -1.1192e-02, -8.0213e-02,  8.3775e-03,  2.9514e-04,\n",
      "         5.9107e-02, -3.4331e-02,  1.1773e-01, -1.3934e-02, -1.9043e-02,\n",
      "         3.7934e-04, -4.1459e-02, -1.3998e-02, -7.9312e-03, -3.0340e-02,\n",
      "        -2.4398e-02, -5.7710e-02,  5.4568e-02,  3.5614e-02,  7.9707e-02,\n",
      "         2.2166e-02, -3.7524e-02, -5.0391e-03, -6.0991e-02,  1.6272e-02,\n",
      "         3.9144e-02,  6.1711e-02, -1.8944e-02,  1.2839e-02,  3.1936e-02,\n",
      "         3.8160e-02,  9.8002e-02,  7.8313e-02,  2.7617e-02, -3.3532e-02,\n",
      "         6.6144e-03, -2.8988e-02, -1.7829e-02, -8.3795e-02,  3.1816e-03,\n",
      "        -4.4172e-02,  1.1628e-02,  6.6906e-02,  1.0115e-02,  2.5398e-02,\n",
      "         3.5723e-02, -5.4220e-02,  8.3934e-02,  2.6062e-03,  7.0386e-02,\n",
      "        -2.7999e-02, -4.3928e-02,  5.3252e-02,  4.1332e-02,  2.4143e-02,\n",
      "        -2.0216e-02,  2.4426e-02, -1.1502e-01,  3.3738e-02, -4.8337e-02,\n",
      "        -9.6067e-02,  5.9262e-03,  2.2329e-02,  4.4662e-02, -2.0415e-02,\n",
      "        -5.4796e-02, -2.1413e-02, -6.4190e-02,  4.7225e-02,  7.4737e-02,\n",
      "        -3.5844e-02,  5.3242e-02,  7.7237e-02, -6.0115e-02,  8.3287e-02,\n",
      "         1.7979e-02,  1.5940e-02,  9.7550e-04,  2.6752e-02, -1.0049e-02,\n",
      "         7.6491e-03, -4.2840e-02,  4.8288e-02,  7.1633e-02, -4.1026e-03,\n",
      "        -3.1554e-02,  3.5553e-02, -3.3345e-04, -3.9151e-04,  3.5699e-02,\n",
      "        -2.2415e-02,  3.3912e-02,  3.4339e-02, -1.7936e-03,  5.2142e-02,\n",
      "         8.1595e-03, -2.7566e-02,  2.0185e-02, -2.3033e-02, -3.5382e-02,\n",
      "        -6.7425e-02, -8.1988e-02,  1.4893e-02, -5.4033e-02, -2.0722e-02,\n",
      "         2.9189e-03,  9.7666e-02, -9.2785e-02,  1.7511e-02,  6.5052e-02,\n",
      "         6.5981e-02, -2.4155e-03,  6.0371e-02, -1.5070e-02,  5.8407e-02,\n",
      "        -4.5881e-03,  5.8741e-03, -1.5592e-02,  3.8436e-03, -7.7699e-02,\n",
      "        -1.6391e-02, -4.3361e-02,  4.9785e-03,  7.3309e-02,  9.0894e-03,\n",
      "        -3.4712e-02, -4.0863e-02, -8.8015e-03,  1.3853e-02,  1.6821e-02,\n",
      "         4.6699e-02,  5.4815e-03, -3.2097e-02, -3.3888e-03,  8.5836e-02,\n",
      "        -2.8647e-02, -4.0969e-03,  6.4213e-02,  2.4623e-02, -1.1799e-02,\n",
      "        -4.4032e-02, -5.9556e-03, -7.6538e-03,  1.5682e-02,  3.1950e-02,\n",
      "         7.4929e-02,  8.8684e-03, -1.2704e-02,  3.9772e-02, -7.4054e-02,\n",
      "        -4.4757e-02,  2.4023e-02,  1.2061e-01, -1.0918e-02,  1.5669e-02,\n",
      "         1.5568e-02, -3.1435e-02,  3.7617e-02,  8.9030e-03, -2.2097e-02,\n",
      "        -1.0557e-01, -1.5227e-02,  3.1498e-02,  5.9875e-02,  6.5288e-03,\n",
      "         1.4867e-03,  3.8422e-02, -3.9681e-02,  3.7365e-02,  5.4485e-02,\n",
      "        -1.1122e-01, -7.4801e-03,  9.9251e-02, -1.4941e-03, -1.8787e-02,\n",
      "         5.4211e-03, -6.3140e-02,  5.5691e-02, -9.0883e-02,  4.7374e-02,\n",
      "         3.3356e-02,  6.2728e-02,  3.9601e-02, -3.2042e-03, -1.2749e-02,\n",
      "        -1.4342e-02,  5.1753e-02, -1.3610e-04,  2.7558e-03,  1.1040e-01,\n",
      "         4.7162e-02, -3.6381e-02,  1.0940e-01, -8.4360e-02, -3.4135e-03,\n",
      "         9.5379e-02, -2.9268e-02, -8.5071e-03, -3.0308e-02, -5.4885e-02,\n",
      "         1.7199e-02,  9.5235e-02,  8.3035e-02, -1.8467e-02,  4.7457e-02,\n",
      "         9.8295e-02, -5.0197e-02, -8.9665e-03,  1.1327e-02,  3.1773e-04,\n",
      "         3.4214e-02, -3.3411e-02,  3.5234e-02,  9.4397e-03, -4.1654e-02,\n",
      "        -9.5144e-02, -4.9612e-02,  4.7646e-02,  1.1011e-01,  8.2701e-02,\n",
      "         7.5640e-02, -2.5084e-02, -8.2369e-02,  8.8106e-02, -4.8233e-02,\n",
      "         3.4323e-02, -3.3984e-02,  9.1965e-03, -9.0710e-02,  2.2197e-02,\n",
      "        -4.5103e-02, -6.2166e-03, -1.2954e-01,  5.4230e-02, -4.4659e-02,\n",
      "        -8.5849e-02,  5.2559e-03, -2.2045e-02,  3.9076e-02,  1.1954e-01,\n",
      "         3.0309e-02, -3.1463e-03,  2.5241e-02,  1.7118e-02, -1.8542e-02,\n",
      "         8.5055e-03, -3.1165e-02,  8.1161e-03,  3.7242e-02,  1.4085e-02,\n",
      "         3.2758e-03, -3.9651e-02,  3.8759e-02,  2.8754e-02,  6.6020e-03,\n",
      "         4.6088e-02, -2.8001e-02, -2.6206e-02, -5.0914e-02,  1.1830e-02,\n",
      "         1.0225e-01, -6.3224e-02,  5.4013e-02, -4.4323e-03, -1.3813e-02,\n",
      "        -7.8898e-02, -4.0180e-02, -2.9767e-02,  9.9547e-03,  8.2088e-02,\n",
      "         1.0713e-01, -3.8648e-02, -2.5603e-02, -5.5068e-02,  3.6302e-02,\n",
      "         1.6562e-02, -5.9125e-03, -9.6549e-02,  4.5715e-02,  4.0067e-02,\n",
      "         4.8776e-02,  7.2609e-02,  1.4422e-02,  1.2826e-01, -4.5739e-03,\n",
      "         2.6038e-02,  2.5660e-02,  1.5288e-02, -4.1156e-02, -1.5592e-02,\n",
      "        -2.3435e-02,  1.1195e-01,  2.4853e-02,  8.4326e-02,  7.5848e-03,\n",
      "        -3.8903e-02, -3.4159e-02, -1.9503e-02,  8.3058e-02, -7.0352e-03,\n",
      "        -8.6634e-03,  2.3133e-02, -3.5887e-02,  1.4774e-02, -7.8813e-02,\n",
      "         7.2712e-02, -2.9738e-02,  1.1284e-01, -2.0427e-02,  4.1744e-02,\n",
      "        -3.8912e-02,  6.6491e-02, -4.2359e-02, -1.7560e-02,  9.8314e-02,\n",
      "        -9.7894e-02, -1.7329e-01,  1.5308e-03,  1.3471e-02])\n"
     ]
    }
   ],
   "source": [
    "# Exemplo de embeddings de um título\n",
    "print(X_train_bert_title[0])"
   ]
  },
  {
   "cell_type": "code",
   "execution_count": 19,
   "id": "a0b6bb53",
   "metadata": {},
   "outputs": [
    {
     "data": {
      "application/vnd.jupyter.widget-view+json": {
       "model_id": "f6331773624d4a528dbf68b6326ab7b6",
       "version_major": 2,
       "version_minor": 0
      },
      "text/plain": [
       "Batches:   0%|          | 0/201 [00:00<?, ?it/s]"
      ]
     },
     "metadata": {},
     "output_type": "display_data"
    },
    {
     "data": {
      "application/vnd.jupyter.widget-view+json": {
       "model_id": "d12eeb826e654180a0c7b805df94ca36",
       "version_major": 2,
       "version_minor": 0
      },
      "text/plain": [
       "Batches:   0%|          | 0/86 [00:00<?, ?it/s]"
      ]
     },
     "metadata": {},
     "output_type": "display_data"
    }
   ],
   "source": [
    "# Gerando as representações textuais (embeddings) das descrições através de encode()\n",
    "X_train_bert_desc = bert_model.encode(bert_desc_train,\n",
    "                                       convert_to_tensor=True,\n",
    "                                       normalize_embeddings=True,\n",
    "                                       batch_size=128,\n",
    "                                       show_progress_bar=True)\n",
    "\n",
    "X_test_bert_desc = bert_model.encode(bert_desc_test,\n",
    "                                      convert_to_tensor=True,\n",
    "                                      normalize_embeddings=True,\n",
    "                                      batch_size=128,\n",
    "                                      show_progress_bar=True)"
   ]
  },
  {
   "cell_type": "code",
   "execution_count": 20,
   "id": "5bbfbabd",
   "metadata": {},
   "outputs": [
    {
     "name": "stdout",
     "output_type": "stream",
     "text": [
      "tensor([-3.1901e-02, -3.7166e-03, -8.5532e-02,  9.7073e-02, -2.4248e-05,\n",
      "        -2.7557e-02,  5.2832e-02,  8.4739e-02,  3.0180e-02,  3.5362e-02,\n",
      "         3.8825e-02,  7.1109e-02, -3.3079e-02,  7.0202e-02,  4.4524e-04,\n",
      "         9.6333e-02, -1.8976e-02,  4.1355e-02, -1.2570e-02, -7.1764e-02,\n",
      "        -5.6911e-02,  1.6634e-02,  2.7458e-03,  6.7837e-02, -2.3733e-02,\n",
      "         3.6386e-02,  4.4506e-02, -1.5031e-02, -2.4671e-02,  7.0937e-02,\n",
      "        -3.2918e-02,  2.3464e-02, -6.6058e-02, -7.0857e-02,  7.4401e-02,\n",
      "        -2.9677e-02,  5.7764e-02,  6.7957e-02,  3.5478e-02,  5.8279e-02,\n",
      "        -4.6280e-02,  5.6294e-02, -3.7498e-02, -3.6884e-02,  5.3048e-02,\n",
      "        -7.8236e-02,  1.7760e-02, -3.5922e-02, -4.0182e-03, -1.1143e-02,\n",
      "        -2.3328e-02,  7.6709e-02, -2.8138e-02,  9.0601e-04,  1.3197e-02,\n",
      "        -1.0364e-01,  6.1040e-03, -2.7779e-02, -2.1263e-02, -5.5225e-02,\n",
      "         6.7986e-02, -3.7441e-02, -1.9758e-02, -3.0175e-02,  1.4175e-02,\n",
      "         2.5915e-02, -1.5492e-03, -1.5120e-02,  2.5751e-02,  8.3483e-02,\n",
      "         3.9953e-02,  4.0310e-02,  8.0039e-03,  2.0624e-02,  1.1273e-04,\n",
      "        -6.1847e-02,  7.2885e-02,  1.2494e-02,  8.1767e-02,  3.9673e-02,\n",
      "         6.8694e-02, -1.7566e-02, -5.7935e-02, -7.9416e-02, -2.6733e-02,\n",
      "        -4.2196e-02, -2.4419e-02, -3.4247e-02,  5.4164e-02,  4.9754e-02,\n",
      "        -1.6731e-02,  3.7136e-02, -1.7142e-02,  7.9360e-02, -3.6803e-02,\n",
      "        -1.1143e-01,  1.2049e-02,  1.2543e-02, -5.7097e-02,  9.5397e-02,\n",
      "        -8.4857e-02, -2.9759e-02, -5.1328e-02,  7.7717e-02,  5.2411e-02,\n",
      "        -2.6101e-02, -5.8353e-02, -4.6148e-02,  1.2136e-02, -1.6094e-02,\n",
      "         2.7509e-02, -2.9971e-03,  2.7706e-02,  3.9315e-02,  1.9494e-02,\n",
      "         8.1876e-02,  1.4084e-03,  1.5395e-02, -6.8563e-03,  5.8279e-02,\n",
      "         2.0413e-02, -6.8731e-02,  9.8477e-03, -3.1395e-02,  6.4138e-02,\n",
      "         8.5027e-03, -3.7221e-02,  6.7663e-02, -7.6548e-02,  7.3254e-02,\n",
      "         1.1832e-02,  2.7297e-02, -3.6429e-02,  5.1513e-03, -1.4937e-02,\n",
      "         7.2212e-02, -7.9025e-02,  3.0606e-02,  5.4744e-02,  2.9234e-02,\n",
      "        -4.6038e-02,  7.7617e-02, -6.5209e-02,  3.8911e-02, -4.2306e-02,\n",
      "         6.1283e-02,  1.7461e-03,  8.6548e-03,  4.2239e-02, -7.2479e-02,\n",
      "         3.3701e-02, -1.0342e-01,  1.8753e-02,  7.4824e-02,  8.9221e-03,\n",
      "        -3.1525e-02, -6.6197e-02, -4.4188e-03, -6.4246e-02,  1.7408e-02,\n",
      "        -3.4888e-02,  6.3919e-02,  7.7110e-02, -2.3112e-02,  3.3871e-02,\n",
      "         1.9478e-02,  3.8868e-02, -2.4454e-02, -1.2251e-02,  1.2817e-02,\n",
      "        -2.7203e-02,  4.3327e-02, -6.9381e-03,  2.1023e-02, -3.2353e-02,\n",
      "         3.4067e-02, -1.3142e-02,  1.2473e-02,  8.0851e-02, -5.1007e-02,\n",
      "         7.2062e-02, -3.9271e-02,  2.5364e-02, -8.6173e-02, -1.3566e-02,\n",
      "        -6.7874e-02,  4.9701e-03, -1.9642e-02, -4.1933e-02, -5.9478e-02,\n",
      "        -1.6149e-02,  9.6561e-02,  6.7345e-02, -7.0162e-02,  5.9277e-02,\n",
      "        -8.6714e-02, -6.1031e-02,  9.3010e-05, -3.5061e-02,  1.9990e-02,\n",
      "        -5.5411e-02, -7.4401e-02, -8.1367e-02, -8.7336e-02,  1.6009e-02,\n",
      "         6.6957e-02,  5.2506e-02, -8.4060e-02, -4.9796e-02, -3.2799e-02,\n",
      "        -3.1456e-02, -7.1048e-02,  6.7860e-02, -5.0051e-02, -2.0886e-02,\n",
      "        -2.3026e-02, -4.8245e-02,  3.2005e-02, -1.3205e-02, -6.3949e-02,\n",
      "         7.0362e-02,  7.8240e-02,  6.7504e-02,  7.1852e-02,  2.9540e-02,\n",
      "        -4.0533e-02,  3.6640e-02,  3.5546e-02, -4.4500e-02, -3.8058e-02,\n",
      "         3.3663e-02,  1.2766e-02,  3.2545e-02, -7.6953e-02, -1.0703e-02,\n",
      "        -2.8473e-02,  3.1741e-02,  2.8873e-02, -3.2591e-02,  4.4286e-02,\n",
      "         2.9779e-02, -2.4861e-02, -4.4599e-02,  2.5117e-02, -1.3946e-03,\n",
      "        -4.7315e-02, -8.7935e-02, -3.9431e-02,  5.0668e-02, -7.3197e-02,\n",
      "        -1.0029e-01, -5.8752e-02,  6.0523e-02,  5.4322e-02, -1.2339e-02,\n",
      "         2.9958e-02,  5.2626e-02,  2.0230e-03, -1.4590e-03, -1.0101e-01,\n",
      "         4.0768e-02,  6.9010e-02,  3.7772e-02, -2.2313e-02, -5.0390e-02,\n",
      "         8.0453e-02, -2.7535e-02, -3.7999e-02, -4.5415e-02, -7.8706e-02,\n",
      "         6.3539e-03,  2.3257e-02,  8.1016e-02, -8.5969e-02, -6.3713e-02,\n",
      "        -8.4309e-02, -2.0571e-02, -8.6514e-02, -9.7776e-02, -4.2221e-02,\n",
      "        -3.7362e-02,  7.8896e-02, -7.8341e-02,  8.0735e-03,  2.1446e-03,\n",
      "         3.7081e-02,  3.3056e-02, -1.1322e-03, -2.4166e-02,  4.9378e-02,\n",
      "        -2.3040e-02, -5.7461e-02,  6.5152e-02,  5.8288e-03, -7.5865e-02,\n",
      "         1.0791e-01, -3.5307e-02,  2.8905e-02, -6.0642e-02,  3.7323e-02,\n",
      "        -1.8518e-02, -7.5242e-02, -5.6382e-02, -4.9761e-02,  3.6197e-03,\n",
      "        -4.4277e-02, -3.3585e-02,  2.0891e-02,  2.7182e-02, -6.0854e-02,\n",
      "         3.2140e-02,  3.9417e-02, -7.1329e-02,  8.1609e-02, -3.8876e-02,\n",
      "        -9.3181e-02,  1.0879e-01, -3.3328e-02, -7.2217e-02,  5.2256e-02,\n",
      "        -8.5958e-02, -2.1137e-02,  8.3852e-02,  6.1936e-02,  6.4317e-02,\n",
      "        -2.4979e-02,  5.0308e-02, -1.4985e-04, -8.4203e-02,  4.4848e-02,\n",
      "         2.6461e-02,  2.6431e-02,  5.7784e-02, -7.5734e-02, -1.5585e-02,\n",
      "        -5.2307e-02,  5.8386e-02, -4.5374e-02, -2.3813e-02, -7.6908e-02,\n",
      "         4.7616e-02,  4.0849e-02, -3.5047e-02, -5.6858e-02, -1.4954e-02,\n",
      "        -5.5303e-02,  3.5563e-02, -8.9811e-02,  3.2269e-03,  4.9188e-02,\n",
      "        -7.6982e-02, -8.3758e-02, -1.1752e-02, -2.2920e-05,  4.1778e-02,\n",
      "         1.0753e-02,  1.4386e-02, -6.3105e-02, -7.2990e-03,  3.9921e-02,\n",
      "         3.9971e-02,  3.8691e-02, -6.3433e-02, -7.3156e-02, -6.8599e-03,\n",
      "        -5.9331e-02,  4.2001e-03,  4.9913e-02,  8.7043e-02,  1.2619e-02,\n",
      "        -9.7623e-03, -7.3141e-02,  2.8836e-02,  6.4473e-02, -1.9345e-02,\n",
      "         7.0528e-02, -5.2406e-02,  9.0079e-02,  7.5107e-02,  3.3220e-03,\n",
      "        -1.2299e-02,  1.2014e-02, -5.4564e-02,  5.1008e-02])\n"
     ]
    }
   ],
   "source": [
    "# Exemplo de embeddings de uma descrição\n",
    "print(X_train_bert_desc[0])"
   ]
  },
  {
   "cell_type": "markdown",
   "id": "9efc0abd",
   "metadata": {},
   "source": [
    "8. Concatenando através de `np.hstack` as features transformadas para treino e teste."
   ]
  },
  {
   "cell_type": "code",
   "execution_count": 21,
   "id": "37bf13b7",
   "metadata": {},
   "outputs": [],
   "source": [
    "X_train_bert_preprocessed = np.hstack((X_train_bert_title,\n",
    "                                       X_train_bert_desc))\n",
    "\n",
    "X_test_bert_preprocessed = np.hstack((X_test_bert_title,\n",
    "                                      X_test_bert_desc))"
   ]
  },
  {
   "cell_type": "markdown",
   "id": "10789bdd",
   "metadata": {},
   "source": [
    "9. Treinando e testando modelo de classificação multiclasse."
   ]
  },
  {
   "cell_type": "code",
   "execution_count": 22,
   "id": "e67e2f3d",
   "metadata": {},
   "outputs": [],
   "source": [
    "# Definindo modelo de classificação\n",
    "model = SVC(class_weight='balanced', random_state=42)\n",
    "\n",
    "# Treinando o modelo com dados de treino\n",
    "model.fit(X_train_bert_preprocessed, y_train_bert)\n",
    "\n",
    "# Testando o modelo nos dados de teste\n",
    "prediction = model.predict(X_test_bert_preprocessed)"
   ]
  },
  {
   "cell_type": "markdown",
   "id": "fbf36d3a",
   "metadata": {},
   "source": [
    "10. Imprimindo relatório das métricas de avaliação e matriz de confusão."
   ]
  },
  {
   "cell_type": "code",
   "execution_count": 23,
   "id": "077e33db",
   "metadata": {},
   "outputs": [
    {
     "name": "stdout",
     "output_type": "stream",
     "text": [
      "\n",
      "Relatório de Classificação:\n",
      "              precision    recall  f1-score   support\n",
      "\n",
      "        ALTA       0.47      0.59      0.53      1481\n",
      "       BAIXA       0.87      0.82      0.84      6140\n",
      "       MEDIA       0.63      0.61      0.62      3372\n",
      "\n",
      "    accuracy                           0.73     10993\n",
      "   macro avg       0.66      0.68      0.66     10993\n",
      "weighted avg       0.74      0.73      0.73     10993\n",
      "\n",
      "\n",
      "Matriz de Confusão:\n",
      "[[ 880  146  455]\n",
      " [ 308 5047  785]\n",
      " [ 667  632 2073]]\n"
     ]
    }
   ],
   "source": [
    "# Imprimindo métricas de avaliação do modelo\n",
    "print('\\nRelatório de Classificação:')\n",
    "cr_bert = classification_report(y_test_bert, prediction)\n",
    "print(cr_bert)\n",
    "\n",
    "# Imprimindo matriz de confusão\n",
    "print('\\nMatriz de Confusão:')\n",
    "cm_bert = confusion_matrix(y_test_bert, prediction)\n",
    "print(cm_bert)"
   ]
  },
  {
   "cell_type": "code",
   "execution_count": 24,
   "id": "c3b869a3",
   "metadata": {},
   "outputs": [
    {
     "data": {
      "image/png": "[encoded data removed]",
      "text/plain": [
       "<Figure size 500x400 with 2 Axes>"
      ]
     },
     "metadata": {},
     "output_type": "display_data"
    }
   ],
   "source": [
    "# Plotando a matriz de confusão como heatmap\n",
    "labels = ['ALTA', 'BAIXA', 'MEDIA']\n",
    "plot_confusion_matrix(y_test_bert, prediction, labels)"
   ]
  }
 ],
 "metadata": {
  "kernelspec": {
   "display_name": "Python 3 (ipykernel)",
   "language": "python",
   "name": "python3"
  },
  "language_info": {
   "codemirror_mode": {
    "name": "ipython",
    "version": 3
   },
   "file_extension": ".py",
   "mimetype": "text/x-python",
   "name": "python",
   "nbconvert_exporter": "python",
   "pygments_lexer": "ipython3",
   "version": "3.9.13"
  }
 },
 "nbformat": 4,
 "nbformat_minor": 5
}
