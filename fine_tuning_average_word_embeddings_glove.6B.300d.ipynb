{
 "cells": [
  {
   "cell_type": "markdown",
   "id": "d37ad161",
   "metadata": {
    "jp-MarkdownHeadingCollapsed": true,
    "tags": []
   },
   "source": [
    "## BERT Fine-tuning 'average_word_embeddings_glove.6B.300d'"
   ]
  },
  {
   "cell_type": "code",
   "execution_count": 1,
   "id": "5f67917e",
   "metadata": {},
   "outputs": [
    {
     "name": "stdout",
     "output_type": "stream",
     "text": [
      "Requirement already satisfied: isodate in c:\\users\\domaf\\anaconda3\\lib\\site-packages (0.6.1)\n",
      "Requirement already satisfied: six in c:\\users\\domaf\\anaconda3\\lib\\site-packages (from isodate) (1.16.0)\n",
      "Requirement already satisfied: plotly in c:\\users\\domaf\\anaconda3\\lib\\site-packages (5.9.0)\n",
      "Requirement already satisfied: tenacity>=6.2.0 in c:\\users\\domaf\\anaconda3\\lib\\site-packages (from plotly) (8.0.1)\n"
     ]
    },
    {
     "name": "stderr",
     "output_type": "stream",
     "text": [
      "[nltk_data] Downloading package stopwords to\n",
      "[nltk_data]     C:\\Users\\domaf\\AppData\\Roaming\\nltk_data...\n",
      "[nltk_data]   Package stopwords is already up-to-date!\n"
     ]
    }
   ],
   "source": [
    "# Importando bibliotecas e funções\n",
    "from libs import *\n",
    "from utils import *"
   ]
  },
  {
   "cell_type": "code",
   "execution_count": 2,
   "id": "8b1d121c",
   "metadata": {},
   "outputs": [],
   "source": [
    "# Instalando framework via pip\n",
    "#!pip install -U sentence-transformers"
   ]
  },
  {
   "cell_type": "code",
   "execution_count": 3,
   "id": "53143149",
   "metadata": {},
   "outputs": [],
   "source": [
    "# Sentence-transformers\n",
    "from sentence_transformers import SentenceTransformer, InputExample, losses, evaluation\n",
    "from torch.utils.data import DataLoader"
   ]
  },
  {
   "cell_type": "code",
   "execution_count": 4,
   "id": "99f4a472",
   "metadata": {},
   "outputs": [],
   "source": [
    "# Definindo dataframe preprocessado antes dos pipelines\n",
    "df_bert = pd.read_csv('data/data1.csv') # data1 (texto bruto) ou data2 (texto preprocessado)"
   ]
  },
  {
   "cell_type": "code",
   "execution_count": 5,
   "id": "b4892788",
   "metadata": {},
   "outputs": [
    {
     "data": {
      "text/plain": [
       "(36642, 18)"
      ]
     },
     "execution_count": 5,
     "metadata": {},
     "output_type": "execute_result"
    }
   ],
   "source": [
    "# Dimensões\n",
    "df_bert.shape"
   ]
  },
  {
   "cell_type": "code",
   "execution_count": 6,
   "id": "5826a6a9",
   "metadata": {},
   "outputs": [],
   "source": [
    "# Definindo o mapeamento\n",
    "popularity_mapping = {'BAIXA': 0, 'MEDIA': 1, 'ALTA': 2}\n",
    "\n",
    "# Aplicando a transformação diretamente usando o método replace\n",
    "df_bert['popularity'].replace(popularity_mapping, inplace=True)"
   ]
  },
  {
   "cell_type": "code",
   "execution_count": 7,
   "id": "eb551cc8",
   "metadata": {},
   "outputs": [],
   "source": [
    "# Dividindo a base em treino e teste\n",
    "train_data, test_data = train_test_split(df_bert, test_size=0.3, random_state=42)"
   ]
  },
  {
   "cell_type": "code",
   "execution_count": 8,
   "id": "58d3f07d",
   "metadata": {},
   "outputs": [],
   "source": [
    "# Carregando modelo pré-treinado\n",
    "model = SentenceTransformer('average_word_embeddings_glove.6B.300d') "
   ]
  },
  {
   "cell_type": "code",
   "execution_count": 15,
   "id": "3c6b7832",
   "metadata": {},
   "outputs": [
    {
     "data": {
      "application/vnd.jupyter.widget-view+json": {
       "model_id": "db379903b05c4202930fa31962c8de18",
       "version_major": 2,
       "version_minor": 0
      },
      "text/plain": [
       "Epoch:   0%|          | 0/1 [00:00<?, ?it/s]"
      ]
     },
     "metadata": {},
     "output_type": "display_data"
    },
    {
     "data": {
      "application/vnd.jupyter.widget-view+json": {
       "model_id": "e8f2cc1191f84653ba1e1ec3fdd5c5ba",
       "version_major": 2,
       "version_minor": 0
      },
      "text/plain": [
       "Iteration:   0%|          | 0/1604 [00:00<?, ?it/s]"
      ]
     },
     "metadata": {},
     "output_type": "display_data"
    }
   ],
   "source": [
    "# Definindo treinamento\n",
    "train_examples = [InputExample(texts=[row['video_title'], row['video_desc']],\n",
    "                               label=row['popularity']) for index, row in train_data.iterrows()]\n",
    "\n",
    "train_dataloader = DataLoader(train_examples, shuffle=True, batch_size=16)\n",
    "\n",
    "num_labels = train_data['popularity'].nunique()\n",
    "sentence_embedding_dimension = model.get_sentence_embedding_dimension()\n",
    "train_loss = losses.SoftmaxLoss(model, sentence_embedding_dimension, num_labels)\n",
    "\n",
    "model.fit(train_objectives=[(train_dataloader, train_loss)], epochs=1, warmup_steps=100)"
   ]
  },
  {
   "cell_type": "code",
   "execution_count": 16,
   "id": "aba9279c",
   "metadata": {},
   "outputs": [
    {
     "data": {
      "text/plain": [
       "-0.0068412512112301935"
      ]
     },
     "execution_count": 16,
     "metadata": {},
     "output_type": "execute_result"
    }
   ],
   "source": [
    "# Definindo teste\n",
    "texts1 = test_data['video_title']\n",
    "texts2 = test_data['video_desc']\n",
    "labels = test_data['popularity']\n",
    "\n",
    "evaluator = evaluation.EmbeddingSimilarityEvaluator(texts1.tolist(), texts2.tolist(), labels.tolist())\n",
    "\n",
    "model.evaluate(evaluator)"
   ]
  },
  {
   "cell_type": "code",
   "execution_count": 17,
   "id": "0d8a2de9",
   "metadata": {},
   "outputs": [],
   "source": [
    "model.save('prototipo_v4_extra/finetuned_model3')"
   ]
  },
  {
   "cell_type": "code",
   "execution_count": null,
   "id": "25d576ee",
   "metadata": {},
   "outputs": [],
   "source": []
  },
  {
   "cell_type": "code",
   "execution_count": null,
   "id": "f8f9181a",
   "metadata": {},
   "outputs": [],
   "source": [
    "# encode raw text"
   ]
  },
  {
   "cell_type": "code",
   "execution_count": null,
   "id": "2edcfefc",
   "metadata": {},
   "outputs": [],
   "source": [
    "# feed svc model and reports"
   ]
  }
 ],
 "metadata": {
  "kernelspec": {
   "display_name": "Python 3 (ipykernel)",
   "language": "python",
   "name": "python3"
  },
  "language_info": {
   "codemirror_mode": {
    "name": "ipython",
    "version": 3
   },
   "file_extension": ".py",
   "mimetype": "text/x-python",
   "name": "python",
   "nbconvert_exporter": "python",
   "pygments_lexer": "ipython3",
   "version": "3.9.13"
  }
 },
 "nbformat": 4,
 "nbformat_minor": 5
}
